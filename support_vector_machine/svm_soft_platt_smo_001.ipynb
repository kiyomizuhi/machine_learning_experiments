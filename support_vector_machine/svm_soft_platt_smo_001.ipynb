{
 "cells": [
  {
   "cell_type": "code",
   "execution_count": 8,
   "metadata": {},
   "outputs": [],
   "source": [
    "import numpy as np\n",
    "import pandas as pd\n",
    "import matplotlib.pyplot as plt\n",
    "import sklearn.datasets as sklearn_datasets"
   ]
  },
  {
   "cell_type": "code",
   "execution_count": 3,
   "metadata": {},
   "outputs": [],
   "source": [
    "SEED = 0"
   ]
  },
  {
   "cell_type": "markdown",
   "metadata": {},
   "source": [
    "### Support Vector Machine (inseparable case)\n",
    "\n",
    "Suppose a set of two-class samples $(\\mathbf{x}_{i}, y_{i})$, $y_{i} \\in \\pm1$, $i = 1, \\dots, N$ are in general inseparable with a hyperplane; $f(x) = \\mathbf{w}^{T}\\mathbf{x} + w_{0}$. Adding penalties $\\xi_{i}$,\n",
    "\n",
    "- $\\xi_{i} = 0$ : correctly classified\n",
    "- $0 < \\xi_{i} \\le 1$ : in the margin but correctly classified\n",
    "- $\\xi_{i} > 1$ : beyond the boundary and misclassifed\n",
    "\n",
    "\\begin{eqnarray}\n",
    "y_{i} = 1 \\qquad \\rightarrow \\qquad \\mathbf{w}^{T}\\mathbf{x}_{i} + w_{0} & \\ge & 1 - \\xi_{i}\\\\\n",
    "y_{i} = -1 \\qquad \\rightarrow \\qquad \\mathbf{w}^{T}\\mathbf{x}_{i} + w_{0} & \\le & -1 + \\xi_{i}\n",
    "\\end{eqnarray}\n",
    "\n",
    "The two inequalities can be expressed in a single line,\n",
    "\n",
    "\\begin{eqnarray}\n",
    "y_{i} (\\mathbf{w}^{T}\\mathbf{x}_{i} + w_{0}) & \\ge & 1 - \\xi_{i}\n",
    "\\end{eqnarray}"
   ]
  },
  {
   "cell_type": "markdown",
   "metadata": {},
   "source": [
    "$L(\\alpha, \\xi)$の最適化問題は以下の通り。\n",
    "\n",
    "\\begin{eqnarray}\n",
    "L(\\mathbf{w}, \\xi) & = & \\frac{1}{2}\\mathbf{w}^{T}\\mathbf{w} + C\\sum_{i=1}^{N}\\xi_{i}\\\\\n",
    "\\min_{\\mathbf{w}, \\xi} L(\\mathbf{w}, \\xi) \\quad & subject\\ to & \\quad y_{i} (\\mathbf{w}^{T}x_{i} + w_{0}) - 1 + \\xi_{i} \\ge 0, \\quad \\xi_{i} \\ge 0\n",
    "\\end{eqnarray}\n",
    "\n"
   ]
  },
  {
   "cell_type": "markdown",
   "metadata": {},
   "source": [
    "Introducing Lagrange multipliers $\\alpha_{i}$'s and $\\delta_{i}$'s,\n",
    "\n",
    "\\begin{eqnarray}\n",
    "L(\\mathbf{w}, \\mathbf{w}_{0}, \\xi, \\mathbf{\\alpha}, \\delta) & = & C\\sum_{i = 1}^{N}\\xi_{i} + \\frac{1}{2}\\mathbf{w}^{T}\\mathbf{w} - \\sum_{i = 1}^{N}\\delta_{i}\\xi_{i} - \\sum_{i = 1}^{N} \\mathbf{\\alpha}_{i} \\Big( y_{i} (\\mathbf{w}^{T}x_{i} + w_{0}) - 1 + \\xi_{i}\\Big)\n",
    "\\end{eqnarray}"
   ]
  },
  {
   "cell_type": "markdown",
   "metadata": {},
   "source": [
    ", which satifies the following KKT conditions.\n",
    "\n",
    "\\begin{eqnarray}\n",
    "\\nabla_{\\mathbf{w}} L(\\mathbf{w}, \\mathbf{\\alpha}, w_{0})\\bigg|_{\\mathbf{w}=\\mathbf{w}'} & = & \\mathbf{w}' - \\sum_{i = 1}^{N} \\mathbf{\\alpha}_{i} y_{i} x_{i} = 0\\\\\n",
    "\\nabla_{w_{0}} L(\\mathbf{w}, \\mathbf{\\alpha}, w_{0})\\bigg|_{w_{0}=w_{0}'} & = & \\sum_{i = 1}^{N} \\mathbf{\\alpha}_{i} y_{i} = 0\\\\\n",
    "\\nabla_{\\xi_{i}} L(\\mathbf{w}, \\mathbf{\\alpha}, w_{0})\\bigg|_{\\xi=\\xi'} & = & C - \\mathbf{\\alpha}_{i} - \\delta_{i}= 0\\\\\n",
    "y_{i} (\\mathbf{w}^{T}x_{i} + w_{0}) - 1 + \\xi_{i}& \\ge & 0\\\\\n",
    "\\mathbf{\\alpha}_{i} \\ge 0, \\quad \\xi_{i} \\ge 0, \\quad \\delta_{i} & \\ge & 0 \\\\\n",
    "\\mathbf{\\alpha}_{i} \\Big( y_{i} (\\mathbf{w}^{T}x_{i} + w_{0}) - 1 + \\xi_{i}\\Big) & = & 0\\\\\n",
    "\\delta_{i}\\xi_{i} & = & 0\n",
    "\\end{eqnarray}\n",
    "\n"
   ]
  },
  {
   "cell_type": "markdown",
   "metadata": {},
   "source": [
    "Substituting the solution back into the objective function,\n",
    "\\begin{eqnarray}\n",
    "L(\\mathbf{w}, w_{0}, \\xi, \\mathbf{\\alpha}, \\delta) & = & C\\sum_{i = 1}^{N}\\xi_{i} + \\frac{1}{2}\\mathbf{w}^{T}\\mathbf{w} - \\sum_{i = 1}^{N}\\delta_{i}\\xi_{i} - \\sum_{i = 1}^{N} \\alpha_{i} \\Big( y_{i} (\\mathbf{w}^{T}x_{i} + w_{0}) - 1 + \\xi_{i}\\Big)\\\\\n",
    "& = & \\sum_{i = 1}^{N}(C - \\delta_{i} -\\alpha_{i})\\xi_{i} - \\frac{1}{2}\\mathbf{w}^{T}\\mathbf{w} - \\sum_{i = 1}^{N}\\delta_{i}\\xi_{i} - w_{0}\\sum_{i = 1}^{N} \\alpha_{i}y_{i} + \\sum_{i = 1}^{N} \\alpha_{i}\\\\\n",
    "& = & \\sum_{i = 1}^{N} \\alpha_{i} - \\frac{1}{2}\\mathbf{w}^{T}\\mathbf{w}\\\\\n",
    "& = & \\sum_{i = 1}^{N} \\alpha_{i} -\\frac{1}{2}\\sum_{i = 1}^{N}\\sum_{j = 1}^{N}\\alpha_{i}\\alpha_{j} y_{i} y_{j} x_{i} x_{j}\n",
    "\\end{eqnarray}"
   ]
  },
  {
   "cell_type": "markdown",
   "metadata": {},
   "source": [
    "The optimal solution is\n",
    "\n",
    "\\begin{eqnarray}\n",
    "max_{\\mathbf{\\alpha}} L(\\mathbf{\\alpha}) \\quad& subject\\ to & \\quad \\sum_{i = 1}^{N} \\alpha_{i} y_{i} = 0\\\\\n",
    "&&  C - \\mathbf{\\alpha}_{i} - \\delta_{i} = 0\\\\\n",
    "&& \\alpha_{i} \\ge 0\\\\\n",
    "&& \\delta_{i} \\ge 0\\\\\n",
    "&& \\xi_{i} \\ge 0\\\\\n",
    "&& \\alpha_{i} \\big( y_{i}(\\mathbf{w}^{T} \\mathbf{x}_{i} + w_{0}) - 1 + \\xi_{i}\\big) & = & 0\\\\\n",
    "&& \\delta_{i}\\xi_{i} = 0\n",
    "\\end{eqnarray}\n",
    "\n",
    ", which are reuced to  \n",
    "\n",
    "\\begin{eqnarray}\n",
    "max_{\\mathbf{\\alpha}} L(\\mathbf{\\alpha}) \\quad& subject\\ to & \\quad \\sum_{i = 1}^{N} \\alpha_{i} y_{i} = 0\\\\\n",
    "&&  0 \\le \\mathbf{\\alpha}_{i} \\le C\\\\\n",
    "&& \\alpha_{i} \\big( y_{i}(\\mathbf{w}^{T} \\mathbf{x}_{i} + w_{0}) - 1 + \\xi_{i}\\big) & = & 0\\\\\n",
    "\\end{eqnarray}"
   ]
  },
  {
   "cell_type": "markdown",
   "metadata": {},
   "source": [
    "Introducing Lagrange multipliers, the constrained optimization problem now is \n",
    "\n",
    "- $L(\\mathbf{\\alpha}) + \\lambda \\mathbf{\\alpha}^{T}\\mathbf{y} - \\mathbf{\\mu}^{T}\\mathbf{\\alpha} - \\mathbf{\\nu}^{T}(C\\mathbf{1} - \\mathbf{\\alpha})$\n",
    "\n",
    "with KKT conditions\n",
    "\n",
    "- $\\mu_{i}\\alpha_{i} = 0$\n",
    "- $\\mu_{i} \\le 0$\n",
    "- $\\nu_{i}(C - \\alpha_{i}) = 0$\n",
    "- $\\nu_{i} \\le 0$"
   ]
  },
  {
   "cell_type": "markdown",
   "metadata": {},
   "source": [
    "Taking the derivative with respect to $\\mathbf{\\alpha}$, which is $\\mathbf{0}$ at the optimal point,\n",
    "\n",
    "- $\\nabla_{\\mathbf{\\alpha}}L(\\mathbf{\\alpha}) + \\lambda \\mathbf{y} - \\mathbf{\\mu} + \\mathbf{\\nu} = 0$\n",
    "    - $\\Rightarrow \\nabla_{\\mathbf{\\alpha}}L(\\mathbf{\\alpha}) + \\lambda \\mathbf{y} = \\mathbf{\\mu} - \\mathbf{\\nu} \\le 0$"
   ]
  },
  {
   "cell_type": "markdown",
   "metadata": {},
   "source": [
    "The $i$th data of above is \n",
    "\n",
    "- $y_{i}\\nabla_{i}L(\\mathbf{\\alpha}) + \\lambda y_{i} = \\mu_{i} - \\nu_{i} \\ge 0$\n",
    "    - if $\\alpha_{i} > 0$ \n",
    "        - $\\mu_{i} = 0$\n",
    "        - $\\nu_{i} \\le 0$ ($\\nu_{i} = 0$ if $\\alpha_{i} = C$)\n",
    "- $y_{i}\\nabla_{i}L(\\mathbf{\\alpha}) + \\lambda y_{i} = \\mu_{i} - \\nu_{i} \\le 0$\n",
    "    - if $\\alpha_{i} < C$ \n",
    "        - $\\mu_{i} \\le 0$ ($\\mu_{i} = 0$ if $\\alpha_{i} = 0$)\n",
    "        - $\\nu_{i} = 0$"
   ]
  },
  {
   "cell_type": "markdown",
   "metadata": {},
   "source": [
    "Therefore,\n",
    "- $y_{i}\\nabla_{i}L(\\mathbf{\\alpha}) \\ge y_{i}\\nabla_{i}L(\\mathbf{\\alpha}) - y_{i} (\\mu_{i} - \\nu_{i}) = - \\lambda$\n",
    "    - if $\\alpha_{i} > 0$ and $y_{i} = 1$\n",
    "- $y_{i}\\nabla_{i}L(\\mathbf{\\alpha}) \\ge y_{i}\\nabla_{i}L(\\mathbf{\\alpha}) - y_{i} (\\mu_{i} - \\nu_{i}) = - \\lambda$\n",
    "    - if $\\alpha_{i} < C$ and $y_{i} = -1$\n",
    "- $y_{i}\\nabla_{i}L(\\mathbf{\\alpha}) \\le y_{i}\\nabla_{i}L(\\mathbf{\\alpha}) - y_{i} (\\mu_{i} - \\nu_{i}) = - \\lambda$\n",
    "    - if $\\alpha_{i} > 0$ and $y_{i} = -1$\n",
    "- $y_{i}\\nabla_{i}L(\\mathbf{\\alpha}) \\le y_{i}\\nabla_{i}L(\\mathbf{\\alpha}) - y_{i} (\\mu_{i} - \\nu_{i}) = - \\lambda$\n",
    "    - if $\\alpha_{i} < C$ and $y_{i} = 1$"
   ]
  },
  {
   "cell_type": "markdown",
   "metadata": {},
   "source": [
    "Namely,\n",
    "- $y_{i}\\nabla_{i}L(\\mathbf{\\alpha}) \\ge - \\lambda$\n",
    "    - if $\\alpha_{i} > 0$ and $y_{i} = +1$\n",
    "    - if $\\alpha_{i} < C$ and $y_{i} = -1$\n",
    "- $y_{i}\\nabla_{i}L(\\mathbf{\\alpha}) \\le - \\lambda$\n",
    "    - if $\\alpha_{i} > 0$ and $y_{i} = -1$\n",
    "    - if $\\alpha_{i} < C$ and $y_{i} = +1$"
   ]
  },
  {
   "cell_type": "markdown",
   "metadata": {},
   "source": [
    "In summary,\n",
    "\n",
    "- $\\min_{i \\in I_{-(\\mathbf{y}, \\mathbf{\\alpha})}} y_{i}\\nabla_{i}L(\\mathbf{\\alpha}) \\ge \\max_{i \\in I_{+(\\mathbf{y}, \\mathbf{\\alpha})}} y_{i}\\nabla_{i}L(\\mathbf{\\alpha}) $\n",
    "\n",
    "    - $\\nabla_{i}L(\\mathbf{\\alpha}) = 1 -\\sum_{j = 1}^{N}\\alpha_{j} y_{i} y_{j} \\mathbf{x}^{T}_{i} \\mathbf{x}_{j}$\n",
    "    - $I_{-(\\mathbf{y}, \\mathbf{\\alpha})} = \\{i |$ $(\\alpha_{i} > 0$ and $y_{i} = +1)$ or $(\\alpha_{i} < C$ and $y_{i} = -1)$$\\}$\n",
    "    - $I_{+(\\mathbf{y}, \\mathbf{\\alpha})} = \\{i |$ $(\\alpha_{i} > 0$ and $y_{i} = -1)$ or $(\\alpha_{i} < C$ and $y_{i} = +1)$$\\}$"
   ]
  },
  {
   "cell_type": "code",
   "execution_count": null,
   "metadata": {},
   "outputs": [],
   "source": []
  },
  {
   "cell_type": "markdown",
   "metadata": {},
   "source": [
    "#### Reminder: the sign of Lagrange multiplier\n",
    "\n",
    "- $max_{\\mathbf{\\alpha}} L(\\mathbf{\\alpha}) \\quad subject\\ to \\quad g(\\mathbf{\\alpha}) \\le 0$\n",
    "    - Suppose the optimal solution $\\mathbf{\\alpha}^{*}$ is at the boundary of the feasibility region, where $g(\\mathbf{\\alpha}) = 0$.\n",
    "        - The problem: $max_{\\mathbf{\\alpha}} L(\\mathbf{\\alpha}) + \\lambda g(\\mathbf{\\alpha})$\n",
    "            - $\\nabla_{\\mathbf{\\alpha}}L(\\mathbf{\\alpha}) + \\lambda \\nabla_{\\mathbf{\\alpha}}g(\\mathbf{\\alpha}) = \\mathbf{0}$\n",
    "            - Since the optimal solution appears at the boundary, the maximima of $L(\\mathbf{\\alpha})$ resides at the outside of the feasibility region. Hence, $\\nabla_{\\mathbf{\\alpha}}L(\\mathbf{\\alpha})$ is directed outward with respect to the boundary. Likewise, $g(\\mathbf{\\alpha}) < 0$ inside the feasiblity region and $g(\\mathbf{\\alpha}) = 0$ at the boundary, $\\nabla_{\\mathbf{\\alpha}}g(\\mathbf{\\alpha})$ is also directed outward with respect to the boundary. Hence, $\\nabla_{\\mathbf{\\alpha}}L(\\mathbf{\\alpha})$ and $\\nabla_{\\mathbf{\\alpha}}g(\\mathbf{\\alpha})$ are parallel. In order to satisfy the condition $\\nabla_{\\mathbf{\\alpha}}L(\\mathbf{\\alpha}) + \\lambda \\nabla_{\\mathbf{\\alpha}}g(\\mathbf{\\alpha}) = \\mathbf{0}$, the following must be satisfied.\n",
    "            - $\\lambda \\le 0$\n",
    "\n",
    "- $min_{\\mathbf{\\alpha}} L(\\mathbf{\\alpha}) \\quad subject \\ to \\quad g(\\mathbf{\\alpha}) \\le 0$\n",
    "    - The problem: $min_{\\mathbf{\\alpha}} L(\\mathbf{\\alpha}) + \\lambda g(\\mathbf{\\alpha})$\n",
    "        - $\\nabla_{\\mathbf{\\alpha}}L(\\mathbf{\\alpha}) + \\lambda \\nabla_{\\mathbf{\\alpha}}g(\\mathbf{\\alpha}) = \\mathbf{0}$\n",
    "        - The argument for this minimization problem is the opposite of that for the maximization problem. Hence,\n",
    "        - $\\lambda \\ge 0$"
   ]
  },
  {
   "cell_type": "markdown",
   "metadata": {},
   "source": []
  },
  {
   "cell_type": "markdown",
   "metadata": {},
   "source": [
    "### Sequential Minimal Optimization"
   ]
  },
  {
   "cell_type": "markdown",
   "metadata": {},
   "source": [
    "The objective function can be expressed in terms of a pair of $\\alpha$'s: $\\alpha_{i}$ and $\\alpha_{j}$.\n",
    "\n",
    "\\begin{eqnarray}\n",
    "L(\\mathbf{\\alpha}) & = &　\\sum_{i = 1}^{N} \\alpha_{i} -\\frac{1}{2}\\sum_{i = 1}^{N}\\sum_{j = 1}^{N}\\alpha_{i}\\alpha_{j} y_{i} y_{j} \\mathbf{x}^{T}_{i} \\mathbf{x}_{j}\\\\\n",
    "& = & -\\frac{1}{2}\\alpha_{i}^{2}\\mathbf{x}^{T}_{i}\\mathbf{x}_{i} -\\frac{1}{2}\\alpha_{j}^{2}\\mathbf{x}^{T}_{j}\\mathbf{x}_{j}\\\\\n",
    "&& -\\alpha_{i}\\alpha_{j}y_{i} y_{j}\\mathbf{x}^{T}_{i}\\mathbf{x}_{j}\\\\\n",
    "&& +\\alpha_{i}\\bigg(1 - y_{i}\\mathbf{x}^{T}_{i} \\sum_{k \\neq i,j}\\alpha_{k}y_{k}\\mathbf{x}_{k} \\bigg) +\\alpha_{j}\\bigg(1 - y_{j}\\mathbf{x}^{T}_{j} \\sum_{k \\neq i,j}\\alpha_{k}y_{k}\\mathbf{x}_{k} \\bigg)\\\\\n",
    "&& +\\sum_{k \\neq i,j}\\alpha_{k} -\\frac{1}{2}\\sum_{k \\neq i,j}^{N}\\sum_{l \\neq i,j}^{N}\\alpha_{k}\\alpha_{l} y_{k}y_{l} \\mathbf{x}^{T}_{k} \\mathbf{x}_{l}\\\\\n",
    "& = & A\\alpha_{i}^{2} + B\\alpha_{j}^{2} + C\\alpha_{i}\\alpha_{j} + D\\alpha_{i} + E\\alpha_{j} + F\n",
    "\\end{eqnarray}\n"
   ]
  },
  {
   "cell_type": "markdown",
   "metadata": {},
   "source": [
    "The constraint $\\sum_{i = 1}^{N} \\alpha_{i} y_{i} = 0$ can also be expressed in terms of a pair of $\\alpha$'s: $\\alpha_{i}$ and $\\alpha_{j}$. Note $y_{i}^{2} = 1$.\n",
    "\n",
    "\\begin{eqnarray}\n",
    "0 = \\sum_{i = 1}^{N} \\alpha_{i} y_{i} & = & \\alpha_{i}y_{i} + \\alpha_{j}y_{j} + \\sum_{k \\neq i,j}^{N} \\alpha_{k} y_{k}\\\\\n",
    "& \\equiv & \\alpha_{i}y_{i} + \\alpha_{j}y_{j} + G\\\\\n",
    "\\Rightarrow \\qquad \\alpha_{j} & = & -y_{j}(\\alpha_{i}y_{i} + G)\n",
    "\\end{eqnarray}"
   ]
  },
  {
   "cell_type": "markdown",
   "metadata": {},
   "source": [
    "Substitute this to the objective function:\n",
    "\\begin{eqnarray}\n",
    "Ba_{j}^{2} & = & B y_{j}^{2}(\\alpha_{i}y_{i} + G)^{2}\\\\\n",
    "& = & B (\\alpha_{i}^{2} + 2\\alpha_{i}y_{i}G + G^{2})\\\\\n",
    "C\\alpha_{i}\\alpha_{j} & = & -C \\alpha_{i}y_{j}(\\alpha_{i}y_{i} + G)\\\\\n",
    "& = & -C y_{i}y_{j}\\alpha_{i}^{2} - CG\\alpha_{i}y_{j}\n",
    "\\end{eqnarray}"
   ]
  },
  {
   "cell_type": "markdown",
   "metadata": {},
   "source": [
    "Overall,\n",
    "\n",
    "\\begin{eqnarray}\n",
    "L(\\mathbf{\\alpha}) & = & A\\alpha_{i}^{2} + B\\alpha_{j}^{2} + C\\alpha_{i}\\alpha_{j} + D\\alpha_{i} + E\\alpha_{j} + F\\\\\n",
    "& = & A\\alpha_{i}^{2} + B \\alpha_{i}^{2} + 2 By_{i}G \\alpha_{i} + G^{2}\n",
    "-C y_{i}y_{j}\\alpha_{i}^{2} - CG\\alpha_{i}y_{j} + D\\alpha_{i} - Ey_{i}y_{j}\\alpha_{i} + Gy_{i} + F\\\\\n",
    "& = &  (A + B - C y_{i}y_{j})\\alpha_{i}^{2} + (2 BGy_{i} - CGy_{j} + D - Ey_{i}y_{j})\\alpha_{i} + G^{2} + Gy_{i} + F\\\\\n",
    "& \\equiv &  \\tilde{A}\\alpha_{i}^{2} + 2\\tilde{B}\\alpha_{i} + \\tilde{C}\n",
    "\\end{eqnarray}\n"
   ]
  },
  {
   "cell_type": "markdown",
   "metadata": {},
   "source": [
    "The objective function is minimized when\n",
    "\n",
    "\\begin{eqnarray}\n",
    "\\alpha_{i} & = & -\\frac{\\tilde{B}}{2\\tilde{A}}\\\\\n",
    "\\tilde{A} & = & -\\frac{1}{2}|\\mathbf{x}_{i} - \\mathbf{x}_{j}|^{2}\\\\\n",
    "\\tilde{B} & = & 1 - y_{i}y_{j} + y_{i}(\\mathbf{x}_{i} - \\mathbf{x}_{j})^{T}\\bigg(\\mathbf{x}_{j} \\sum_{k \\neq i,j}^{N} \\alpha_{k} y_{k} - \\sum_{k \\neq i,j}^{N} \\alpha_{k} y_{k}\\mathbf{x}_{k}\\bigg)\n",
    "\\end{eqnarray}"
   ]
  },
  {
   "cell_type": "code",
   "execution_count": 14,
   "metadata": {},
   "outputs": [],
   "source": [
    "from sklearn.base import BaseEstimator, ClassifierMixin\n",
    "from sklearn.utils.validation import check_X_y, check_array, check_is_fitted\n",
    "from sklearn.utils.multiclass import unique_labels\n",
    "\n",
    "class SVM(BaseEstimator, ClassifierMixin):\n",
    "    \"\"\" SVM classifier\"\"\"\n",
    "    def __init__(self, C):\n",
    "        self.C_ = C\n",
    "\n",
    "    def fit(self, X, y):\n",
    "        # Check that X and y have correct shape\n",
    "        X, y = check_X_y(X, y)\n",
    "\n",
    "        # Store the classes seen during fit\n",
    "        self.classes_ = unique_labels(y)\n",
    "\n",
    "        self.X_, self.y_ = X, y\n",
    "        self._initialize_values()\n",
    "        eps = 1e-6\n",
    "        while True:\n",
    "            i, j = self._select_pair_idx()\n",
    "            if self.ydLda1_[i] >= self.ydLda1_[j] - eps:\n",
    "                print(\"done\")\n",
    "                break\n",
    "            ai, aj = self._get_alpha(i, j)\n",
    "            self.a_[i] = ai\n",
    "            self.a_[j] = aj\n",
    "            self._update_alpha()\n",
    "            \n",
    "        self.ws = self.get_ws()\n",
    "        self.w0 = self.get_w0()\n",
    "        return self\n",
    "\n",
    "    def predict(self, X):\n",
    "        # Check is fit had been called\n",
    "        check_is_fitted(self)\n",
    "\n",
    "        # Input validation\n",
    "        X = check_array(X)\n",
    "        closest = np.argmin(euclidean_distances(X, self.X_), axis=1)\n",
    "        return self.y_[closest]\n",
    "\n",
    "    def _initialize_values(self):\n",
    "        self.n_ = self.y_.shape[0]\n",
    "        self.a_ = np.zeros(self.n_)\n",
    "        self.ay1_ = self._get_ay1()\n",
    "        self.ayx2_ = self._get_ayx2()\n",
    "        self.yx3_ = self._get_yx3()\n",
    "        self.yy2_ = self._get_yy2()\n",
    "        self.xdist2_ = self._get_xdist2()\n",
    "        self.dLda1_ = self._get_dLda1()\n",
    "        self.ydLda1_ = self._get_ydLda1()\n",
    "\n",
    "    def _update_alpha(self):\n",
    "        self.ay1_ = self._get_ay1()\n",
    "        self.ayx2_ = self._get_ayx2()\n",
    "        self.dLda1_ = self._get_dLda1()\n",
    "        self.ydLda1_ = self._get_ydLda1()\n",
    "\n",
    "    def _select_pair_idx(self):\n",
    "        filtm = ((self.y_ > 0) & (self.a_ > 0)) | ((self.y_ < 0) & (self.a_ < self.C_))\n",
    "        i = np.where((self.ydLda1_ == self.ydLda1_[filtm].min()) & filtm)[0]\n",
    "        i = np.random.choice(i)\n",
    "            \n",
    "        filtp = ((self.y_ < 0) & (self.a_ > 0)) | ((self.y_ > 0) & (self.a_ < self.C_))\n",
    "        j = np.where((self.ydLda1_ == self.ydLda1_[filtp].max()) & filtp)[0]\n",
    "        j = np.random.choice(j)\n",
    "        return i, j\n",
    "        \n",
    "    def _get_yx3(self):\n",
    "        return self.y_[:, np.newaxis, np.newaxis] * self.X_[np.newaxis, :, :]\n",
    "\n",
    "    def _get_ay1(self):\n",
    "        return self.a_ * self.y_\n",
    "\n",
    "    def _get_ayx2(self):\n",
    "        return self.ay1_[:, np.newaxis] * self.X_\n",
    "\n",
    "    def _get_xdist2(self):\n",
    "        return ((self.X_[:, np.newaxis, :] - self.X_[np.newaxis, :, :]) ** 2).sum(axis=2)\n",
    "\n",
    "    def _get_yy2(self):\n",
    "        return self.y_[:, np.newaxis] * self.y_[np.newaxis, :]\n",
    "\n",
    "    def _get_dLda1(self):\n",
    "        idx = np.arange(self.n_)\n",
    "        yx = self.yx3_[idx, idx, :]\n",
    "        return 1 - np.dot(yx, self.ayx2_.T).sum(axis=1)\n",
    "\n",
    "    def _get_ydLda1(self):\n",
    "        return self.y_ * self.dLda1_\n",
    "\n",
    "    def _get_numerator(self, i, j, idx):\n",
    "        z1 = self.yx3_[i, i, :] - self.yx3_[i, j, :]\n",
    "        z2 = self.ay1_[idx].sum() * self.X_[j, :] - self.ayx2_[idx, :].sum(axis=0)\n",
    "        return 1 - self.yy2_[i, j] + np.dot(z1, z2)\n",
    "\n",
    "    def _get_alpha(self, i, j):\n",
    "        idx = np.delete(np.arange(self.n_), [i, j]).astype(int)\n",
    "        ai = self._get_numerator(i, j, idx) / self.xdist2_[i, j]\n",
    "        if ai < 0:\n",
    "            ai = 0\n",
    "        elif ai > self.C_:\n",
    "            ai = self.C_\n",
    "\n",
    "        aj = - self.y_[j] * (ai * self.y_[i] + self.ay1_[idx].sum())\n",
    "        if aj < 0:\n",
    "            aj = 0\n",
    "            ai = - self.y_[i] * (aj * self.y_[j] + np.dot(self.a_[idx], self.y_[idx]))\n",
    "        elif aj > self.C_:\n",
    "            aj = self.C_\n",
    "            ai = - self.y_[i] * (aj * self.y_[j] + np.dot(self.a_[idx], self.y_[idx]))\n",
    "\n",
    "        return ai, aj\n",
    "    \n",
    "    def get_ws(self):\n",
    "        return np.dot(self.ay1_, self.X_)\n",
    "        \n",
    "    def get_w0(self):\n",
    "        idx = self.a_ > 0\n",
    "        ay = self.ay1_[idx]\n",
    "        x = self.X_[idx, :]\n",
    "        return (self.y_[idx] -\\\n",
    "                np.dot(x, self.ws))\\\n",
    "                .sum()\\\n",
    "                / len(idx[idx])"
   ]
  },
  {
   "cell_type": "code",
   "execution_count": 12,
   "metadata": {},
   "outputs": [
    {
     "ename": "TypeError",
     "evalue": "__init__() missing 1 required positional argument: 'C'",
     "output_type": "error",
     "traceback": [
      "\u001b[0;31m---------------------------------------------------------------------------\u001b[0m",
      "\u001b[0;31mTypeError\u001b[0m                                 Traceback (most recent call last)",
      "\u001b[0;32m<ipython-input-12-54b1aa058bac>\u001b[0m in \u001b[0;36m<module>\u001b[0;34m\u001b[0m\n\u001b[1;32m     15\u001b[0m     \u001b[0mcolors\u001b[0m \u001b[0;34m=\u001b[0m \u001b[0;34m[\u001b[0m\u001b[0;34m\"r\"\u001b[0m \u001b[0;32mif\u001b[0m \u001b[0my_\u001b[0m \u001b[0;34m==\u001b[0m \u001b[0;36m1\u001b[0m \u001b[0;32melse\u001b[0m \u001b[0;34m\"b\"\u001b[0m \u001b[0;32mfor\u001b[0m \u001b[0my_\u001b[0m \u001b[0;32min\u001b[0m \u001b[0my\u001b[0m\u001b[0;34m]\u001b[0m\u001b[0;34m\u001b[0m\u001b[0;34m\u001b[0m\u001b[0m\n\u001b[1;32m     16\u001b[0m \u001b[0;34m\u001b[0m\u001b[0m\n\u001b[0;32m---> 17\u001b[0;31m     \u001b[0msvm\u001b[0m \u001b[0;34m=\u001b[0m \u001b[0mSVM\u001b[0m\u001b[0;34m(\u001b[0m\u001b[0;34m)\u001b[0m\u001b[0;34m\u001b[0m\u001b[0;34m\u001b[0m\u001b[0m\n\u001b[0m\u001b[1;32m     18\u001b[0m     \u001b[0msvm\u001b[0m\u001b[0;34m.\u001b[0m\u001b[0mfit\u001b[0m\u001b[0;34m(\u001b[0m\u001b[0mX\u001b[0m\u001b[0;34m,\u001b[0m \u001b[0my\u001b[0m\u001b[0;34m)\u001b[0m\u001b[0;34m\u001b[0m\u001b[0;34m\u001b[0m\u001b[0m\n\u001b[1;32m     19\u001b[0m \u001b[0;34m\u001b[0m\u001b[0m\n",
      "\u001b[0;31mTypeError\u001b[0m: __init__() missing 1 required positional argument: 'C'"
     ]
    },
    {
     "data": {
      "image/png": "[encoded data removed]",
      "text/plain": [
       "<Figure size 1440x1440 with 16 Axes>"
      ]
     },
     "metadata": {
      "needs_background": "light"
     },
     "output_type": "display_data"
    }
   ],
   "source": [
    "n = 20\n",
    "seeds = np.arange(16) + 1\n",
    "fig, axs = plt.subplots(4, 4, figsize=(20, 20))\n",
    "for i, seed in enumerate(seeds):\n",
    "    ii = i // 4\n",
    "    jj = i % 4\n",
    "    ax = axs[ii, jj]\n",
    "    data = sklearn_datasets.make_biclusters(shape=(n, 2),\n",
    "                                            n_clusters=2,\n",
    "                                            noise=10.0,\n",
    "                                            random_state=seed)\n",
    "    X = 0.1 * data[0]\n",
    "    y = data[1][0].astype(int)\n",
    "    y[y == 0] = -1\n",
    "    colors = [\"r\" if y_ == 1 else \"b\" for y_ in y]\n",
    "\n",
    "    svm = SVM()\n",
    "    svm.fit(X, y)\n",
    "\n",
    "    w1 = svm.ws[0] / svm.ws[1]\n",
    "    w0 = svm.w0 / svm.ws[1]\n",
    "    x0 = [X[:,0].min(), X[:,0].max()] \n",
    "    filt = svm.a_ > 0\n",
    "\n",
    "    ax.scatter(X[:, 0], X[:, 1], c=colors, s=20, alpha=0.5)\n",
    "    ax.scatter(X[filt, 0], X[filt, 1], marker=\"x\", c=\"g\", s=100, alpha=0.4)\n",
    "    ax.plot(x0, [-x0[0]*w1-w0, -x0[1]*w1-w0], 'g')\n",
    "    ax.set_xticks([])\n",
    "    ax.set_yticks([])\n",
    "    ax.set_title(f\"seed = {seed}\")"
   ]
  },
  {
   "cell_type": "code",
   "execution_count": null,
   "metadata": {},
   "outputs": [],
   "source": []
  },
  {
   "cell_type": "code",
   "execution_count": 20,
   "metadata": {},
   "outputs": [
    {
     "name": "stdout",
     "output_type": "stream",
     "text": [
      "done\n"
     ]
    },
    {
     "data": {
      "text/plain": [
       "Text(0.5, 1.0, 'seed = 0')"
      ]
     },
     "execution_count": 20,
     "metadata": {},
     "output_type": "execute_result"
    },
    {
     "data": {
      "image/png": "[encoded data removed]",
      "text/plain": [
       "<Figure size 288x288 with 1 Axes>"
      ]
     },
     "metadata": {},
     "output_type": "display_data"
    }
   ],
   "source": [
    "seed = 0\n",
    "data = sklearn_datasets.make_biclusters(shape=(n, 2),\n",
    "                                            n_clusters=2,\n",
    "                                            noise=50.0,\n",
    "                                            random_state=seed)\n",
    "X = 0.1 * data[0]\n",
    "y = data[1][0].astype(int)\n",
    "y[y == 0] = -1\n",
    "colors = [\"r\" if y_ == 1 else \"b\" for y_ in y]\n",
    "\n",
    "svm = SVM(C=1)\n",
    "svm.fit(X, y)\n",
    "\n",
    "w1 = svm.ws[0] / svm.ws[1]\n",
    "w0 = svm.w0 / svm.ws[1]\n",
    "x0 = [X[:,0].min(), X[:,0].max()] \n",
    "filt = svm.a_ > 0\n",
    "\n",
    "fig, ax = plt.subplots(1, 1, figsize=(4, 4))\n",
    "ax.scatter(X[:, 0], X[:, 1], c=colors, s=20, alpha=0.5)\n",
    "ax.scatter(X[filt, 0], X[filt, 1], marker=\"x\", c=\"g\", s=100, alpha=0.4)\n",
    "ax.plot(x0, [-x0[0]*w1-w0, -x0[1]*w1-w0], 'g')\n",
    "ax.set_xticks([])\n",
    "ax.set_yticks([])\n",
    "ax.set_title(f\"seed = {seed}\")"
   ]
  },
  {
   "cell_type": "code",
   "execution_count": null,
   "metadata": {},
   "outputs": [],
   "source": []
  },
  {
   "cell_type": "code",
   "execution_count": null,
   "metadata": {},
   "outputs": [],
   "source": []
  },
  {
   "cell_type": "code",
   "execution_count": null,
   "metadata": {},
   "outputs": [],
   "source": []
  },
  {
   "cell_type": "code",
   "execution_count": null,
   "metadata": {},
   "outputs": [],
   "source": []
  },
  {
   "cell_type": "code",
   "execution_count": null,
   "metadata": {},
   "outputs": [],
   "source": []
  },
  {
   "cell_type": "code",
   "execution_count": null,
   "metadata": {},
   "outputs": [],
   "source": []
  },
  {
   "cell_type": "code",
   "execution_count": null,
   "metadata": {},
   "outputs": [],
   "source": []
  },
  {
   "cell_type": "code",
   "execution_count": null,
   "metadata": {},
   "outputs": [],
   "source": []
  }
 ],
 "metadata": {
  "kernelspec": {
   "display_name": "Python 3",
   "language": "python",
   "name": "python3"
  },
  "language_info": {
   "codemirror_mode": {
    "name": "ipython",
    "version": 3
   },
   "file_extension": ".py",
   "mimetype": "text/x-python",
   "name": "python",
   "nbconvert_exporter": "python",
   "pygments_lexer": "ipython3",
   "version": "3.6.9"
  }
 },
 "nbformat": 4,
 "nbformat_minor": 4
}
