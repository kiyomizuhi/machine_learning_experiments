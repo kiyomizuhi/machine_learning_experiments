{
 "cells": [
  {
   "cell_type": "code",
   "execution_count": 1,
   "metadata": {},
   "outputs": [],
   "source": [
    "import numpy as np\n",
    "import pandas as pd\n",
    "import matplotlib.pyplot as plt\n",
    "from IPython.display import display"
   ]
  },
  {
   "cell_type": "code",
   "execution_count": 2,
   "metadata": {},
   "outputs": [
    {
     "name": "stdout",
     "output_type": "stream",
     "text": [
      "(1000, 3)\n"
     ]
    },
    {
     "data": {
      "text/html": [
       "<div>\n",
       "<style>\n",
       "    .dataframe thead tr:only-child th {\n",
       "        text-align: right;\n",
       "    }\n",
       "\n",
       "    .dataframe thead th {\n",
       "        text-align: left;\n",
       "    }\n",
       "\n",
       "    .dataframe tbody tr th {\n",
       "        vertical-align: top;\n",
       "    }\n",
       "</style>\n",
       "<table border=\"1\" class=\"dataframe\">\n",
       "  <thead>\n",
       "    <tr style=\"text-align: right;\">\n",
       "      <th></th>\n",
       "      <th>y</th>\n",
       "      <th>x_00</th>\n",
       "      <th>x_01</th>\n",
       "    </tr>\n",
       "  </thead>\n",
       "  <tbody>\n",
       "    <tr>\n",
       "      <th>0</th>\n",
       "      <td>0.618795</td>\n",
       "      <td>1764.671141</td>\n",
       "      <td>400.748832</td>\n",
       "    </tr>\n",
       "    <tr>\n",
       "      <th>1</th>\n",
       "      <td>0.888684</td>\n",
       "      <td>979.626668</td>\n",
       "      <td>2241.784854</td>\n",
       "    </tr>\n",
       "    <tr>\n",
       "      <th>2</th>\n",
       "      <td>0.457567</td>\n",
       "      <td>1868.015558</td>\n",
       "      <td>-976.499692</td>\n",
       "    </tr>\n",
       "    <tr>\n",
       "      <th>3</th>\n",
       "      <td>0.267064</td>\n",
       "      <td>950.355481</td>\n",
       "      <td>-150.361102</td>\n",
       "    </tr>\n",
       "    <tr>\n",
       "      <th>4</th>\n",
       "      <td>0.540095</td>\n",
       "      <td>-102.678757</td>\n",
       "      <td>411.136024</td>\n",
       "    </tr>\n",
       "  </tbody>\n",
       "</table>\n",
       "</div>"
      ],
      "text/plain": [
       "          y         x_00         x_01\n",
       "0  0.618795  1764.671141   400.748832\n",
       "1  0.888684   979.626668  2241.784854\n",
       "2  0.457567  1868.015558  -976.499692\n",
       "3  0.267064   950.355481  -150.361102\n",
       "4  0.540095  -102.678757   411.136024"
      ]
     },
     "execution_count": 2,
     "metadata": {},
     "output_type": "execute_result"
    }
   ],
   "source": [
    "def generate_dataset(num_samples, num_features, std, seed=0):\n",
    "    \"\"\"\n",
    "    generate dataset of features and target\n",
    "\n",
    "    Args:\n",
    "        num_samples: number of samples\n",
    "        num_features: number of features\n",
    "        std: std of normal noise added to the data\n",
    "        seed: random seed\n",
    "    \n",
    "    Output:\n",
    "        df: dataframe containing the data of features and target\n",
    "        idx: index of the feature that correlates with the target\n",
    "        \n",
    "    \"\"\"\n",
    "    # set random seed\n",
    "    np.random.seed(1234567890)\n",
    "    \n",
    "    # first, generate uniformly random number between 0 and 1\n",
    "    x = np.random.rand(num_samples, num_features)\n",
    "    \n",
    "    # set random seed\n",
    "    np.random.seed(seed)\n",
    "    \n",
    "    # copy the first feature as the target variable\n",
    "    y = x[:, 0].copy()\n",
    "    \n",
    "    # add the normally distributed noise to the each data\n",
    "    x += np.random.normal(size=(num_samples, num_features), scale=std)\n",
    "    \n",
    "    # concat x and y to make a dataframe\n",
    "    Xy = np.hstack((y[:, np.newaxis], x))\n",
    "\n",
    "    # column names for the features\n",
    "    colsx = ['x_{:0>2d}'.format(i) for i in range(x.shape[1])]\n",
    "    df = pd.DataFrame(Xy, columns=['y', *colsx])\n",
    "    return df\n",
    "\n",
    "num_features = 2\n",
    "num_samples = 1000\n",
    "std = 1000\n",
    "df = generate_dataset(num_samples, num_features, std, seed=0)\n",
    "\n",
    "# fig, ax = plt.subplots(1, 1, figsize=(4, 4))\n",
    "# ax.scatter(x[:, 0], x[:, 1], s=2)\n",
    "# plt.show()\n",
    "\n",
    "print(df.shape)\n",
    "df.head()"
   ]
  },
  {
   "cell_type": "markdown",
   "metadata": {},
   "source": [
    "# First case: num_features = 2"
   ]
  },
  {
   "cell_type": "code",
   "execution_count": null,
   "metadata": {},
   "outputs": [],
   "source": [
    "def compute_correlations_over_seeds(num_rounds, num_features, num_samples, std):\n",
    "    \"\"\"\n",
    "    compute correlations between each feature and the target for a given std\n",
    "\n",
    "    Args:\n",
    "        num_samples: number of samples\n",
    "        num_features: number of features\n",
    "        num_rounds: number of rounds to compute the correlations with a given seed\n",
    "        std: std of normal noise added to the data\n",
    "    \n",
    "    Output:\n",
    "        corr: (num_rounds, num_features)\n",
    "              computed correlations\n",
    "        \n",
    "    \"\"\"\n",
    "    corr = np.zeros((num_rounds, num_features))\n",
    "    ans = np.zeros(num_rounds)\n",
    "    for j in range(num_rounds):\n",
    "        # use j as the seed for this round\n",
    "        df = generate_dataset(num_samples, num_features, std, seed=j)\n",
    "        corr[j, :] = df.corr().iloc[0, 1:].values\n",
    "    del df\n",
    "    return corr\n",
    "\n",
    "def simulate_over_stds(num_rounds, num_features, num_samples, stds):\n",
    "    \"\"\"\n",
    "    compute correlations between each feature and the target for a given std\n",
    "\n",
    "    Args:\n",
    "        num_samples: number of samples\n",
    "        num_features: number of features\n",
    "        num_rounds: number of rounds to compute the correlations with a given seed\n",
    "        stds: 'std's of normal noise added to the data\n",
    "    \n",
    "    Output:\n",
    "        precs: (num_stds,)\n",
    "               computed precision for each std\n",
    "        corr: (num_stds, num_rounds, num_features)\n",
    "              computed correlations\n",
    "        \n",
    "    \"\"\"\n",
    "    num_stds = stds.shape[0]\n",
    "    precs = np.zeros(num_stds)\n",
    "    corrs = np.zeros((num_stds, num_rounds, num_features))\n",
    "    for i, std in enumerate(stds):\n",
    "        corr = compute_correlations_over_seeds(num_rounds, num_features, num_samples, std)\n",
    "        # take the feature that correlates the most to the target as the answer\n",
    "        precs[i] = (np.argmax(corr, axis=1) == 0).sum() / num_rounds\n",
    "        corrs[i, :, :] = corr\n",
    "    return precs, corrs\n",
    "\n",
    "stds = np.power(2., np.arange(20))\n",
    "num_rounds = 1000\n",
    "num_samples = 10000\n",
    "num_features = 2\n",
    "precs, corrs = simulate_over_stds(num_rounds, num_features, num_samples, stds)"
   ]
  },
  {
   "cell_type": "markdown",
   "metadata": {},
   "source": [
    "### Plot std vs precsion\n",
    "### Here, we expected precision converge to 0.5."
   ]
  },
  {
   "cell_type": "code",
   "execution_count": null,
   "metadata": {},
   "outputs": [],
   "source": [
    "fig, ax = plt.subplots(1, 1, figsize=(4, 4))\n",
    "ax.scatter(stds, precs, s=20)\n",
    "ax.set_xscale('log')\n",
    "ax.set_ylim((-0.05, 1.05))\n",
    "ax.set_yticks(np.arange(0, 1.1, 0.1))\n",
    "xmin, xmax = ax.get_xlim()\n",
    "ax.hlines(y=[0.0, 0.5, 1.0], xmin=xmin, xmax=xmax, color='green', linewidth=1, alpha=0.4)\n",
    "ax.set_xlim((xmin, xmax))\n",
    "ax.set_xlabel('std (log scale)')\n",
    "ax.set_ylabel('precision')\n",
    "print(precs)\n",
    "plt.show()"
   ]
  },
  {
   "cell_type": "markdown",
   "metadata": {},
   "source": [
    "# Can we tell which feature correlates with the target for a given dataset?"
   ]
  },
  {
   "cell_type": "code",
   "execution_count": null,
   "metadata": {},
   "outputs": [],
   "source": [
    "std = np.power(2., 10)\n",
    "num_samples = 10000\n",
    "num_features = 2\n",
    "\n",
    "df = generate_dataset(num_samples, num_features, std)\n",
    "display(df.head(3))\n",
    "fig, ax = plt.subplots(1, 1, figsize=(4, 4))\n",
    "ax.scatter(df['x_00'].values, df['x_01'].values, s=4, alpha=0.05)\n",
    "plt.show()"
   ]
  },
  {
   "cell_type": "code",
   "execution_count": null,
   "metadata": {},
   "outputs": [],
   "source": [
    "num_iters = 10000\n",
    "corrs = np.zeros((num_iters, num_features))\n",
    "for i in range(num_iters):\n",
    "    df_ = df.sample(frac=1., replace=True, random_state=i)\n",
    "    corrs[i, :] = df_.corr().iloc[0, 1:].values\n",
    "\n",
    "colsx = ['x_{:0>2d}'.format(i) for i in range(num_features)]\n",
    "df_corr = pd.DataFrame(corrs, columns=colsx)"
   ]
  },
  {
   "cell_type": "code",
   "execution_count": null,
   "metadata": {},
   "outputs": [],
   "source": [
    "df_corr.mean(axis=0)"
   ]
  },
  {
   "cell_type": "code",
   "execution_count": null,
   "metadata": {},
   "outputs": [],
   "source": [
    "fig, ax = plt.subplots(1, 1, figsize=(8,4))\n",
    "df_corr['x_00'].hist(bins=np.linspace(-0.05, 0.1, 151), color='blue', ax=ax, alpha=0.6)\n",
    "df_corr['x_01'].hist(bins=np.linspace(-0.05, 0.1, 151), color='red', ax=ax, alpha=0.6)\n",
    "plt.legend(['x_00', 'x_01'])\n",
    "plt.show()"
   ]
  },
  {
   "cell_type": "code",
   "execution_count": null,
   "metadata": {},
   "outputs": [],
   "source": []
  },
  {
   "cell_type": "code",
   "execution_count": null,
   "metadata": {},
   "outputs": [],
   "source": []
  },
  {
   "cell_type": "code",
   "execution_count": null,
   "metadata": {},
   "outputs": [],
   "source": []
  }
 ],
 "metadata": {
  "kernelspec": {
   "display_name": "Python 3",
   "language": "python",
   "name": "python3"
  },
  "language_info": {
   "codemirror_mode": {
    "name": "ipython",
    "version": 3
   },
   "file_extension": ".py",
   "mimetype": "text/x-python",
   "name": "python",
   "nbconvert_exporter": "python",
   "pygments_lexer": "ipython3",
   "version": "3.6.8"
  }
 },
 "nbformat": 4,
 "nbformat_minor": 2
}
