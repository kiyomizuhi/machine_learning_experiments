{
 "cells": [
  {
   "cell_type": "code",
   "execution_count": 105,
   "metadata": {},
   "outputs": [],
   "source": [
    "import numpy as np\n",
    "import pandas as pd\n",
    "import scipy.stats as scst\n",
    "import matplotlib.pyplot as plt\n",
    "from sklearn.linear_model import LinearRegression\n",
    "import copy"
   ]
  },
  {
   "cell_type": "code",
   "execution_count": 217,
   "metadata": {},
   "outputs": [],
   "source": [
    "nn = 100000\n",
    "np.random.seed(123)\n",
    "x = np.arange(-10, 10, 0.1)\n",
    "xn = x[:, np.newaxis]\n",
    "xx = np.tile(xn, nn)\n",
    "#err = np.random.standard_t(3, size=(x.shape[0], nn))\n",
    "err = np.random.normal(loc=0.0, scale=1.0, size=(x.shape[0], nn))\n",
    "yy = xx + err\n",
    "zz = copy.deepcopy(yy)\n",
    "\n",
    "lrs = []\n",
    "for n in range(nn):\n",
    "    lr = LinearRegression()\n",
    "    lr.fit(xn, yy[:, n])\n",
    "    lrs.append(lr)\n",
    "    zz[:, n] = lr.predict(xn)"
   ]
  },
  {
   "cell_type": "code",
   "execution_count": 224,
   "metadata": {},
   "outputs": [
    {
     "data": {
      "text/plain": [
       "0.9973854711830992"
      ]
     },
     "execution_count": 224,
     "metadata": {},
     "output_type": "execute_result"
    }
   ],
   "source": [
    "np.std(err[100,:])"
   ]
  },
  {
   "cell_type": "code",
   "execution_count": 219,
   "metadata": {},
   "outputs": [
    {
     "name": "stdout",
     "output_type": "stream",
     "text": [
      "(200, 100000)\n",
      "(200, 100000)\n",
      "(200, 100000)\n"
     ]
    }
   ],
   "source": [
    "print(xx.shape)\n",
    "print(yy.shape)\n",
    "print(zz.shape)"
   ]
  },
  {
   "cell_type": "code",
   "execution_count": 220,
   "metadata": {},
   "outputs": [
    {
     "data": {
      "image/png": "[encoded data removed]",
      "text/plain": [
       "<matplotlib.figure.Figure at 0x11021e128>"
      ]
     },
     "metadata": {},
     "output_type": "display_data"
    }
   ],
   "source": [
    "lrcos = []\n",
    "for lr in lrs:\n",
    "    lrcos.append(lr.coef_[0])\n",
    "\n",
    "pd.Series(lrcos).hist(bins=np.arange(0.895, 1.105, 0.01))\n",
    "plt.show()"
   ]
  },
  {
   "cell_type": "code",
   "execution_count": 225,
   "metadata": {},
   "outputs": [
    {
     "name": "stdout",
     "output_type": "stream",
     "text": [
      "-0.00000000\n",
      "0.00007927\n",
      "0.00000001\n",
      "0.00499726\n",
      "0.99011695\n",
      "0.98511969\n",
      "0.99253196\n",
      "0.99504620\n"
     ]
    }
   ],
   "source": [
    "m = 100\n",
    "xm = x[m]\n",
    "ym = yy[m, :]\n",
    "zm = zz[m, :]\n",
    "sr = pd.Series(zm)\n",
    "srm = sr.mean()\n",
    "er = np.mean((zm - ym)**2)\n",
    "bias = (srm - xm)**2\n",
    "var = ((sr - srm)**2).mean()\n",
    "\n",
    "print('{:10.8f}'.format(xm))\n",
    "print('{:10.8f}'.format(srm))\n",
    "print('{:10.8f}'.format(bias))\n",
    "print('{:10.8f}'.format(var))\n",
    "print('{:10.8f}'.format(er))\n",
    "print('{:10.8f}'.format(er-var-bias))\n",
    "print('{:10.8f}'.format(np.sqrt(er-var-bias)))\n",
    "print('{:10.8f}'.format(np.sqrt(er)))"
   ]
  },
  {
   "cell_type": "code",
   "execution_count": 216,
   "metadata": {},
   "outputs": [
    {
     "name": "stdout",
     "output_type": "stream",
     "text": [
      "0.98274275\n"
     ]
    }
   ],
   "source": [
    "\n",
    "print('{:10.8f}'.format(np.sqrt(er-var-bias)))"
   ]
  },
  {
   "cell_type": "code",
   "execution_count": 208,
   "metadata": {},
   "outputs": [
    {
     "data": {
      "text/plain": [
       "(1000,)"
      ]
     },
     "execution_count": 208,
     "metadata": {},
     "output_type": "execute_result"
    }
   ],
   "source": [
    "ym.shape"
   ]
  },
  {
   "cell_type": "code",
   "execution_count": 195,
   "metadata": {},
   "outputs": [
    {
     "data": {
      "text/plain": [
       "(10000,)"
      ]
     },
     "execution_count": 195,
     "metadata": {},
     "output_type": "execute_result"
    }
   ],
   "source": [
    "zm.shape"
   ]
  },
  {
   "cell_type": "code",
   "execution_count": 196,
   "metadata": {},
   "outputs": [
    {
     "data": {
      "image/png": "[encoded data removed]",
      "text/plain": [
       "<matplotlib.figure.Figure at 0x1153da358>"
      ]
     },
     "metadata": {},
     "output_type": "display_data"
    }
   ],
   "source": [
    "pd.Series(zm).hist(bins=np.arange(-5.0, -4.0, 0.01), color='r')\n",
    "pd.Series(ym).hist(bins=np.arange(-5.0, -4.0, 0.01), color='b')\n",
    "plt.show()"
   ]
  },
  {
   "cell_type": "code",
   "execution_count": 226,
   "metadata": {},
   "outputs": [
    {
     "data": {
      "image/png": "[encoded data removed]",
      "text/plain": [
       "<matplotlib.figure.Figure at 0x13cd7b7f0>"
      ]
     },
     "metadata": {},
     "output_type": "display_data"
    }
   ],
   "source": [
    "plt.scatter(x, yy[:, 0], c='b')\n",
    "plt.plot(x, zz[:, 0], 'r')\n",
    "plt.show()"
   ]
  },
  {
   "cell_type": "code",
   "execution_count": null,
   "metadata": {},
   "outputs": [],
   "source": []
  },
  {
   "cell_type": "code",
   "execution_count": null,
   "metadata": {},
   "outputs": [],
   "source": []
  }
 ],
 "metadata": {
  "kernelspec": {
   "display_name": "Python 3",
   "language": "python",
   "name": "python3"
  },
  "language_info": {
   "codemirror_mode": {
    "name": "ipython",
    "version": 3
   },
   "file_extension": ".py",
   "mimetype": "text/x-python",
   "name": "python",
   "nbconvert_exporter": "python",
   "pygments_lexer": "ipython3",
   "version": "3.6.8"
  }
 },
 "nbformat": 4,
 "nbformat_minor": 2
}
