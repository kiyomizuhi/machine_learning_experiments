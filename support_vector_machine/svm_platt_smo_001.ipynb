{
 "cells": [
  {
   "cell_type": "code",
   "execution_count": 12,
   "metadata": {},
   "outputs": [],
   "source": [
    "import numpy as np\n",
    "import pandas as pd\n",
    "import matplotlib.pyplot as plt\n",
    "import sklearn.datasets as sklearn_datasets"
   ]
  },
  {
   "cell_type": "code",
   "execution_count": 14,
   "metadata": {},
   "outputs": [],
   "source": [
    "SEED = 0"
   ]
  },
  {
   "cell_type": "code",
   "execution_count": 25,
   "metadata": {},
   "outputs": [
    {
     "data": {
      "text/plain": [
       "<matplotlib.collections.PathCollection at 0x1a257a4810>"
      ]
     },
     "execution_count": 25,
     "metadata": {},
     "output_type": "execute_result"
    },
    {
     "data": {
      "image/png": "[encoded data removed]",
      "text/plain": [
       "<Figure size 432x288 with 1 Axes>"
      ]
     },
     "metadata": {
      "needs_background": "light"
     },
     "output_type": "display_data"
    }
   ],
   "source": [
    "n = 40\n",
    "data = sklearn_datasets.make_biclusters(shape=(n, 2), n_clusters=2, noise=15.0, random_state=SEED)\n",
    "X = data[0]\n",
    "y = data[1][0].astype(int)\n",
    "colors = [\"r\" if y_ == 1 else \"b\" for y_ in y]\n",
    "plt.scatter(X[:, 0], X[:, 1], c=colors, s=10)"
   ]
  },
  {
   "cell_type": "code",
   "execution_count": null,
   "metadata": {},
   "outputs": [],
   "source": []
  },
  {
   "cell_type": "markdown",
   "metadata": {},
   "source": [
    "### Support Vector Machine (separable case)\n",
    "\n",
    "Suppose a set of two-class samples $(\\mathbf{x}_{i}, y_{i})$, $y_{i} \\in \\pm1$, $i = 1, \\dots, N$ are separable with a hyperplane; $f(x) = \\mathbf{w}^{T}\\mathbf{x} + w_{0}$.\n",
    "\n",
    "\\begin{eqnarray}\n",
    "y_{i} = 1 \\qquad \\rightarrow \\qquad \\mathbf{w}^{T}\\mathbf{x}_{i} + w_{0} & \\ge & 1\\\\\n",
    "y_{i} = -1 \\qquad \\rightarrow \\qquad \\mathbf{w}^{T}\\mathbf{x}_{i} + w_{0} & \\le & -1\n",
    "\\end{eqnarray}\n",
    "\n",
    "The two inequalities can be expressed in a single line,\n",
    "\n",
    "\\begin{eqnarray}\n",
    "y_{i} (\\mathbf{w}^{T}\\mathbf{x}_{i} + w_{0}) & \\ge & 1\n",
    "\\end{eqnarray}\n",
    "\n",
    "We want to maximize the inter-class margin $r(\\mathbf{w}, w_{0})$, which is the minimum difference of the projection of $\\mathbf{x}_{i}$'s onto $\\mathbf{w}/|\\mathbf{w}|$ between the two classes.\n",
    "\n",
    "\\begin{eqnarray}\n",
    "r(\\mathbf{w}, w_{0}) & = & min_{x_{i} \\in C_{y_{i} = 1}} \\frac{\\mathbf{w}^{T}\\mathbf{x}_{i} + w_{0}}{|\\mathbf{w}|} - \n",
    "max_{x_{i} \\in C_{y_{i} = -1}} \\frac{\\mathbf{w}^{T}\\mathbf{x}_{i} + w_{0}}{|\\mathbf{w}|} \\\\\n",
    "& = & \\frac{1}{|\\mathbf{w}|} - \\frac{-1}{|\\mathbf{w}|}\\\\\n",
    "& = & \\frac{2}{|\\mathbf{w}|}\n",
    "\\end{eqnarray}\n",
    "\n",
    "In order to maximize $r(\\mathbf{w}, w_{0})$, one has to minimize $|\\mathbf{w}|$. Hence the optimization problem $L(\\mathbf{w})$ can be expressed as below.\n",
    "\n",
    "\\begin{eqnarray}\n",
    "L(\\mathbf{w}) & = & \\frac{1}{2}\\mathbf{w}^{T}\\mathbf{w}\\\\\n",
    "min_{\\mathbf{w}} L(\\mathbf{w}) \\quad& subject\\ to & \\quad y_{i} (\\mathbf{w}^{T}\\mathbf{x}_{i} + w_{0}) \\ge 1\n",
    "\\end{eqnarray}\n",
    "\n",
    "The primal problem of this constrained optimization is to find $(\\mathbf{w}, \\mathbf{\\alpha})$ that minimizes $L(\\mathbf{w}, \\mathbf{\\alpha})$.\n",
    "\n",
    "\\begin{eqnarray}\n",
    "L(\\mathbf{w}, \\mathbf{\\alpha}) & = & \\frac{1}{2}\\mathbf{w}^{T}\\mathbf{w} - \\sum_{i = 1}^{N} \\alpha_{i} \\big( y_{i} (\\mathbf{w}^{T}\\mathbf{x}_{i} + w_{0}) - 1\\big),\n",
    "\\end{eqnarray}\n",
    "\n",
    "where $\\alpha_{i}$ is a Lagrange multiplier. "
   ]
  },
  {
   "cell_type": "markdown",
   "metadata": {},
   "source": [
    "The solution of this problem satisfies KKT condition:\n",
    "\n",
    "\\begin{eqnarray}\n",
    "\\nabla_{\\mathbf{w}} L(\\mathbf{w}, \\mathbf{\\alpha}) \\bigg|_{\\mathbf{w}=\\mathbf{w}'}\n",
    "& = & \\mathbf{w}' - \\sum_{i = 1}^{N} \\alpha_{i} y_{i} \\mathbf{x}_{i} = 0\\\\\n",
    "\\nabla_{\\mathbf{w}} L(\\mathbf{w}, \\mathbf{\\alpha}) \\bigg|_{w_{0}=w'_{0}}\n",
    "& = & \\sum_{i = 1}^{N} \\alpha_{i} y_{i} = 0\\\\\n",
    "\\alpha_{i} & \\ge & 0\\\\\n",
    "\\alpha_{i} \\big( y_{i}(\\mathbf{w}^{T} \\mathbf{x}_{i} + w_{0}) - 1\\big) & = & 0\n",
    "\\end{eqnarray}\n",
    "\n",
    "The last condidtion is called complementary condition yielding:\n",
    "- if $y_i \\big((\\mathbf{w}^{T} \\mathbf{x}_{i} + w_{0}) - 1\\big) > 0 \\rightarrow \\alpha_{i} = 0$\n",
    "- if $y_i \\big((\\mathbf{w}^{T} \\mathbf{x}_{i} + w_{0}) - 1\\big) = 0 \\rightarrow \\alpha_{i} \\ge 0 \\qquad$ : support  vector\n",
    "\n",
    "\n",
    "The optimal solution for $\\mathbf{w}$ is\n",
    "\\begin{eqnarray}\n",
    "\\mathbf{w} & = & \\sum_{i = 1}^{N} \\alpha_{i} y_{i} \\mathbf{x}_{i}\n",
    "\\end{eqnarray}\n",
    "\n",
    "$L(\\mathbf{w}, \\mathbf{\\alpha})$に代入すると$\\alpha_{i}$のみの関数となる。\n",
    "\\begin{eqnarray}\n",
    "L(\\mathbf{w}, \\mathbf{\\alpha}) & = & \\frac{1}{2}\\mathbf{w}^{T}\\mathbf{w} - \\sum_{i = 1}^{N} \\alpha_{i} y_{i} \\mathbf{w}^{T}\\mathbf{x}_{i}  - w_{0}\\sum_{i = 1}^{N} \\alpha_{i} y_{i} + \\sum_{i = 1}^{N} \\alpha_{i}\\\\\n",
    "& = & -\\frac{1}{2}\\mathbf{w}^{T}\\mathbf{w} +\\sum_{i = 1}^{N} \\alpha_{i}\\\\\n",
    "& = & \\sum_{i = 1}^{N} \\alpha_{i} -\\frac{1}{2}\\sum_{i = 1}^{N}\\sum_{j = 1}^{N}\\alpha_{i}\\alpha_{j} y_{i} y_{j} \\mathbf{x}^{T}_{i} \\mathbf{x}_{j}\n",
    "\\end{eqnarray}\n",
    "\n",
    "The optimal solution is:\n",
    "\n",
    "\\begin{eqnarray}\n",
    "max_{\\gamma} L(\\mathbf{\\alpha}) \\quad& subject\\ to & \\quad \\sum_{i = 1}^{N} \\alpha_{i} y_{i} = 0\n",
    "\\end{eqnarray}"
   ]
  },
  {
   "cell_type": "code",
   "execution_count": null,
   "metadata": {},
   "outputs": [],
   "source": []
  },
  {
   "cell_type": "code",
   "execution_count": null,
   "metadata": {},
   "outputs": [],
   "source": []
  },
  {
   "cell_type": "code",
   "execution_count": null,
   "metadata": {},
   "outputs": [],
   "source": []
  },
  {
   "cell_type": "code",
   "execution_count": 17,
   "metadata": {},
   "outputs": [
    {
     "data": {
      "text/plain": [
       "<matplotlib.collections.PathCollection at 0x1a2534aa90>"
      ]
     },
     "execution_count": 17,
     "metadata": {},
     "output_type": "execute_result"
    },
    {
     "data": {
      "image/png": "[encoded data removed]",
      "text/plain": [
       "<Figure size 432x288 with 1 Axes>"
      ]
     },
     "metadata": {
      "needs_background": "light"
     },
     "output_type": "display_data"
    }
   ],
   "source": [
    "n = 40\n",
    "data = sklearn_datasets.make_biclusters(shape=(n, 2), n_clusters=2, noise=15.0, random_state=SEED)\n",
    "X = data[0]\n",
    "y = data[1][0].astype(int)\n",
    "colors = [\"r\" if y_ == 1 else \"b\" for y_ in y]\n",
    "plt.scatter(X[:, 0], X[:, 1], c=colors, s=10)"
   ]
  },
  {
   "cell_type": "code",
   "execution_count": null,
   "metadata": {},
   "outputs": [],
   "source": []
  },
  {
   "cell_type": "code",
   "execution_count": null,
   "metadata": {},
   "outputs": [],
   "source": []
  },
  {
   "cell_type": "code",
   "execution_count": 23,
   "metadata": {},
   "outputs": [],
   "source": [
    "from sklearn.base import BaseEstimator, ClassifierMixin\n",
    "from sklearn.utils.validation import check_X_y, check_array, check_is_fitted\n",
    "from sklearn.utils.multiclass import unique_labels\n",
    "\n",
    "class SVM(BaseEstimator, ClassifierMixin):\n",
    "    \"\"\" SVM classifier\"\"\"\n",
    "    \n",
    "    def __init__(self, c, random_state=None):\n",
    "        super().__init__(c=c,\n",
    "                         random_state=random_state)\n",
    "        self._c = c\n",
    "    \n",
    "    def fit(self, X, y):\n",
    "        # Check that X and y have correct shape\n",
    "        X, y = check_X_y(X, y)\n",
    "\n",
    "        # Store the classes seen during fit\n",
    "        self.classes_ = unique_labels(y)\n",
    "\n",
    "        self.X_ = X\n",
    "        self.y_ = y\n",
    "\n",
    "        # Return the classifier\n",
    "        return self\n",
    "\n",
    "    def predict(self, X):\n",
    "        # Check is fit had been called\n",
    "        check_is_fitted(self)\n",
    "\n",
    "        # Input validation\n",
    "        X = check_array(X)\n",
    "        closest = np.argmin(euclidean_distances(X, self.X_), axis=1)\n",
    "        return self.y_[closest]"
   ]
  },
  {
   "cell_type": "code",
   "execution_count": null,
   "metadata": {},
   "outputs": [],
   "source": []
  }
 ],
 "metadata": {
  "kernelspec": {
   "display_name": "Python 3",
   "language": "python",
   "name": "python3"
  },
  "language_info": {
   "codemirror_mode": {
    "name": "ipython",
    "version": 3
   },
   "file_extension": ".py",
   "mimetype": "text/x-python",
   "name": "python",
   "nbconvert_exporter": "python",
   "pygments_lexer": "ipython3",
   "version": "3.7.7"
  }
 },
 "nbformat": 4,
 "nbformat_minor": 4
}
