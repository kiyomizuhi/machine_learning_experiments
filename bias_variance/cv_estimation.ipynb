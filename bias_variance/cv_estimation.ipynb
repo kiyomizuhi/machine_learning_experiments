{
 "cells": [
  {
   "cell_type": "code",
   "execution_count": 46,
   "metadata": {},
   "outputs": [],
   "source": [
    "import numpy as np\n",
    "import pandas as pd\n",
    "import scipy.stats as scst\n",
    "import matplotlib.pyplot as plt\n",
    "import copy"
   ]
  },
  {
   "cell_type": "markdown",
   "metadata": {},
   "source": [
    "### random_seed"
   ]
  },
  {
   "cell_type": "code",
   "execution_count": 37,
   "metadata": {},
   "outputs": [],
   "source": [
    "SEED = 0"
   ]
  },
  {
   "cell_type": "code",
   "execution_count": null,
   "metadata": {},
   "outputs": [],
   "source": []
  },
  {
   "cell_type": "markdown",
   "metadata": {},
   "source": [
    "- data \n",
    "\n",
    "    - data is generated from a joint distribution $p(\\mathbf{x}, y)$\n",
    "\n",
    "    $$\n",
    "    (\\mathbf{x}, y) \\sim p(\\mathbf{x}, y)\n",
    "    $$\n",
    "\n",
    "    - whole data set\n",
    "\n",
    "    $$\n",
    "    D_{rs} = \\{(\\mathbf{x}_{i}, y_{i})|i = 1, \\cdots, N = N_{r} + N_{s}\\}\n",
    "    $$\n",
    "\n",
    "    - train data\n",
    "\n",
    "    $$\n",
    "    D_{r} = \\{(\\mathbf{x}_{i}, y_{i})|i = 1, \\cdots, N_{r}\\}\n",
    "    $$\n",
    "\n",
    "    - test data\n",
    "\n",
    "    $$\n",
    "    D_{s} = \\{(\\mathbf{x}_{i}, y_{i})|i = N_{r} + 1, \\cdots, N_{r} + N_{s}\\}\n",
    "    $$\n",
    "\n",
    "- fit model using the train data D_{r}\n",
    "\n",
    "$$\n",
    "\\hat{y}_{D_{r}}\n",
    "$$\n",
    "\n",
    "- train error\n",
    "\n",
    "$$\n",
    "\\begin{align}\n",
    "E_{train} & = & \\mathbb{E}_{D_{r}}[E(\\hat{y}_{D_{r}}(\\mathbf{x}), y)]\\\\\n",
    "& = & \\frac{1}{N_{r}}\\sum^{N_{r}}_{i=1} E(\\hat{y}_{D_{r}}(\\mathbf{x}_{i}), y_{i})\n",
    "\\end{align}\n",
    "$$\n",
    "\n",
    "- test error\n",
    "\n",
    "$$\n",
    "\\begin{align}\n",
    "E_{test} & = & \\mathbb{E}_{D_{s}}[E(\\hat{y}_{D_{r}}(\\mathbf{x}), y)]\\\\\n",
    "& = & \\frac{1}{N_{s}}\\sum^{N_{r}+N_{s}}_{i=N_{r}+1} E(\\hat{y}_{D_{r}}(\\mathbf{x}_{i}), y_{i})\n",
    "\\end{align}\n",
    "$$\n",
    "\n",
    "- Expected generalization error\n",
    "\n",
    "$$\n",
    "\\begin{align}\n",
    "(\\mathbf{x}_{\\star}, y_{\\star}) & \\sim & p(\\mathbf{x}, y)\\\\\n",
    "E_{new} & = & \\mathbb{E}_{\\star}[E(\\hat{y}_{D_{r}}(\\mathbf{x}_{\\star}), y_{\\star})]\n",
    "\\end{align}\n",
    "$$\n",
    "\n"
   ]
  },
  {
   "cell_type": "code",
   "execution_count": null,
   "metadata": {},
   "outputs": [],
   "source": []
  },
  {
   "cell_type": "markdown",
   "metadata": {},
   "source": [
    "- k-fold cross-validation\n",
    "\n",
    "    - At the $l$th fold\n",
    "    \n",
    "        - train data : $D^{(l)}_{r}$\n",
    "        - validation data : $D^{(l)}_{v} = D_{r} - D^{(l)}_{r}$\n",
    "\n",
    "    - $l$th fold train error\n",
    "    \n",
    "    $$\n",
    "    E^{(l)}_{train} = \\mathbb{E}_{D^{(l)}_{r}}[E(\\hat{y}_{D^{(l)}_{r}}(\\mathbf{x}), y)]\n",
    "    $$\n",
    "\n",
    "    - $l$th fold validation error\n",
    "\n",
    "    $$\n",
    "    E^{(l)}_{val} = \\mathbb{E}_{D^{(l)}_{v}}[E(\\hat{y}_{D^{(l)}_{r}}(\\mathbf{x}), y)]\n",
    "    $$"
   ]
  },
  {
   "cell_type": "code",
   "execution_count": null,
   "metadata": {},
   "outputs": [],
   "source": []
  },
  {
   "cell_type": "markdown",
   "metadata": {},
   "source": [
    "- average trained model\n",
    "\n",
    "$$\n",
    "\\hat{f}_{D_{r}}(\\mathbf{x}) \n",
    "= \\mathbb{E}_{l}\n",
    "    \\big[\n",
    "        \\hat{y}_{D^{(l)}_{r}}(\\mathbf{x})\n",
    "    \\big]\n",
    "= \\frac{1}{k}\\sum_{l=1}^{k} \\hat{y}_{D^{(l)}_{r}}(\\mathbf{x})\n",
    "$$\n",
    "\n",
    "- bias-variance decomposition of noise using $(\\mathbf{x}, y) \\in D^{(l)}_{v}$\n",
    "\n",
    "$$\n",
    "\\begin{eqnarray}\n",
    "\\mathbb{E}_{l}\\Big[\n",
    "    \\mathbb{E}_{(\\mathbf{x}, y) \\in D^{(l)}_{v}}\\Big[\n",
    "        \\big(\n",
    "            \\hat{y}_{D^{(l)}_{r}}(\\mathbf{x}) - y\n",
    "        \\big)^{2}\n",
    "    \\Big]\n",
    "\\Big]\n",
    "& = &\n",
    "\\mathbb{E}_{l}\\Big[\n",
    "    \\mathbb{E}_{(\\mathbf{x}, y) \\in D^{(l)}_{v}}\\Big[\n",
    "        \\big(\n",
    "            \\hat{y}_{D^{(l)}_{r}}(\\mathbf{x})\n",
    "          - \\hat{f}_{D_{r}}(\\mathbf{x})\n",
    "          + \\hat{f}_{D_{r}}(\\mathbf{x})\n",
    "          - y\n",
    "        \\big)^{2}\n",
    "    \\Big]\n",
    "\\Big]\\\\\n",
    "& = &\n",
    "\\mathbb{E}_{l}\\Big[\n",
    "    \\mathbb{E}_{(\\mathbf{x}, y) \\in D^{(l)}_{v}}\\Big[\n",
    "        \\big(\n",
    "            \\hat{y}_{D^{(l)}_{r}}(\\mathbf{x})\n",
    "          - \\hat{f}_{D_{r}}(\\mathbf{x})\n",
    "        \\big)^{2}\n",
    "     \\Big]\n",
    "\\Big]\\\\\n",
    "&&\n",
    "\\qquad + 2\n",
    "\\mathbb{E}_{l}\\Big[\n",
    "    \\mathbb{E}_{(\\mathbf{x}, y) \\in D^{(l)}_{v}}\\Big[\n",
    "        \\big(\n",
    "            \\hat{y}_{D^{(l)}_{r}}(\\mathbf{x})\n",
    "          - \\hat{f}_{D_{r}}(\\mathbf{x})\n",
    "        \\big)\n",
    "        \\big(\n",
    "            \\hat{f}_{D_{r}}(\\mathbf{x})\n",
    "          - y\n",
    "        \\big)\n",
    "     \\Big]\n",
    "\\Big]\\\\\n",
    "&&\n",
    "\\qquad +\n",
    "\\mathbb{E}_{l}\\Big[\n",
    "    \\mathbb{E}_{(\\mathbf{x}, y) \\in D^{(l)}_{v}}\\Big[\n",
    "        \\big(\n",
    "            \\hat{f}_{D_{r}}(\\mathbf{x})\n",
    "          - y\n",
    "        \\big)^{2}\n",
    "     \\Big]\n",
    "\\Big]\n",
    "\\end{eqnarray}\n",
    "$$\n",
    "\n",
    "\n",
    "- bias-variance decomposition of noise using $(\\mathbf{x}, y) \\in D_{s}$\n",
    "\n",
    "$$\n",
    "\\begin{eqnarray}\n",
    "\\mathbb{E}_{l}\\Big[\n",
    "    \\mathbb{E}_{(\\mathbf{x}, y) \\in D_{s}}\\Big[\n",
    "        \\big(\n",
    "            \\hat{y}_{D^{(l)}_{r}}(\\mathbf{x}) - y\n",
    "        \\big)^{2}\n",
    "    \\Big]\n",
    "\\Big]\n",
    "& = &\n",
    "\\mathbb{E}_{l}\\Big[\n",
    "    \\mathbb{E}_{(\\mathbf{x}, y) \\in D_{s}}\\Big[\n",
    "        \\big(\n",
    "            \\hat{y}_{D^{(l)}_{r}}(\\mathbf{x})\n",
    "          - \\hat{f}_{D_{r}}(\\mathbf{x})\n",
    "        \\big)^{2}\n",
    "    \\Big]\n",
    "\\Big]\\\\\n",
    "&&\n",
    "\\qquad +\n",
    "\\mathbb{E}_{(\\mathbf{x}, y) \\in D_{s}}\\Big[\n",
    "    \\big(\n",
    "        \\hat{f}_{D_{r}}(\\mathbf{x})\n",
    "      - y\n",
    "    \\big)^{2}\n",
    "\\Big]\n",
    "\\end{eqnarray}\n",
    "$$"
   ]
  },
  {
   "cell_type": "code",
   "execution_count": null,
   "metadata": {},
   "outputs": [],
   "source": []
  },
  {
   "cell_type": "markdown",
   "metadata": {},
   "source": [
    "### maybe the idiosyncratic noise is not uniform over x.\n",
    "- true model\n",
    "\n",
    "$$\n",
    "y = f_{0}(\\mathbf{x}) + \\epsilon(\\mathbf{x})\n",
    "$$\n",
    "\n",
    "### maybe the idiosyncratic noise is not even normal\n",
    "### if one wants to estimate bias and variance at a specific point among test data "
   ]
  },
  {
   "cell_type": "code",
   "execution_count": null,
   "metadata": {},
   "outputs": [],
   "source": []
  },
  {
   "cell_type": "markdown",
   "metadata": {},
   "source": [
    "### generate dataset"
   ]
  },
  {
   "cell_type": "code",
   "execution_count": 212,
   "metadata": {},
   "outputs": [
    {
     "data": {
      "image/png": "[encoded data removed]",
      "text/plain": [
       "<Figure size 432x288 with 1 Axes>"
      ]
     },
     "metadata": {
      "needs_background": "light"
     },
     "output_type": "display_data"
    }
   ],
   "source": [
    "def generate_dataset(n, seed=SEED):\n",
    "    np.random.seed(seed)\n",
    "    xs = np.random.uniform(low=-10, high=10, size=n)\n",
    "    err = np.random.normal(loc=0.0, scale=3.0, size=n)\n",
    "    ys = xs + err\n",
    "    return xs[:, np.newaxis], ys, err\n",
    "\n",
    "n = 100\n",
    "X, y, err = generate_dataset(n)\n",
    "plt.scatter(X, y);"
   ]
  },
  {
   "cell_type": "code",
   "execution_count": 311,
   "metadata": {},
   "outputs": [],
   "source": [
    "from sklearn.model_selection import train_test_split\n",
    "from sklearn.model_selection import KFold\n",
    "\n",
    "def perform_cv_with_val_bv(estimator, X_train, y_train, cv, seed):\n",
    "    models = []\n",
    "    y_preds = []\n",
    "    trains = []\n",
    "    vals = []\n",
    "    kfold = KFold(n_splits=cv, random_state=seed).split(X_train, y_train)\n",
    "    for k, (train, val) in enumerate(kfold):\n",
    "        model = copy.deepcopy(estimator)\n",
    "        model.fit(X_train[train], y_train[train])\n",
    "        models.append(model)\n",
    "\n",
    "        y_preds.append(model.predict(X_train))\n",
    "        trains.append(train)\n",
    "        vals.append(val)\n",
    "\n",
    "    y_pred_mean = np.array(y_preds).mean(axis=0)\n",
    "\n",
    "    errors = [\n",
    "        [compute_ms(y_pred[train] - y_pred_mean[train]),\n",
    "         2 * ((y_pred[train] - y_pred_mean[train]) * (y_pred_mean[train] - y_train[train])).mean(),\n",
    "         compute_ms(y_pred_mean[train] - y_train[train]),\n",
    "         compute_ms(y_pred[train] - y_train[train]),\n",
    "         compute_ms(y_pred[val] - y_pred_mean[val]),\n",
    "         2 * ((y_pred[val] - y_pred_mean[val]) * (y_pred_mean[val] - y_train[val])).mean(),\n",
    "         compute_ms(y_pred_mean[val] - y_train[val]),\n",
    "         compute_ms(y_pred[val] - y_train[val])]\n",
    "        for y_pred, train, val in zip(y_preds, trains, vals)]\n",
    "\n",
    "    return models, errors\n",
    "\n",
    "def perform_cv_with_test_bv(estimator, X_train, y_train, X_test, y_test, cv, seed):\n",
    "    models = []\n",
    "    y_preds = []\n",
    "    trains = []\n",
    "    vals = []\n",
    "    kfold = KFold(n_splits=cv, random_state=seed).split(X_train, y_train)\n",
    "    for k, (train, _) in enumerate(kfold):\n",
    "        model = copy.deepcopy(estimator)\n",
    "        model.fit(X_train[train], y_train[train])\n",
    "        models.append(model)\n",
    "\n",
    "        y_preds.append(model.predict(X_test))\n",
    "\n",
    "    y_pred_mean = np.array(y_preds).mean(axis=0)\n",
    "\n",
    "    errors = [\n",
    "        [compute_ms(y_pred - y_pred_mean),\n",
    "         2 * ((y_pred - y_pred_mean) * (y_pred_mean - y_test)).mean(),\n",
    "         compute_ms(y_pred_mean - y_test),\n",
    "         compute_ms(y_pred - y_test)]\n",
    "        for y_pred in y_preds]\n",
    "\n",
    "    return models, errors\n",
    "\n",
    "def compute_ms(x):\n",
    "    return (x**2).mean()"
   ]
  },
  {
   "cell_type": "code",
   "execution_count": 265,
   "metadata": {},
   "outputs": [],
   "source": [
    "from sklearn.linear_model import LinearRegression\n",
    "from sklearn.linear_model import Ridge"
   ]
  },
  {
   "cell_type": "code",
   "execution_count": 333,
   "metadata": {},
   "outputs": [
    {
     "data": {
      "text/html": [
       "<div>\n",
       "<style scoped>\n",
       "    .dataframe tbody tr th:only-of-type {\n",
       "        vertical-align: middle;\n",
       "    }\n",
       "\n",
       "    .dataframe tbody tr th {\n",
       "        vertical-align: top;\n",
       "    }\n",
       "\n",
       "    .dataframe thead th {\n",
       "        text-align: right;\n",
       "    }\n",
       "</style>\n",
       "<table border=\"1\" class=\"dataframe\">\n",
       "  <thead>\n",
       "    <tr style=\"text-align: right;\">\n",
       "      <th></th>\n",
       "      <th>alpha</th>\n",
       "      <th>seed</th>\n",
       "      <th>fold</th>\n",
       "      <th>variance_test</th>\n",
       "      <th>cross_test</th>\n",
       "      <th>bias_test</th>\n",
       "      <th>error_test</th>\n",
       "    </tr>\n",
       "  </thead>\n",
       "  <tbody>\n",
       "    <tr>\n",
       "      <th>0</th>\n",
       "      <td>0.0001</td>\n",
       "      <td>0</td>\n",
       "      <td>0</td>\n",
       "      <td>0.016838</td>\n",
       "      <td>-0.175000</td>\n",
       "      <td>9.387787</td>\n",
       "      <td>9.229625</td>\n",
       "    </tr>\n",
       "    <tr>\n",
       "      <th>1</th>\n",
       "      <td>0.0001</td>\n",
       "      <td>0</td>\n",
       "      <td>1</td>\n",
       "      <td>0.020943</td>\n",
       "      <td>0.145854</td>\n",
       "      <td>9.387787</td>\n",
       "      <td>9.554584</td>\n",
       "    </tr>\n",
       "    <tr>\n",
       "      <th>2</th>\n",
       "      <td>0.0001</td>\n",
       "      <td>0</td>\n",
       "      <td>2</td>\n",
       "      <td>0.000168</td>\n",
       "      <td>0.027107</td>\n",
       "      <td>9.387787</td>\n",
       "      <td>9.415063</td>\n",
       "    </tr>\n",
       "  </tbody>\n",
       "</table>\n",
       "</div>"
      ],
      "text/plain": [
       "    alpha  seed  fold  variance_test  cross_test  bias_test  error_test\n",
       "0  0.0001     0     0       0.016838   -0.175000   9.387787    9.229625\n",
       "1  0.0001     0     1       0.020943    0.145854   9.387787    9.554584\n",
       "2  0.0001     0     2       0.000168    0.027107   9.387787    9.415063"
      ]
     },
     "execution_count": 333,
     "metadata": {},
     "output_type": "execute_result"
    }
   ],
   "source": [
    "cv = 10\n",
    "seeds = list(range(1000))\n",
    "data = []\n",
    "alphas = np.power(10.0, np.arange(-4, 5, 1))\n",
    "for alpha in alphas:\n",
    "    estimator = Ridge(alpha=alpha)\n",
    "    for seed in seeds:\n",
    "        X_train, X_test, y_train, y_test =\\\n",
    "            train_test_split(X, y, test_size=0.20, random_state=seed)\n",
    "        _, errors = perform_cv_with_test_bv(estimator, X_train, y_train, X_test, y_test, cv, seed)\n",
    "        data.extend([[alpha, seed, k,\n",
    "                      errs[0], errs[1], errs[2], errs[3]]\n",
    "                      for k, errs in enumerate(errors)])\n",
    "\n",
    "df_test_errors = pd.DataFrame(data, columns=[\"alpha\", \"seed\", \"fold\", \n",
    "                                        \"variance_test\", \"cross_test\", \"bias_test\", \"error_test\"])\n",
    "df_test_errors.head(3)"
   ]
  },
  {
   "cell_type": "code",
   "execution_count": 334,
   "metadata": {},
   "outputs": [
    {
     "data": {
      "text/html": [
       "<div>\n",
       "<style scoped>\n",
       "    .dataframe tbody tr th:only-of-type {\n",
       "        vertical-align: middle;\n",
       "    }\n",
       "\n",
       "    .dataframe tbody tr th {\n",
       "        vertical-align: top;\n",
       "    }\n",
       "\n",
       "    .dataframe thead th {\n",
       "        text-align: right;\n",
       "    }\n",
       "</style>\n",
       "<table border=\"1\" class=\"dataframe\">\n",
       "  <thead>\n",
       "    <tr style=\"text-align: right;\">\n",
       "      <th></th>\n",
       "      <th>alpha</th>\n",
       "      <th>seed</th>\n",
       "      <th>fold</th>\n",
       "      <th>variance_test</th>\n",
       "      <th>cross_test</th>\n",
       "      <th>bias_test</th>\n",
       "      <th>error_test</th>\n",
       "      <th>sum</th>\n",
       "    </tr>\n",
       "  </thead>\n",
       "  <tbody>\n",
       "    <tr>\n",
       "      <th>0</th>\n",
       "      <td>0.0001</td>\n",
       "      <td>0</td>\n",
       "      <td>0</td>\n",
       "      <td>0.016838</td>\n",
       "      <td>-0.175000</td>\n",
       "      <td>9.387787</td>\n",
       "      <td>9.229625</td>\n",
       "      <td>9.229625</td>\n",
       "    </tr>\n",
       "    <tr>\n",
       "      <th>1</th>\n",
       "      <td>0.0001</td>\n",
       "      <td>0</td>\n",
       "      <td>1</td>\n",
       "      <td>0.020943</td>\n",
       "      <td>0.145854</td>\n",
       "      <td>9.387787</td>\n",
       "      <td>9.554584</td>\n",
       "      <td>9.554584</td>\n",
       "    </tr>\n",
       "    <tr>\n",
       "      <th>2</th>\n",
       "      <td>0.0001</td>\n",
       "      <td>0</td>\n",
       "      <td>2</td>\n",
       "      <td>0.000168</td>\n",
       "      <td>0.027107</td>\n",
       "      <td>9.387787</td>\n",
       "      <td>9.415063</td>\n",
       "      <td>9.415063</td>\n",
       "    </tr>\n",
       "    <tr>\n",
       "      <th>3</th>\n",
       "      <td>0.0001</td>\n",
       "      <td>0</td>\n",
       "      <td>3</td>\n",
       "      <td>0.042284</td>\n",
       "      <td>-0.240318</td>\n",
       "      <td>9.387787</td>\n",
       "      <td>9.189754</td>\n",
       "      <td>9.189754</td>\n",
       "    </tr>\n",
       "    <tr>\n",
       "      <th>4</th>\n",
       "      <td>0.0001</td>\n",
       "      <td>0</td>\n",
       "      <td>4</td>\n",
       "      <td>0.000059</td>\n",
       "      <td>0.004795</td>\n",
       "      <td>9.387787</td>\n",
       "      <td>9.392642</td>\n",
       "      <td>9.392642</td>\n",
       "    </tr>\n",
       "  </tbody>\n",
       "</table>\n",
       "</div>"
      ],
      "text/plain": [
       "    alpha  seed  fold  variance_test  cross_test  bias_test  error_test  \\\n",
       "0  0.0001     0     0       0.016838   -0.175000   9.387787    9.229625   \n",
       "1  0.0001     0     1       0.020943    0.145854   9.387787    9.554584   \n",
       "2  0.0001     0     2       0.000168    0.027107   9.387787    9.415063   \n",
       "3  0.0001     0     3       0.042284   -0.240318   9.387787    9.189754   \n",
       "4  0.0001     0     4       0.000059    0.004795   9.387787    9.392642   \n",
       "\n",
       "        sum  \n",
       "0  9.229625  \n",
       "1  9.554584  \n",
       "2  9.415063  \n",
       "3  9.189754  \n",
       "4  9.392642  "
      ]
     },
     "execution_count": 334,
     "metadata": {},
     "output_type": "execute_result"
    }
   ],
   "source": [
    "df_test_errors[\"sum\"] = df_test_errors[[\"variance_test\", \"cross_test\", \"bias_test\"]].sum(axis=1)\n",
    "df_test_errors.head()"
   ]
  },
  {
   "cell_type": "code",
   "execution_count": 336,
   "metadata": {},
   "outputs": [
    {
     "data": {
      "text/html": [
       "<div>\n",
       "<style scoped>\n",
       "    .dataframe tbody tr th:only-of-type {\n",
       "        vertical-align: middle;\n",
       "    }\n",
       "\n",
       "    .dataframe tbody tr th {\n",
       "        vertical-align: top;\n",
       "    }\n",
       "\n",
       "    .dataframe thead th {\n",
       "        text-align: right;\n",
       "    }\n",
       "</style>\n",
       "<table border=\"1\" class=\"dataframe\">\n",
       "  <thead>\n",
       "    <tr style=\"text-align: right;\">\n",
       "      <th></th>\n",
       "      <th>alpha</th>\n",
       "      <th>seed</th>\n",
       "      <th>variance_test</th>\n",
       "      <th>cross_test</th>\n",
       "      <th>bias_test</th>\n",
       "      <th>error_test</th>\n",
       "      <th>sum</th>\n",
       "    </tr>\n",
       "  </thead>\n",
       "  <tbody>\n",
       "    <tr>\n",
       "      <th>0</th>\n",
       "      <td>0.0001</td>\n",
       "      <td>0</td>\n",
       "      <td>0.036780</td>\n",
       "      <td>9.436896e-17</td>\n",
       "      <td>9.387787</td>\n",
       "      <td>9.424567</td>\n",
       "      <td>9.424567</td>\n",
       "    </tr>\n",
       "    <tr>\n",
       "      <th>1</th>\n",
       "      <td>0.0001</td>\n",
       "      <td>1</td>\n",
       "      <td>0.030727</td>\n",
       "      <td>4.288236e-16</td>\n",
       "      <td>9.224171</td>\n",
       "      <td>9.254898</td>\n",
       "      <td>9.254898</td>\n",
       "    </tr>\n",
       "    <tr>\n",
       "      <th>2</th>\n",
       "      <td>0.0001</td>\n",
       "      <td>2</td>\n",
       "      <td>0.022231</td>\n",
       "      <td>-3.441691e-16</td>\n",
       "      <td>9.339132</td>\n",
       "      <td>9.361363</td>\n",
       "      <td>9.361363</td>\n",
       "    </tr>\n",
       "    <tr>\n",
       "      <th>3</th>\n",
       "      <td>0.0001</td>\n",
       "      <td>3</td>\n",
       "      <td>0.026733</td>\n",
       "      <td>-1.076916e-15</td>\n",
       "      <td>9.744835</td>\n",
       "      <td>9.771568</td>\n",
       "      <td>9.771568</td>\n",
       "    </tr>\n",
       "    <tr>\n",
       "      <th>4</th>\n",
       "      <td>0.0001</td>\n",
       "      <td>4</td>\n",
       "      <td>0.035034</td>\n",
       "      <td>1.035283e-15</td>\n",
       "      <td>7.912976</td>\n",
       "      <td>7.948010</td>\n",
       "      <td>7.948010</td>\n",
       "    </tr>\n",
       "  </tbody>\n",
       "</table>\n",
       "</div>"
      ],
      "text/plain": [
       "    alpha  seed  variance_test    cross_test  bias_test  error_test       sum\n",
       "0  0.0001     0       0.036780  9.436896e-17   9.387787    9.424567  9.424567\n",
       "1  0.0001     1       0.030727  4.288236e-16   9.224171    9.254898  9.254898\n",
       "2  0.0001     2       0.022231 -3.441691e-16   9.339132    9.361363  9.361363\n",
       "3  0.0001     3       0.026733 -1.076916e-15   9.744835    9.771568  9.771568\n",
       "4  0.0001     4       0.035034  1.035283e-15   7.912976    7.948010  7.948010"
      ]
     },
     "execution_count": 336,
     "metadata": {},
     "output_type": "execute_result"
    }
   ],
   "source": [
    "tmp = df_test_errors.groupby([\"alpha\", \"seed\"])[[\"variance_test\", \"cross_test\", \"bias_test\", \"error_test\"]].mean().reset_index()\n",
    "tmp[\"sum\"] = tmp[[\"variance_test\", \"cross_test\", \"bias_test\"]].sum(axis=1)\n",
    "tmp.head()"
   ]
  },
  {
   "cell_type": "code",
   "execution_count": 349,
   "metadata": {},
   "outputs": [
    {
     "data": {
      "text/html": [
       "<div>\n",
       "<style scoped>\n",
       "    .dataframe tbody tr th:only-of-type {\n",
       "        vertical-align: middle;\n",
       "    }\n",
       "\n",
       "    .dataframe tbody tr th {\n",
       "        vertical-align: top;\n",
       "    }\n",
       "\n",
       "    .dataframe thead th {\n",
       "        text-align: right;\n",
       "    }\n",
       "</style>\n",
       "<table border=\"1\" class=\"dataframe\">\n",
       "  <thead>\n",
       "    <tr style=\"text-align: right;\">\n",
       "      <th></th>\n",
       "      <th>alpha</th>\n",
       "      <th>variance_test</th>\n",
       "      <th>cross_test</th>\n",
       "      <th>bias_test</th>\n",
       "      <th>error_test</th>\n",
       "      <th>sum</th>\n",
       "      <th>log_alpha</th>\n",
       "    </tr>\n",
       "  </thead>\n",
       "  <tbody>\n",
       "    <tr>\n",
       "      <th>0</th>\n",
       "      <td>0.0001</td>\n",
       "      <td>0.024819</td>\n",
       "      <td>-6.551994e-18</td>\n",
       "      <td>9.261377</td>\n",
       "      <td>9.286195</td>\n",
       "      <td>9.286195</td>\n",
       "      <td>-4.0</td>\n",
       "    </tr>\n",
       "    <tr>\n",
       "      <th>1</th>\n",
       "      <td>0.0010</td>\n",
       "      <td>0.024819</td>\n",
       "      <td>-2.335650e-17</td>\n",
       "      <td>9.261377</td>\n",
       "      <td>9.286196</td>\n",
       "      <td>9.286196</td>\n",
       "      <td>-3.0</td>\n",
       "    </tr>\n",
       "    <tr>\n",
       "      <th>2</th>\n",
       "      <td>0.0100</td>\n",
       "      <td>0.024819</td>\n",
       "      <td>2.055000e-18</td>\n",
       "      <td>9.261377</td>\n",
       "      <td>9.286196</td>\n",
       "      <td>9.286196</td>\n",
       "      <td>-2.0</td>\n",
       "    </tr>\n",
       "    <tr>\n",
       "      <th>3</th>\n",
       "      <td>0.1000</td>\n",
       "      <td>0.024818</td>\n",
       "      <td>3.251528e-17</td>\n",
       "      <td>9.261384</td>\n",
       "      <td>9.286202</td>\n",
       "      <td>9.286202</td>\n",
       "      <td>-1.0</td>\n",
       "    </tr>\n",
       "    <tr>\n",
       "      <th>4</th>\n",
       "      <td>1.0000</td>\n",
       "      <td>0.024808</td>\n",
       "      <td>5.696181e-18</td>\n",
       "      <td>9.261457</td>\n",
       "      <td>9.286265</td>\n",
       "      <td>9.286265</td>\n",
       "      <td>0.0</td>\n",
       "    </tr>\n",
       "    <tr>\n",
       "      <th>5</th>\n",
       "      <td>10.0000</td>\n",
       "      <td>0.024714</td>\n",
       "      <td>1.155456e-17</td>\n",
       "      <td>9.262709</td>\n",
       "      <td>9.287423</td>\n",
       "      <td>9.287423</td>\n",
       "      <td>1.0</td>\n",
       "    </tr>\n",
       "    <tr>\n",
       "      <th>6</th>\n",
       "      <td>100.0000</td>\n",
       "      <td>0.023960</td>\n",
       "      <td>-1.881042e-17</td>\n",
       "      <td>9.323551</td>\n",
       "      <td>9.347511</td>\n",
       "      <td>9.347511</td>\n",
       "      <td>2.0</td>\n",
       "    </tr>\n",
       "    <tr>\n",
       "      <th>7</th>\n",
       "      <td>1000.0000</td>\n",
       "      <td>0.024384</td>\n",
       "      <td>2.019395e-17</td>\n",
       "      <td>12.257166</td>\n",
       "      <td>12.281550</td>\n",
       "      <td>12.281550</td>\n",
       "      <td>3.0</td>\n",
       "    </tr>\n",
       "    <tr>\n",
       "      <th>8</th>\n",
       "      <td>10000.0000</td>\n",
       "      <td>0.043157</td>\n",
       "      <td>1.962419e-17</td>\n",
       "      <td>31.124664</td>\n",
       "      <td>31.167821</td>\n",
       "      <td>31.167821</td>\n",
       "      <td>4.0</td>\n",
       "    </tr>\n",
       "  </tbody>\n",
       "</table>\n",
       "</div>"
      ],
      "text/plain": [
       "        alpha  variance_test    cross_test  bias_test  error_test        sum  \\\n",
       "0      0.0001       0.024819 -6.551994e-18   9.261377    9.286195   9.286195   \n",
       "1      0.0010       0.024819 -2.335650e-17   9.261377    9.286196   9.286196   \n",
       "2      0.0100       0.024819  2.055000e-18   9.261377    9.286196   9.286196   \n",
       "3      0.1000       0.024818  3.251528e-17   9.261384    9.286202   9.286202   \n",
       "4      1.0000       0.024808  5.696181e-18   9.261457    9.286265   9.286265   \n",
       "5     10.0000       0.024714  1.155456e-17   9.262709    9.287423   9.287423   \n",
       "6    100.0000       0.023960 -1.881042e-17   9.323551    9.347511   9.347511   \n",
       "7   1000.0000       0.024384  2.019395e-17  12.257166   12.281550  12.281550   \n",
       "8  10000.0000       0.043157  1.962419e-17  31.124664   31.167821  31.167821   \n",
       "\n",
       "   log_alpha  \n",
       "0       -4.0  \n",
       "1       -3.0  \n",
       "2       -2.0  \n",
       "3       -1.0  \n",
       "4        0.0  \n",
       "5        1.0  \n",
       "6        2.0  \n",
       "7        3.0  \n",
       "8        4.0  "
      ]
     },
     "execution_count": 349,
     "metadata": {},
     "output_type": "execute_result"
    }
   ],
   "source": [
    "tmp = tmp.groupby(\"alpha\")[[\"variance_test\", \"cross_test\", \"bias_test\", \"error_test\", \"sum\"]].mean().reset_index()\n",
    "tmp[\"log_alpha\"] = np.log10(tmp[\"alpha\"])\n",
    "tmp"
   ]
  },
  {
   "cell_type": "code",
   "execution_count": 346,
   "metadata": {},
   "outputs": [
    {
     "data": {
      "text/plain": [
       "<matplotlib.axes._subplots.AxesSubplot at 0x1a1bad2be0>"
      ]
     },
     "execution_count": 346,
     "metadata": {},
     "output_type": "execute_result"
    },
    {
     "data": {
      "image/png": "[encoded data removed]",
      "text/plain": [
       "<Figure size 432x288 with 1 Axes>"
      ]
     },
     "metadata": {
      "needs_background": "light"
     },
     "output_type": "display_data"
    }
   ],
   "source": [
    "tmp.plot.scatter(x=\"log_alpha\", y=\"variance_test\")"
   ]
  },
  {
   "cell_type": "code",
   "execution_count": 347,
   "metadata": {},
   "outputs": [
    {
     "data": {
      "text/plain": [
       "<matplotlib.axes._subplots.AxesSubplot at 0x1a1bb21978>"
      ]
     },
     "execution_count": 347,
     "metadata": {},
     "output_type": "execute_result"
    },
    {
     "data": {
      "image/png": "[encoded data removed]",
      "text/plain": [
       "<Figure size 432x288 with 1 Axes>"
      ]
     },
     "metadata": {
      "needs_background": "light"
     },
     "output_type": "display_data"
    }
   ],
   "source": [
    "tmp.plot.scatter(x=\"log_alpha\", y=\"bias_test\")"
   ]
  },
  {
   "cell_type": "code",
   "execution_count": 348,
   "metadata": {},
   "outputs": [
    {
     "data": {
      "text/html": [
       "<div>\n",
       "<style scoped>\n",
       "    .dataframe tbody tr th:only-of-type {\n",
       "        vertical-align: middle;\n",
       "    }\n",
       "\n",
       "    .dataframe tbody tr th {\n",
       "        vertical-align: top;\n",
       "    }\n",
       "\n",
       "    .dataframe thead th {\n",
       "        text-align: right;\n",
       "    }\n",
       "</style>\n",
       "<table border=\"1\" class=\"dataframe\">\n",
       "  <thead>\n",
       "    <tr style=\"text-align: right;\">\n",
       "      <th></th>\n",
       "      <th>alpha</th>\n",
       "      <th>variance_test</th>\n",
       "      <th>cross_test</th>\n",
       "      <th>bias_test</th>\n",
       "      <th>error_test</th>\n",
       "      <th>sum</th>\n",
       "      <th>log_alpha</th>\n",
       "    </tr>\n",
       "  </thead>\n",
       "  <tbody>\n",
       "    <tr>\n",
       "      <th>0</th>\n",
       "      <td>0.0001</td>\n",
       "      <td>0.024819</td>\n",
       "      <td>-6.551994e-18</td>\n",
       "      <td>9.261377</td>\n",
       "      <td>9.286195</td>\n",
       "      <td>9.286195</td>\n",
       "      <td>-4.0</td>\n",
       "    </tr>\n",
       "  </tbody>\n",
       "</table>\n",
       "</div>"
      ],
      "text/plain": [
       "    alpha  variance_test    cross_test  bias_test  error_test       sum  \\\n",
       "0  0.0001       0.024819 -6.551994e-18   9.261377    9.286195  9.286195   \n",
       "\n",
       "   log_alpha  \n",
       "0       -4.0  "
      ]
     },
     "execution_count": 348,
     "metadata": {},
     "output_type": "execute_result"
    }
   ],
   "source": [
    "tmp[tmp[\"error_test\"] == tmp[\"error_test\"].min()]"
   ]
  },
  {
   "cell_type": "code",
   "execution_count": 329,
   "metadata": {},
   "outputs": [
    {
     "data": {
      "image/png": "[encoded data removed]",
      "text/plain": [
       "<Figure size 432x288 with 2 Axes>"
      ]
     },
     "metadata": {
      "needs_background": "light"
     },
     "output_type": "display_data"
    }
   ],
   "source": [
    "tmp[[\"variance_test\", \"bias_test\"]].hist();"
   ]
  },
  {
   "cell_type": "code",
   "execution_count": null,
   "metadata": {},
   "outputs": [],
   "source": []
  },
  {
   "cell_type": "code",
   "execution_count": null,
   "metadata": {},
   "outputs": [],
   "source": []
  },
  {
   "cell_type": "code",
   "execution_count": null,
   "metadata": {},
   "outputs": [],
   "source": []
  },
  {
   "cell_type": "code",
   "execution_count": 312,
   "metadata": {},
   "outputs": [
    {
     "data": {
      "text/html": [
       "<div>\n",
       "<style scoped>\n",
       "    .dataframe tbody tr th:only-of-type {\n",
       "        vertical-align: middle;\n",
       "    }\n",
       "\n",
       "    .dataframe tbody tr th {\n",
       "        vertical-align: top;\n",
       "    }\n",
       "\n",
       "    .dataframe thead th {\n",
       "        text-align: right;\n",
       "    }\n",
       "</style>\n",
       "<table border=\"1\" class=\"dataframe\">\n",
       "  <thead>\n",
       "    <tr style=\"text-align: right;\">\n",
       "      <th></th>\n",
       "      <th>alpha</th>\n",
       "      <th>seed</th>\n",
       "      <th>fold</th>\n",
       "      <th>variance_train</th>\n",
       "      <th>cross_train</th>\n",
       "      <th>bias_train</th>\n",
       "      <th>error_train</th>\n",
       "      <th>variance_val</th>\n",
       "      <th>cross_val</th>\n",
       "      <th>bias_val</th>\n",
       "      <th>error_val</th>\n",
       "    </tr>\n",
       "  </thead>\n",
       "  <tbody>\n",
       "    <tr>\n",
       "      <th>0</th>\n",
       "      <td>1.0</td>\n",
       "      <td>0</td>\n",
       "      <td>0</td>\n",
       "      <td>0.011124</td>\n",
       "      <td>-0.022705</td>\n",
       "      <td>8.917765</td>\n",
       "      <td>8.906185</td>\n",
       "      <td>0.013083</td>\n",
       "      <td>0.199162</td>\n",
       "      <td>8.501191</td>\n",
       "      <td>8.713437</td>\n",
       "    </tr>\n",
       "    <tr>\n",
       "      <th>1</th>\n",
       "      <td>1.0</td>\n",
       "      <td>0</td>\n",
       "      <td>1</td>\n",
       "      <td>0.026642</td>\n",
       "      <td>-0.053869</td>\n",
       "      <td>8.780542</td>\n",
       "      <td>8.753315</td>\n",
       "      <td>0.021524</td>\n",
       "      <td>0.471227</td>\n",
       "      <td>9.736205</td>\n",
       "      <td>10.228955</td>\n",
       "    </tr>\n",
       "    <tr>\n",
       "      <th>2</th>\n",
       "      <td>1.0</td>\n",
       "      <td>0</td>\n",
       "      <td>2</td>\n",
       "      <td>0.000160</td>\n",
       "      <td>-0.000317</td>\n",
       "      <td>9.528003</td>\n",
       "      <td>9.527846</td>\n",
       "      <td>0.000157</td>\n",
       "      <td>0.002411</td>\n",
       "      <td>3.009055</td>\n",
       "      <td>3.011623</td>\n",
       "    </tr>\n",
       "  </tbody>\n",
       "</table>\n",
       "</div>"
      ],
      "text/plain": [
       "   alpha  seed  fold  variance_train  cross_train  bias_train  error_train  \\\n",
       "0    1.0     0     0        0.011124    -0.022705    8.917765     8.906185   \n",
       "1    1.0     0     1        0.026642    -0.053869    8.780542     8.753315   \n",
       "2    1.0     0     2        0.000160    -0.000317    9.528003     9.527846   \n",
       "\n",
       "   variance_val  cross_val  bias_val  error_val  \n",
       "0      0.013083   0.199162  8.501191   8.713437  \n",
       "1      0.021524   0.471227  9.736205  10.228955  \n",
       "2      0.000157   0.002411  3.009055   3.011623  "
      ]
     },
     "execution_count": 312,
     "metadata": {},
     "output_type": "execute_result"
    }
   ],
   "source": [
    "cv = 10\n",
    "seeds = list(range(100))\n",
    "data = []\n",
    "alpha=1.0\n",
    "estimator = Ridge(alpha=alpha)\n",
    "for seed in seeds:\n",
    "    X_train, X_test, y_train, y_test =\\\n",
    "        train_test_split(X, y, test_size=0.20, random_state=seed)\n",
    "    _, errors = perform_cv_with_val_bv(estimator, X_train, y_train, cv, seed)\n",
    "    data.extend([[alpha, seed, k,\n",
    "                  errs[0], errs[1], errs[2], errs[3],\n",
    "                  errs[4], errs[5], errs[6], errs[7]]\n",
    "                  for k, errs in enumerate(errors)])\n",
    "\n",
    "df_val_errors = pd.DataFrame(data, columns=[\"alpha\", \"seed\", \"fold\", \n",
    "                                        \"variance_train\", \"cross_train\", \"bias_train\", \"error_train\",\n",
    "                                        \"variance_val\", \"cross_val\",\"bias_val\", \"error_val\"])\n",
    "df_val_errors.head(3)"
   ]
  },
  {
   "cell_type": "code",
   "execution_count": 313,
   "metadata": {},
   "outputs": [
    {
     "data": {
      "text/html": [
       "<div>\n",
       "<style scoped>\n",
       "    .dataframe tbody tr th:only-of-type {\n",
       "        vertical-align: middle;\n",
       "    }\n",
       "\n",
       "    .dataframe tbody tr th {\n",
       "        vertical-align: top;\n",
       "    }\n",
       "\n",
       "    .dataframe thead th {\n",
       "        text-align: right;\n",
       "    }\n",
       "</style>\n",
       "<table border=\"1\" class=\"dataframe\">\n",
       "  <thead>\n",
       "    <tr style=\"text-align: right;\">\n",
       "      <th></th>\n",
       "      <th>alpha</th>\n",
       "      <th>seed</th>\n",
       "      <th>fold</th>\n",
       "      <th>variance_train</th>\n",
       "      <th>cross_train</th>\n",
       "      <th>bias_train</th>\n",
       "      <th>error_train</th>\n",
       "      <th>variance_val</th>\n",
       "      <th>cross_val</th>\n",
       "      <th>bias_val</th>\n",
       "      <th>error_val</th>\n",
       "      <th>sum_train</th>\n",
       "      <th>sum_val</th>\n",
       "    </tr>\n",
       "  </thead>\n",
       "  <tbody>\n",
       "    <tr>\n",
       "      <th>0</th>\n",
       "      <td>1.0</td>\n",
       "      <td>0</td>\n",
       "      <td>0</td>\n",
       "      <td>0.011124</td>\n",
       "      <td>-0.022705</td>\n",
       "      <td>8.917765</td>\n",
       "      <td>8.906185</td>\n",
       "      <td>0.013083</td>\n",
       "      <td>0.199162</td>\n",
       "      <td>8.501191</td>\n",
       "      <td>8.713437</td>\n",
       "      <td>8.906185</td>\n",
       "      <td>8.713437</td>\n",
       "    </tr>\n",
       "    <tr>\n",
       "      <th>1</th>\n",
       "      <td>1.0</td>\n",
       "      <td>0</td>\n",
       "      <td>1</td>\n",
       "      <td>0.026642</td>\n",
       "      <td>-0.053869</td>\n",
       "      <td>8.780542</td>\n",
       "      <td>8.753315</td>\n",
       "      <td>0.021524</td>\n",
       "      <td>0.471227</td>\n",
       "      <td>9.736205</td>\n",
       "      <td>10.228955</td>\n",
       "      <td>8.753315</td>\n",
       "      <td>10.228955</td>\n",
       "    </tr>\n",
       "    <tr>\n",
       "      <th>2</th>\n",
       "      <td>1.0</td>\n",
       "      <td>0</td>\n",
       "      <td>2</td>\n",
       "      <td>0.000160</td>\n",
       "      <td>-0.000317</td>\n",
       "      <td>9.528003</td>\n",
       "      <td>9.527846</td>\n",
       "      <td>0.000157</td>\n",
       "      <td>0.002411</td>\n",
       "      <td>3.009055</td>\n",
       "      <td>3.011623</td>\n",
       "      <td>9.527846</td>\n",
       "      <td>3.011623</td>\n",
       "    </tr>\n",
       "    <tr>\n",
       "      <th>3</th>\n",
       "      <td>1.0</td>\n",
       "      <td>0</td>\n",
       "      <td>3</td>\n",
       "      <td>0.053291</td>\n",
       "      <td>-0.105833</td>\n",
       "      <td>8.741666</td>\n",
       "      <td>8.689123</td>\n",
       "      <td>0.059862</td>\n",
       "      <td>0.971624</td>\n",
       "      <td>10.086090</td>\n",
       "      <td>11.117576</td>\n",
       "      <td>8.689123</td>\n",
       "      <td>11.117576</td>\n",
       "    </tr>\n",
       "    <tr>\n",
       "      <th>4</th>\n",
       "      <td>1.0</td>\n",
       "      <td>0</td>\n",
       "      <td>4</td>\n",
       "      <td>0.000047</td>\n",
       "      <td>-0.000061</td>\n",
       "      <td>8.770058</td>\n",
       "      <td>8.770043</td>\n",
       "      <td>0.000043</td>\n",
       "      <td>0.001088</td>\n",
       "      <td>9.830562</td>\n",
       "      <td>9.831694</td>\n",
       "      <td>8.770043</td>\n",
       "      <td>9.831694</td>\n",
       "    </tr>\n",
       "  </tbody>\n",
       "</table>\n",
       "</div>"
      ],
      "text/plain": [
       "   alpha  seed  fold  variance_train  cross_train  bias_train  error_train  \\\n",
       "0    1.0     0     0        0.011124    -0.022705    8.917765     8.906185   \n",
       "1    1.0     0     1        0.026642    -0.053869    8.780542     8.753315   \n",
       "2    1.0     0     2        0.000160    -0.000317    9.528003     9.527846   \n",
       "3    1.0     0     3        0.053291    -0.105833    8.741666     8.689123   \n",
       "4    1.0     0     4        0.000047    -0.000061    8.770058     8.770043   \n",
       "\n",
       "   variance_val  cross_val   bias_val  error_val  sum_train    sum_val  \n",
       "0      0.013083   0.199162   8.501191   8.713437   8.906185   8.713437  \n",
       "1      0.021524   0.471227   9.736205  10.228955   8.753315  10.228955  \n",
       "2      0.000157   0.002411   3.009055   3.011623   9.527846   3.011623  \n",
       "3      0.059862   0.971624  10.086090  11.117576   8.689123  11.117576  \n",
       "4      0.000043   0.001088   9.830562   9.831694   8.770043   9.831694  "
      ]
     },
     "execution_count": 313,
     "metadata": {},
     "output_type": "execute_result"
    }
   ],
   "source": [
    "df_val_errors[\"sum_train\"] = df_val_errors[[\"variance_train\", \"cross_train\", \"bias_train\"]].sum(axis=1)\n",
    "df_val_errors[\"sum_val\"] = df_val_errors[[\"variance_val\", \"cross_val\", \"bias_val\"]].sum(axis=1)\n",
    "df_val_errors.head()"
   ]
  },
  {
   "cell_type": "code",
   "execution_count": 314,
   "metadata": {},
   "outputs": [
    {
     "data": {
      "text/html": [
       "<div>\n",
       "<style scoped>\n",
       "    .dataframe tbody tr th:only-of-type {\n",
       "        vertical-align: middle;\n",
       "    }\n",
       "\n",
       "    .dataframe tbody tr th {\n",
       "        vertical-align: top;\n",
       "    }\n",
       "\n",
       "    .dataframe thead th {\n",
       "        text-align: right;\n",
       "    }\n",
       "</style>\n",
       "<table border=\"1\" class=\"dataframe\">\n",
       "  <thead>\n",
       "    <tr style=\"text-align: right;\">\n",
       "      <th></th>\n",
       "      <th>alpha</th>\n",
       "      <th>seed</th>\n",
       "      <th>variance_train</th>\n",
       "      <th>cross_train</th>\n",
       "      <th>bias_train</th>\n",
       "      <th>error_train</th>\n",
       "      <th>sum_train</th>\n",
       "    </tr>\n",
       "  </thead>\n",
       "  <tbody>\n",
       "    <tr>\n",
       "      <th>0</th>\n",
       "      <td>1.0</td>\n",
       "      <td>0</td>\n",
       "      <td>0.031939</td>\n",
       "      <td>-0.063898</td>\n",
       "      <td>8.876108</td>\n",
       "      <td>8.844149</td>\n",
       "      <td>8.844149</td>\n",
       "    </tr>\n",
       "    <tr>\n",
       "      <th>1</th>\n",
       "      <td>1.0</td>\n",
       "      <td>1</td>\n",
       "      <td>0.031396</td>\n",
       "      <td>-0.062801</td>\n",
       "      <td>8.865063</td>\n",
       "      <td>8.833658</td>\n",
       "      <td>8.833658</td>\n",
       "    </tr>\n",
       "    <tr>\n",
       "      <th>2</th>\n",
       "      <td>1.0</td>\n",
       "      <td>2</td>\n",
       "      <td>0.020659</td>\n",
       "      <td>-0.041326</td>\n",
       "      <td>8.835777</td>\n",
       "      <td>8.815110</td>\n",
       "      <td>8.815110</td>\n",
       "    </tr>\n",
       "    <tr>\n",
       "      <th>3</th>\n",
       "      <td>1.0</td>\n",
       "      <td>3</td>\n",
       "      <td>0.026186</td>\n",
       "      <td>-0.052377</td>\n",
       "      <td>8.740749</td>\n",
       "      <td>8.714558</td>\n",
       "      <td>8.714558</td>\n",
       "    </tr>\n",
       "    <tr>\n",
       "      <th>4</th>\n",
       "      <td>1.0</td>\n",
       "      <td>4</td>\n",
       "      <td>0.031145</td>\n",
       "      <td>-0.062299</td>\n",
       "      <td>9.217087</td>\n",
       "      <td>9.185933</td>\n",
       "      <td>9.185933</td>\n",
       "    </tr>\n",
       "  </tbody>\n",
       "</table>\n",
       "</div>"
      ],
      "text/plain": [
       "   alpha  seed  variance_train  cross_train  bias_train  error_train  \\\n",
       "0    1.0     0        0.031939    -0.063898    8.876108     8.844149   \n",
       "1    1.0     1        0.031396    -0.062801    8.865063     8.833658   \n",
       "2    1.0     2        0.020659    -0.041326    8.835777     8.815110   \n",
       "3    1.0     3        0.026186    -0.052377    8.740749     8.714558   \n",
       "4    1.0     4        0.031145    -0.062299    9.217087     9.185933   \n",
       "\n",
       "   sum_train  \n",
       "0   8.844149  \n",
       "1   8.833658  \n",
       "2   8.815110  \n",
       "3   8.714558  \n",
       "4   9.185933  "
      ]
     },
     "execution_count": 314,
     "metadata": {},
     "output_type": "execute_result"
    }
   ],
   "source": [
    "tmp = df_val_errors.groupby([\"alpha\", \"seed\"])[[\"variance_train\", \"cross_train\", \"bias_train\", \"error_train\"]].mean().reset_index()\n",
    "tmp[\"sum_train\"] = tmp[[\"variance_train\", \"cross_train\", \"bias_train\"]].sum(axis=1)\n",
    "tmp.head()"
   ]
  },
  {
   "cell_type": "code",
   "execution_count": 315,
   "metadata": {},
   "outputs": [
    {
     "data": {
      "text/html": [
       "<div>\n",
       "<style scoped>\n",
       "    .dataframe tbody tr th:only-of-type {\n",
       "        vertical-align: middle;\n",
       "    }\n",
       "\n",
       "    .dataframe tbody tr th {\n",
       "        vertical-align: top;\n",
       "    }\n",
       "\n",
       "    .dataframe thead th {\n",
       "        text-align: right;\n",
       "    }\n",
       "</style>\n",
       "<table border=\"1\" class=\"dataframe\">\n",
       "  <thead>\n",
       "    <tr style=\"text-align: right;\">\n",
       "      <th></th>\n",
       "      <th>alpha</th>\n",
       "      <th>seed</th>\n",
       "      <th>variance_val</th>\n",
       "      <th>cross_val</th>\n",
       "      <th>bias_val</th>\n",
       "      <th>error_val</th>\n",
       "      <th>sum_val</th>\n",
       "    </tr>\n",
       "  </thead>\n",
       "  <tbody>\n",
       "    <tr>\n",
       "      <th>0</th>\n",
       "      <td>1.0</td>\n",
       "      <td>0</td>\n",
       "      <td>0.033274</td>\n",
       "      <td>0.575081</td>\n",
       "      <td>8.876108</td>\n",
       "      <td>9.484464</td>\n",
       "      <td>9.484464</td>\n",
       "    </tr>\n",
       "    <tr>\n",
       "      <th>1</th>\n",
       "      <td>1.0</td>\n",
       "      <td>1</td>\n",
       "      <td>0.037575</td>\n",
       "      <td>0.565211</td>\n",
       "      <td>8.865063</td>\n",
       "      <td>9.467849</td>\n",
       "      <td>9.467849</td>\n",
       "    </tr>\n",
       "    <tr>\n",
       "      <th>2</th>\n",
       "      <td>1.0</td>\n",
       "      <td>2</td>\n",
       "      <td>0.024289</td>\n",
       "      <td>0.371936</td>\n",
       "      <td>8.835777</td>\n",
       "      <td>9.232002</td>\n",
       "      <td>9.232002</td>\n",
       "    </tr>\n",
       "    <tr>\n",
       "      <th>3</th>\n",
       "      <td>1.0</td>\n",
       "      <td>3</td>\n",
       "      <td>0.029754</td>\n",
       "      <td>0.471394</td>\n",
       "      <td>8.740749</td>\n",
       "      <td>9.241897</td>\n",
       "      <td>9.241897</td>\n",
       "    </tr>\n",
       "    <tr>\n",
       "      <th>4</th>\n",
       "      <td>1.0</td>\n",
       "      <td>4</td>\n",
       "      <td>0.038261</td>\n",
       "      <td>0.560688</td>\n",
       "      <td>9.217087</td>\n",
       "      <td>9.816037</td>\n",
       "      <td>9.816037</td>\n",
       "    </tr>\n",
       "  </tbody>\n",
       "</table>\n",
       "</div>"
      ],
      "text/plain": [
       "   alpha  seed  variance_val  cross_val  bias_val  error_val   sum_val\n",
       "0    1.0     0      0.033274   0.575081  8.876108   9.484464  9.484464\n",
       "1    1.0     1      0.037575   0.565211  8.865063   9.467849  9.467849\n",
       "2    1.0     2      0.024289   0.371936  8.835777   9.232002  9.232002\n",
       "3    1.0     3      0.029754   0.471394  8.740749   9.241897  9.241897\n",
       "4    1.0     4      0.038261   0.560688  9.217087   9.816037  9.816037"
      ]
     },
     "execution_count": 315,
     "metadata": {},
     "output_type": "execute_result"
    }
   ],
   "source": [
    "tmp = df_val_errors.groupby([\"alpha\", \"seed\"])[[\"variance_val\", \"cross_val\", \"bias_val\", \"error_val\"]].mean().reset_index()\n",
    "tmp[\"sum_val\"] = tmp[[\"variance_val\", \"cross_val\", \"bias_val\"]].sum(axis=1)\n",
    "tmp.head()"
   ]
  },
  {
   "cell_type": "code",
   "execution_count": null,
   "metadata": {},
   "outputs": [],
   "source": []
  },
  {
   "cell_type": "code",
   "execution_count": null,
   "metadata": {},
   "outputs": [],
   "source": []
  },
  {
   "cell_type": "code",
   "execution_count": 282,
   "metadata": {},
   "outputs": [
    {
     "data": {
      "text/plain": [
       "9.311534190451166"
      ]
     },
     "execution_count": 282,
     "metadata": {},
     "output_type": "execute_result"
    }
   ],
   "source": [
    "df_val_errors[\"error_val\"].mean()"
   ]
  },
  {
   "cell_type": "code",
   "execution_count": 283,
   "metadata": {},
   "outputs": [
    {
     "data": {
      "text/plain": [
       "<matplotlib.axes._subplots.AxesSubplot at 0x119e55cf8>"
      ]
     },
     "execution_count": 283,
     "metadata": {},
     "output_type": "execute_result"
    },
    {
     "data": {
      "image/png": "[encoded data removed]",
      "text/plain": [
       "<Figure size 432x288 with 1 Axes>"
      ]
     },
     "metadata": {
      "needs_background": "light"
     },
     "output_type": "display_data"
    }
   ],
   "source": [
    "df_val_errors[\"error_val\"].hist()"
   ]
  },
  {
   "cell_type": "code",
   "execution_count": 260,
   "metadata": {},
   "outputs": [
    {
     "data": {
      "text/html": [
       "<div>\n",
       "<style scoped>\n",
       "    .dataframe tbody tr th:only-of-type {\n",
       "        vertical-align: middle;\n",
       "    }\n",
       "\n",
       "    .dataframe tbody tr th {\n",
       "        vertical-align: top;\n",
       "    }\n",
       "\n",
       "    .dataframe thead th {\n",
       "        text-align: right;\n",
       "    }\n",
       "</style>\n",
       "<table border=\"1\" class=\"dataframe\">\n",
       "  <thead>\n",
       "    <tr style=\"text-align: right;\">\n",
       "      <th></th>\n",
       "      <th></th>\n",
       "      <th>variance_val</th>\n",
       "      <th>bias_val</th>\n",
       "      <th>error_val</th>\n",
       "    </tr>\n",
       "    <tr>\n",
       "      <th>alpha</th>\n",
       "      <th>seed</th>\n",
       "      <th></th>\n",
       "      <th></th>\n",
       "      <th></th>\n",
       "    </tr>\n",
       "  </thead>\n",
       "  <tbody>\n",
       "    <tr>\n",
       "      <th rowspan=\"10\" valign=\"top\">1.0</th>\n",
       "      <th>0</th>\n",
       "      <td>2.661925</td>\n",
       "      <td>710.088641</td>\n",
       "      <td>758.757087</td>\n",
       "    </tr>\n",
       "    <tr>\n",
       "      <th>1</th>\n",
       "      <td>3.005965</td>\n",
       "      <td>709.205063</td>\n",
       "      <td>757.427894</td>\n",
       "    </tr>\n",
       "    <tr>\n",
       "      <th>2</th>\n",
       "      <td>1.943145</td>\n",
       "      <td>706.862156</td>\n",
       "      <td>738.560179</td>\n",
       "    </tr>\n",
       "    <tr>\n",
       "      <th>3</th>\n",
       "      <td>2.380358</td>\n",
       "      <td>699.259893</td>\n",
       "      <td>739.351732</td>\n",
       "    </tr>\n",
       "    <tr>\n",
       "      <th>4</th>\n",
       "      <td>3.060907</td>\n",
       "      <td>737.366998</td>\n",
       "      <td>785.282926</td>\n",
       "    </tr>\n",
       "    <tr>\n",
       "      <th>5</th>\n",
       "      <td>1.140786</td>\n",
       "      <td>724.426555</td>\n",
       "      <td>745.122129</td>\n",
       "    </tr>\n",
       "    <tr>\n",
       "      <th>6</th>\n",
       "      <td>2.230676</td>\n",
       "      <td>656.065319</td>\n",
       "      <td>694.623819</td>\n",
       "    </tr>\n",
       "    <tr>\n",
       "      <th>7</th>\n",
       "      <td>2.868363</td>\n",
       "      <td>740.722128</td>\n",
       "      <td>786.985730</td>\n",
       "    </tr>\n",
       "    <tr>\n",
       "      <th>8</th>\n",
       "      <td>1.177401</td>\n",
       "      <td>683.716193</td>\n",
       "      <td>706.608822</td>\n",
       "    </tr>\n",
       "    <tr>\n",
       "      <th>9</th>\n",
       "      <td>1.704735</td>\n",
       "      <td>664.945603</td>\n",
       "      <td>695.716278</td>\n",
       "    </tr>\n",
       "  </tbody>\n",
       "</table>\n",
       "</div>"
      ],
      "text/plain": [
       "            variance_val    bias_val   error_val\n",
       "alpha seed                                      \n",
       "1.0   0         2.661925  710.088641  758.757087\n",
       "      1         3.005965  709.205063  757.427894\n",
       "      2         1.943145  706.862156  738.560179\n",
       "      3         2.380358  699.259893  739.351732\n",
       "      4         3.060907  737.366998  785.282926\n",
       "      5         1.140786  724.426555  745.122129\n",
       "      6         2.230676  656.065319  694.623819\n",
       "      7         2.868363  740.722128  786.985730\n",
       "      8         1.177401  683.716193  706.608822\n",
       "      9         1.704735  664.945603  695.716278"
      ]
     },
     "execution_count": 260,
     "metadata": {},
     "output_type": "execute_result"
    }
   ],
   "source": [
    "df_errors.groupby([\"alpha\", \"seed\"])[[\"variance_val\", \"bias_val\", \"error_val\"]].sum()"
   ]
  },
  {
   "cell_type": "code",
   "execution_count": null,
   "metadata": {},
   "outputs": [],
   "source": []
  },
  {
   "cell_type": "code",
   "execution_count": null,
   "metadata": {},
   "outputs": [],
   "source": []
  },
  {
   "cell_type": "code",
   "execution_count": 223,
   "metadata": {},
   "outputs": [
    {
     "ename": "AssertionError",
     "evalue": "7 columns passed, passed data had 4 columns",
     "output_type": "error",
     "traceback": [
      "\u001b[0;31m---------------------------------------------------------------------------\u001b[0m",
      "\u001b[0;31mAssertionError\u001b[0m                            Traceback (most recent call last)",
      "\u001b[0;32m<ipython-input-223-78287a5a69fa>\u001b[0m in \u001b[0;36m<module>\u001b[0;34m\u001b[0m\n\u001b[1;32m      1\u001b[0m df_errors = pd.DataFrame(data, columns=[\"alpha\", \"seed\", \"errors\",\n\u001b[1;32m      2\u001b[0m                                         \u001b[0;34m\"variance_train\"\u001b[0m\u001b[0;34m,\u001b[0m \u001b[0;34m\"variance_val\"\u001b[0m\u001b[0;34m,\u001b[0m\u001b[0;34m\u001b[0m\u001b[0;34m\u001b[0m\u001b[0m\n\u001b[0;32m----> 3\u001b[0;31m                                         \"bias_train\", \"bias_val\"])\n\u001b[0m\u001b[1;32m      4\u001b[0m \u001b[0mdf_errors\u001b[0m\u001b[0;34m.\u001b[0m\u001b[0mhead\u001b[0m\u001b[0;34m(\u001b[0m\u001b[0;36m3\u001b[0m\u001b[0;34m)\u001b[0m\u001b[0;34m\u001b[0m\u001b[0;34m\u001b[0m\u001b[0m\n",
      "\u001b[0;32m/anaconda/lib/python3.6/site-packages/pandas/core/frame.py\u001b[0m in \u001b[0;36m__init__\u001b[0;34m(self, data, index, columns, dtype, copy)\u001b[0m\n\u001b[1;32m    433\u001b[0m                     \u001b[0;32mif\u001b[0m \u001b[0mis_named_tuple\u001b[0m\u001b[0;34m(\u001b[0m\u001b[0mdata\u001b[0m\u001b[0;34m[\u001b[0m\u001b[0;36m0\u001b[0m\u001b[0;34m]\u001b[0m\u001b[0;34m)\u001b[0m \u001b[0;32mand\u001b[0m \u001b[0mcolumns\u001b[0m \u001b[0;32mis\u001b[0m \u001b[0;32mNone\u001b[0m\u001b[0;34m:\u001b[0m\u001b[0;34m\u001b[0m\u001b[0;34m\u001b[0m\u001b[0m\n\u001b[1;32m    434\u001b[0m                         \u001b[0mcolumns\u001b[0m \u001b[0;34m=\u001b[0m \u001b[0mdata\u001b[0m\u001b[0;34m[\u001b[0m\u001b[0;36m0\u001b[0m\u001b[0;34m]\u001b[0m\u001b[0;34m.\u001b[0m\u001b[0m_fields\u001b[0m\u001b[0;34m\u001b[0m\u001b[0;34m\u001b[0m\u001b[0m\n\u001b[0;32m--> 435\u001b[0;31m                     \u001b[0marrays\u001b[0m\u001b[0;34m,\u001b[0m \u001b[0mcolumns\u001b[0m \u001b[0;34m=\u001b[0m \u001b[0mto_arrays\u001b[0m\u001b[0;34m(\u001b[0m\u001b[0mdata\u001b[0m\u001b[0;34m,\u001b[0m \u001b[0mcolumns\u001b[0m\u001b[0;34m,\u001b[0m \u001b[0mdtype\u001b[0m\u001b[0;34m=\u001b[0m\u001b[0mdtype\u001b[0m\u001b[0;34m)\u001b[0m\u001b[0;34m\u001b[0m\u001b[0;34m\u001b[0m\u001b[0m\n\u001b[0m\u001b[1;32m    436\u001b[0m                     \u001b[0mcolumns\u001b[0m \u001b[0;34m=\u001b[0m \u001b[0mensure_index\u001b[0m\u001b[0;34m(\u001b[0m\u001b[0mcolumns\u001b[0m\u001b[0;34m)\u001b[0m\u001b[0;34m\u001b[0m\u001b[0;34m\u001b[0m\u001b[0m\n\u001b[1;32m    437\u001b[0m \u001b[0;34m\u001b[0m\u001b[0m\n",
      "\u001b[0;32m/anaconda/lib/python3.6/site-packages/pandas/core/internals/construction.py\u001b[0m in \u001b[0;36mto_arrays\u001b[0;34m(data, columns, coerce_float, dtype)\u001b[0m\n\u001b[1;32m    402\u001b[0m     \u001b[0;32mif\u001b[0m \u001b[0misinstance\u001b[0m\u001b[0;34m(\u001b[0m\u001b[0mdata\u001b[0m\u001b[0;34m[\u001b[0m\u001b[0;36m0\u001b[0m\u001b[0;34m]\u001b[0m\u001b[0;34m,\u001b[0m \u001b[0;34m(\u001b[0m\u001b[0mlist\u001b[0m\u001b[0;34m,\u001b[0m \u001b[0mtuple\u001b[0m\u001b[0;34m)\u001b[0m\u001b[0;34m)\u001b[0m\u001b[0;34m:\u001b[0m\u001b[0;34m\u001b[0m\u001b[0;34m\u001b[0m\u001b[0m\n\u001b[1;32m    403\u001b[0m         return _list_to_arrays(data, columns, coerce_float=coerce_float,\n\u001b[0;32m--> 404\u001b[0;31m                                dtype=dtype)\n\u001b[0m\u001b[1;32m    405\u001b[0m     \u001b[0;32melif\u001b[0m \u001b[0misinstance\u001b[0m\u001b[0;34m(\u001b[0m\u001b[0mdata\u001b[0m\u001b[0;34m[\u001b[0m\u001b[0;36m0\u001b[0m\u001b[0;34m]\u001b[0m\u001b[0;34m,\u001b[0m \u001b[0mcompat\u001b[0m\u001b[0;34m.\u001b[0m\u001b[0mMapping\u001b[0m\u001b[0;34m)\u001b[0m\u001b[0;34m:\u001b[0m\u001b[0;34m\u001b[0m\u001b[0;34m\u001b[0m\u001b[0m\n\u001b[1;32m    406\u001b[0m         return _list_of_dict_to_arrays(data, columns,\n",
      "\u001b[0;32m/anaconda/lib/python3.6/site-packages/pandas/core/internals/construction.py\u001b[0m in \u001b[0;36m_list_to_arrays\u001b[0;34m(data, columns, coerce_float, dtype)\u001b[0m\n\u001b[1;32m    434\u001b[0m         \u001b[0mcontent\u001b[0m \u001b[0;34m=\u001b[0m \u001b[0mlist\u001b[0m\u001b[0;34m(\u001b[0m\u001b[0mlib\u001b[0m\u001b[0;34m.\u001b[0m\u001b[0mto_object_array\u001b[0m\u001b[0;34m(\u001b[0m\u001b[0mdata\u001b[0m\u001b[0;34m)\u001b[0m\u001b[0;34m.\u001b[0m\u001b[0mT\u001b[0m\u001b[0;34m)\u001b[0m\u001b[0;34m\u001b[0m\u001b[0;34m\u001b[0m\u001b[0m\n\u001b[1;32m    435\u001b[0m     return _convert_object_array(content, columns, dtype=dtype,\n\u001b[0;32m--> 436\u001b[0;31m                                  coerce_float=coerce_float)\n\u001b[0m\u001b[1;32m    437\u001b[0m \u001b[0;34m\u001b[0m\u001b[0m\n\u001b[1;32m    438\u001b[0m \u001b[0;34m\u001b[0m\u001b[0m\n",
      "\u001b[0;32m/anaconda/lib/python3.6/site-packages/pandas/core/internals/construction.py\u001b[0m in \u001b[0;36m_convert_object_array\u001b[0;34m(content, columns, coerce_float, dtype)\u001b[0m\n\u001b[1;32m    490\u001b[0m             raise AssertionError('{col:d} columns passed, passed data had '\n\u001b[1;32m    491\u001b[0m                                  '{con} columns'.format(col=len(columns),\n\u001b[0;32m--> 492\u001b[0;31m                                                         con=len(content)))\n\u001b[0m\u001b[1;32m    493\u001b[0m \u001b[0;34m\u001b[0m\u001b[0m\n\u001b[1;32m    494\u001b[0m     \u001b[0;31m# provide soft conversion of object dtypes\u001b[0m\u001b[0;34m\u001b[0m\u001b[0;34m\u001b[0m\u001b[0;34m\u001b[0m\u001b[0m\n",
      "\u001b[0;31mAssertionError\u001b[0m: 7 columns passed, passed data had 4 columns"
     ]
    }
   ],
   "source": [
    "df_errors = pd.DataFrame(data, columns=[\"alpha\", \"seed\", \"errors\",\n",
    "                                        \"variance_train\", \"variance_val\",\n",
    "                                        \"bias_train\", \"bias_val\"])\n",
    "df_errors.head(3)"
   ]
  },
  {
   "cell_type": "code",
   "execution_count": null,
   "metadata": {},
   "outputs": [],
   "source": []
  },
  {
   "cell_type": "code",
   "execution_count": null,
   "metadata": {},
   "outputs": [],
   "source": []
  },
  {
   "cell_type": "code",
   "execution_count": null,
   "metadata": {},
   "outputs": [],
   "source": []
  },
  {
   "cell_type": "code",
   "execution_count": null,
   "metadata": {},
   "outputs": [],
   "source": []
  },
  {
   "cell_type": "code",
   "execution_count": null,
   "metadata": {},
   "outputs": [],
   "source": [
    "from sklearn.model_selection import train_test_split\n",
    "from sklearn.model_selection import KFold\n",
    "\n",
    "def perform_cv_with_val(estimator, X_train, y_train, cv, seed):\n",
    "    models = []\n",
    "    errors = []\n",
    "    kfold = KFold(n_splits=cv, random_state=seed).split(X_train, y_train)\n",
    "    for k, (train, val) in enumerate(kfold):\n",
    "        model = copy.deepcopy(estimator)\n",
    "        model.fit(X_train[train], y_train[train])\n",
    "        y_pred = model.predict(X_train[val])\n",
    "        error = compute_ms(y_pred - y_train[val])\n",
    "        models.append(model)\n",
    "        errors.append(error)\n",
    "    return models, errors\n",
    "\n",
    "def perform_cv_with_test(estimator, X_train, y_train, X_test, y_test, cv, seed):\n",
    "    models = []\n",
    "    errors = []\n",
    "    kfold = KFold(n_splits=cv, random_state=seed).split(X_train, y_train)\n",
    "    for k, (train, _) in enumerate(kfold):\n",
    "        model = copy.deepcopy(estimator)\n",
    "        model.fit(X_train[train], y_train[train])\n",
    "        y_pred = model.predict(X_test)\n",
    "        error = compute_ms(y_pred - y_test)\n",
    "        models.append(model)\n",
    "        errors.append(error)\n",
    "    return models, errors\n",
    "\n",
    "def perform_cv_with_val_bv(estimator, X_train, y_train, cv, seed):\n",
    "    models = []\n",
    "    y_preds = []\n",
    "    trains = []\n",
    "    vals = []\n",
    "    kfold = KFold(n_splits=cv, random_state=seed).split(X_train, y_train)\n",
    "    for k, (train, val) in enumerate(kfold):\n",
    "        model = copy.deepcopy(estimator)\n",
    "        model.fit(X_train[train], y_train[train])\n",
    "        models.append(model)\n",
    "\n",
    "        y_preds.append(model.predict(X_train))\n",
    "        trains.append(train)\n",
    "        vals.append(val)\n",
    "\n",
    "    y_pred_mean = np.array(y_preds).mean(axis=0)\n",
    "    print(y_pred_mean)\n",
    "\n",
    "    errors = [\n",
    "        [compute_ms(y_pred[train] - y_pred_mean[train]),\n",
    "         compute_ms(y_pred_mean[train] - y_train[train]),\n",
    "         compute_ms(y_pred[train] - y_train[train]),\n",
    "         compute_ms(y_pred[val] - y_pred_mean[val]),\n",
    "         compute_ms(y_pred_mean[val] - y_train[val]),\n",
    "         compute_ms(y_pred[val] - y_train[val])]\n",
    "        for y_pred, train, val in zip(y_preds, trains, vals)]\n",
    "\n",
    "    return models, errors\n",
    "\n",
    "def compute_average_model():\n",
    "    pass\n",
    "\n",
    "def compute_ms(x):\n",
    "    return (x**2).sum()\n",
    "\n",
    "def compute_bias(X):\n",
    "    pass\n",
    "\n",
    "def compute_variance(X):\n",
    "    pass\n",
    "\n",
    "\n"
   ]
  },
  {
   "cell_type": "code",
   "execution_count": 222,
   "metadata": {},
   "outputs": [
    {
     "ename": "AssertionError",
     "evalue": "7 columns passed, passed data had 4 columns",
     "output_type": "error",
     "traceback": [
      "\u001b[0;31m---------------------------------------------------------------------------\u001b[0m",
      "\u001b[0;31mAssertionError\u001b[0m                            Traceback (most recent call last)",
      "\u001b[0;32m<ipython-input-222-b975c6721a11>\u001b[0m in \u001b[0;36m<module>\u001b[0;34m\u001b[0m\n\u001b[1;32m     17\u001b[0m df_errors = pd.DataFrame(data, columns=[\"alpha\", \"seed\", \"errors\",\n\u001b[1;32m     18\u001b[0m                                         \u001b[0;34m\"variance_train\"\u001b[0m\u001b[0;34m,\u001b[0m \u001b[0;34m\"variance_val\"\u001b[0m\u001b[0;34m,\u001b[0m\u001b[0;34m\u001b[0m\u001b[0;34m\u001b[0m\u001b[0m\n\u001b[0;32m---> 19\u001b[0;31m                                         \"bias_train\", \"bias_val\"])\n\u001b[0m\u001b[1;32m     20\u001b[0m \u001b[0mdf_errors\u001b[0m\u001b[0;34m.\u001b[0m\u001b[0mhead\u001b[0m\u001b[0;34m(\u001b[0m\u001b[0;36m3\u001b[0m\u001b[0;34m)\u001b[0m\u001b[0;34m\u001b[0m\u001b[0;34m\u001b[0m\u001b[0m\n",
      "\u001b[0;32m/anaconda/lib/python3.6/site-packages/pandas/core/frame.py\u001b[0m in \u001b[0;36m__init__\u001b[0;34m(self, data, index, columns, dtype, copy)\u001b[0m\n\u001b[1;32m    433\u001b[0m                     \u001b[0;32mif\u001b[0m \u001b[0mis_named_tuple\u001b[0m\u001b[0;34m(\u001b[0m\u001b[0mdata\u001b[0m\u001b[0;34m[\u001b[0m\u001b[0;36m0\u001b[0m\u001b[0;34m]\u001b[0m\u001b[0;34m)\u001b[0m \u001b[0;32mand\u001b[0m \u001b[0mcolumns\u001b[0m \u001b[0;32mis\u001b[0m \u001b[0;32mNone\u001b[0m\u001b[0;34m:\u001b[0m\u001b[0;34m\u001b[0m\u001b[0;34m\u001b[0m\u001b[0m\n\u001b[1;32m    434\u001b[0m                         \u001b[0mcolumns\u001b[0m \u001b[0;34m=\u001b[0m \u001b[0mdata\u001b[0m\u001b[0;34m[\u001b[0m\u001b[0;36m0\u001b[0m\u001b[0;34m]\u001b[0m\u001b[0;34m.\u001b[0m\u001b[0m_fields\u001b[0m\u001b[0;34m\u001b[0m\u001b[0;34m\u001b[0m\u001b[0m\n\u001b[0;32m--> 435\u001b[0;31m                     \u001b[0marrays\u001b[0m\u001b[0;34m,\u001b[0m \u001b[0mcolumns\u001b[0m \u001b[0;34m=\u001b[0m \u001b[0mto_arrays\u001b[0m\u001b[0;34m(\u001b[0m\u001b[0mdata\u001b[0m\u001b[0;34m,\u001b[0m \u001b[0mcolumns\u001b[0m\u001b[0;34m,\u001b[0m \u001b[0mdtype\u001b[0m\u001b[0;34m=\u001b[0m\u001b[0mdtype\u001b[0m\u001b[0;34m)\u001b[0m\u001b[0;34m\u001b[0m\u001b[0;34m\u001b[0m\u001b[0m\n\u001b[0m\u001b[1;32m    436\u001b[0m                     \u001b[0mcolumns\u001b[0m \u001b[0;34m=\u001b[0m \u001b[0mensure_index\u001b[0m\u001b[0;34m(\u001b[0m\u001b[0mcolumns\u001b[0m\u001b[0;34m)\u001b[0m\u001b[0;34m\u001b[0m\u001b[0;34m\u001b[0m\u001b[0m\n\u001b[1;32m    437\u001b[0m \u001b[0;34m\u001b[0m\u001b[0m\n",
      "\u001b[0;32m/anaconda/lib/python3.6/site-packages/pandas/core/internals/construction.py\u001b[0m in \u001b[0;36mto_arrays\u001b[0;34m(data, columns, coerce_float, dtype)\u001b[0m\n\u001b[1;32m    402\u001b[0m     \u001b[0;32mif\u001b[0m \u001b[0misinstance\u001b[0m\u001b[0;34m(\u001b[0m\u001b[0mdata\u001b[0m\u001b[0;34m[\u001b[0m\u001b[0;36m0\u001b[0m\u001b[0;34m]\u001b[0m\u001b[0;34m,\u001b[0m \u001b[0;34m(\u001b[0m\u001b[0mlist\u001b[0m\u001b[0;34m,\u001b[0m \u001b[0mtuple\u001b[0m\u001b[0;34m)\u001b[0m\u001b[0;34m)\u001b[0m\u001b[0;34m:\u001b[0m\u001b[0;34m\u001b[0m\u001b[0;34m\u001b[0m\u001b[0m\n\u001b[1;32m    403\u001b[0m         return _list_to_arrays(data, columns, coerce_float=coerce_float,\n\u001b[0;32m--> 404\u001b[0;31m                                dtype=dtype)\n\u001b[0m\u001b[1;32m    405\u001b[0m     \u001b[0;32melif\u001b[0m \u001b[0misinstance\u001b[0m\u001b[0;34m(\u001b[0m\u001b[0mdata\u001b[0m\u001b[0;34m[\u001b[0m\u001b[0;36m0\u001b[0m\u001b[0;34m]\u001b[0m\u001b[0;34m,\u001b[0m \u001b[0mcompat\u001b[0m\u001b[0;34m.\u001b[0m\u001b[0mMapping\u001b[0m\u001b[0;34m)\u001b[0m\u001b[0;34m:\u001b[0m\u001b[0;34m\u001b[0m\u001b[0;34m\u001b[0m\u001b[0m\n\u001b[1;32m    406\u001b[0m         return _list_of_dict_to_arrays(data, columns,\n",
      "\u001b[0;32m/anaconda/lib/python3.6/site-packages/pandas/core/internals/construction.py\u001b[0m in \u001b[0;36m_list_to_arrays\u001b[0;34m(data, columns, coerce_float, dtype)\u001b[0m\n\u001b[1;32m    434\u001b[0m         \u001b[0mcontent\u001b[0m \u001b[0;34m=\u001b[0m \u001b[0mlist\u001b[0m\u001b[0;34m(\u001b[0m\u001b[0mlib\u001b[0m\u001b[0;34m.\u001b[0m\u001b[0mto_object_array\u001b[0m\u001b[0;34m(\u001b[0m\u001b[0mdata\u001b[0m\u001b[0;34m)\u001b[0m\u001b[0;34m.\u001b[0m\u001b[0mT\u001b[0m\u001b[0;34m)\u001b[0m\u001b[0;34m\u001b[0m\u001b[0;34m\u001b[0m\u001b[0m\n\u001b[1;32m    435\u001b[0m     return _convert_object_array(content, columns, dtype=dtype,\n\u001b[0;32m--> 436\u001b[0;31m                                  coerce_float=coerce_float)\n\u001b[0m\u001b[1;32m    437\u001b[0m \u001b[0;34m\u001b[0m\u001b[0m\n\u001b[1;32m    438\u001b[0m \u001b[0;34m\u001b[0m\u001b[0m\n",
      "\u001b[0;32m/anaconda/lib/python3.6/site-packages/pandas/core/internals/construction.py\u001b[0m in \u001b[0;36m_convert_object_array\u001b[0;34m(content, columns, coerce_float, dtype)\u001b[0m\n\u001b[1;32m    490\u001b[0m             raise AssertionError('{col:d} columns passed, passed data had '\n\u001b[1;32m    491\u001b[0m                                  '{con} columns'.format(col=len(columns),\n\u001b[0;32m--> 492\u001b[0;31m                                                         con=len(content)))\n\u001b[0m\u001b[1;32m    493\u001b[0m \u001b[0;34m\u001b[0m\u001b[0m\n\u001b[1;32m    494\u001b[0m     \u001b[0;31m# provide soft conversion of object dtypes\u001b[0m\u001b[0;34m\u001b[0m\u001b[0;34m\u001b[0m\u001b[0;34m\u001b[0m\u001b[0m\n",
      "\u001b[0;31mAssertionError\u001b[0m: 7 columns passed, passed data had 4 columns"
     ]
    }
   ],
   "source": [
    "from sklearn.linear_model import LinearRegression\n",
    "from sklearn.linear_model import Ridge\n",
    "\n",
    "cv = 10\n",
    "seeds = list(range(100))\n",
    "alphas = np.power(10.0, np.arange(-4, 5, 1))\n",
    "data = []\n",
    "for alpha in alphas:\n",
    "    estimator = Ridge(alpha=alpha)\n",
    "    for seed in seeds:\n",
    "        X_train, X_test, y_train, y_test =\\\n",
    "            train_test_split(X, y, test_size=0.20, random_state=seed)\n",
    "        _, errors_val = perform_cv_with_val(estimator, X_train, y_train, cv, seed)\n",
    "        _, errors_test = perform_cv_with_test(estimator, X_train, y_train, X_test, y_test, cv, seed)\n",
    "        data.append([alpha,\n",
    "                     seed,\n",
    "                     np.sqrt(np.mean(errors_val)),\n",
    "                     np.sqrt(np.mean(errors_test))])\n",
    "\n",
    "df_errors = pd.DataFrame(data, columns=[\"alpha\", \"seed\", \"errors_val\", \"errors_test\"])\n",
    "df_errors.head(3)"
   ]
  },
  {
   "cell_type": "code",
   "execution_count": null,
   "metadata": {},
   "outputs": [],
   "source": [
    "df_errors"
   ]
  },
  {
   "cell_type": "code",
   "execution_count": 215,
   "metadata": {},
   "outputs": [
    {
     "data": {
      "text/html": [
       "<div>\n",
       "<style scoped>\n",
       "    .dataframe tbody tr th:only-of-type {\n",
       "        vertical-align: middle;\n",
       "    }\n",
       "\n",
       "    .dataframe tbody tr th {\n",
       "        vertical-align: top;\n",
       "    }\n",
       "\n",
       "    .dataframe thead th {\n",
       "        text-align: right;\n",
       "    }\n",
       "</style>\n",
       "<table border=\"1\" class=\"dataframe\">\n",
       "  <thead>\n",
       "    <tr style=\"text-align: right;\">\n",
       "      <th></th>\n",
       "      <th>errors_val</th>\n",
       "      <th>errors_test</th>\n",
       "    </tr>\n",
       "    <tr>\n",
       "      <th>alpha</th>\n",
       "      <th></th>\n",
       "      <th></th>\n",
       "    </tr>\n",
       "  </thead>\n",
       "  <tbody>\n",
       "    <tr>\n",
       "      <th>0.0001</th>\n",
       "      <td>3.050378</td>\n",
       "      <td>3.061412</td>\n",
       "    </tr>\n",
       "    <tr>\n",
       "      <th>0.0010</th>\n",
       "      <td>3.050378</td>\n",
       "      <td>3.061412</td>\n",
       "    </tr>\n",
       "    <tr>\n",
       "      <th>0.0100</th>\n",
       "      <td>3.050378</td>\n",
       "      <td>3.061412</td>\n",
       "    </tr>\n",
       "    <tr>\n",
       "      <th>0.1000</th>\n",
       "      <td>3.050376</td>\n",
       "      <td>3.061409</td>\n",
       "    </tr>\n",
       "    <tr>\n",
       "      <th>1.0000</th>\n",
       "      <td>3.050358</td>\n",
       "      <td>3.061376</td>\n",
       "    </tr>\n",
       "    <tr>\n",
       "      <th>10.0000</th>\n",
       "      <td>3.050269</td>\n",
       "      <td>3.061132</td>\n",
       "    </tr>\n",
       "    <tr>\n",
       "      <th>100.0000</th>\n",
       "      <td>3.057481</td>\n",
       "      <td>3.066377</td>\n",
       "    </tr>\n",
       "    <tr>\n",
       "      <th>1000.0000</th>\n",
       "      <td>3.490812</td>\n",
       "      <td>3.471954</td>\n",
       "    </tr>\n",
       "    <tr>\n",
       "      <th>10000.0000</th>\n",
       "      <td>5.567208</td>\n",
       "      <td>5.509681</td>\n",
       "    </tr>\n",
       "  </tbody>\n",
       "</table>\n",
       "</div>"
      ],
      "text/plain": [
       "            errors_val  errors_test\n",
       "alpha                              \n",
       "0.0001        3.050378     3.061412\n",
       "0.0010        3.050378     3.061412\n",
       "0.0100        3.050378     3.061412\n",
       "0.1000        3.050376     3.061409\n",
       "1.0000        3.050358     3.061376\n",
       "10.0000       3.050269     3.061132\n",
       "100.0000      3.057481     3.066377\n",
       "1000.0000     3.490812     3.471954\n",
       "10000.0000    5.567208     5.509681"
      ]
     },
     "execution_count": 215,
     "metadata": {},
     "output_type": "execute_result"
    }
   ],
   "source": [
    "df_errors.groupby(\"alpha\")[[\"errors_val\", \"errors_test\"]].mean()"
   ]
  },
  {
   "cell_type": "code",
   "execution_count": 216,
   "metadata": {},
   "outputs": [
    {
     "data": {
      "text/html": [
       "<div>\n",
       "<style scoped>\n",
       "    .dataframe tbody tr th:only-of-type {\n",
       "        vertical-align: middle;\n",
       "    }\n",
       "\n",
       "    .dataframe tbody tr th {\n",
       "        vertical-align: top;\n",
       "    }\n",
       "\n",
       "    .dataframe thead th {\n",
       "        text-align: right;\n",
       "    }\n",
       "</style>\n",
       "<table border=\"1\" class=\"dataframe\">\n",
       "  <thead>\n",
       "    <tr style=\"text-align: right;\">\n",
       "      <th></th>\n",
       "      <th>errors_val</th>\n",
       "      <th>errors_test</th>\n",
       "    </tr>\n",
       "    <tr>\n",
       "      <th>alpha</th>\n",
       "      <th></th>\n",
       "      <th></th>\n",
       "    </tr>\n",
       "  </thead>\n",
       "  <tbody>\n",
       "    <tr>\n",
       "      <th>0.0001</th>\n",
       "      <td>0.083185</td>\n",
       "      <td>0.322193</td>\n",
       "    </tr>\n",
       "    <tr>\n",
       "      <th>0.0010</th>\n",
       "      <td>0.083185</td>\n",
       "      <td>0.322193</td>\n",
       "    </tr>\n",
       "    <tr>\n",
       "      <th>0.0100</th>\n",
       "      <td>0.083185</td>\n",
       "      <td>0.322194</td>\n",
       "    </tr>\n",
       "    <tr>\n",
       "      <th>0.1000</th>\n",
       "      <td>0.083185</td>\n",
       "      <td>0.322203</td>\n",
       "    </tr>\n",
       "    <tr>\n",
       "      <th>1.0000</th>\n",
       "      <td>0.083183</td>\n",
       "      <td>0.322297</td>\n",
       "    </tr>\n",
       "    <tr>\n",
       "      <th>10.0000</th>\n",
       "      <td>0.083160</td>\n",
       "      <td>0.323271</td>\n",
       "    </tr>\n",
       "    <tr>\n",
       "      <th>100.0000</th>\n",
       "      <td>0.082845</td>\n",
       "      <td>0.335671</td>\n",
       "    </tr>\n",
       "    <tr>\n",
       "      <th>1000.0000</th>\n",
       "      <td>0.079565</td>\n",
       "      <td>0.490314</td>\n",
       "    </tr>\n",
       "    <tr>\n",
       "      <th>10000.0000</th>\n",
       "      <td>0.135778</td>\n",
       "      <td>0.702408</td>\n",
       "    </tr>\n",
       "  </tbody>\n",
       "</table>\n",
       "</div>"
      ],
      "text/plain": [
       "            errors_val  errors_test\n",
       "alpha                              \n",
       "0.0001        0.083185     0.322193\n",
       "0.0010        0.083185     0.322193\n",
       "0.0100        0.083185     0.322194\n",
       "0.1000        0.083185     0.322203\n",
       "1.0000        0.083183     0.322297\n",
       "10.0000       0.083160     0.323271\n",
       "100.0000      0.082845     0.335671\n",
       "1000.0000     0.079565     0.490314\n",
       "10000.0000    0.135778     0.702408"
      ]
     },
     "execution_count": 216,
     "metadata": {},
     "output_type": "execute_result"
    }
   ],
   "source": [
    "df_errors.groupby(\"alpha\")[[\"errors_val\", \"errors_test\"]].std()"
   ]
  },
  {
   "cell_type": "code",
   "execution_count": null,
   "metadata": {},
   "outputs": [],
   "source": []
  },
  {
   "cell_type": "code",
   "execution_count": null,
   "metadata": {},
   "outputs": [],
   "source": []
  },
  {
   "cell_type": "code",
   "execution_count": null,
   "metadata": {},
   "outputs": [],
   "source": []
  },
  {
   "cell_type": "code",
   "execution_count": null,
   "metadata": {},
   "outputs": [],
   "source": []
  },
  {
   "cell_type": "code",
   "execution_count": 172,
   "metadata": {},
   "outputs": [
    {
     "data": {
      "image/png": "[encoded data removed]",
      "text/plain": [
       "<Figure size 432x288 with 1 Axes>"
      ]
     },
     "metadata": {
      "needs_background": "light"
     },
     "output_type": "display_data"
    }
   ],
   "source": [
    "df_errors[\"errors_val\"].hist(bins=np.arange(1.4, 2.6, 0.025), alpha=0.6);\n",
    "df_errors[\"errors_test\"].hist(bins=np.arange(1.4, 2.6, 0.025), alpha=0.6);"
   ]
  },
  {
   "cell_type": "code",
   "execution_count": 173,
   "metadata": {},
   "outputs": [
    {
     "data": {
      "text/plain": [
       "2.0387160474448693"
      ]
     },
     "execution_count": 173,
     "metadata": {},
     "output_type": "execute_result"
    }
   ],
   "source": [
    "df_errors[\"errors_val\"].mean()"
   ]
  },
  {
   "cell_type": "code",
   "execution_count": 174,
   "metadata": {},
   "outputs": [
    {
     "data": {
      "text/plain": [
       "2.0201136163687567"
      ]
     },
     "execution_count": 174,
     "metadata": {},
     "output_type": "execute_result"
    }
   ],
   "source": [
    "df_errors[\"errors_test\"].mean()"
   ]
  },
  {
   "cell_type": "code",
   "execution_count": null,
   "metadata": {},
   "outputs": [],
   "source": []
  },
  {
   "cell_type": "code",
   "execution_count": 91,
   "metadata": {},
   "outputs": [],
   "source": [
    "estimator = LinearRegression()\n",
    "cv = 10\n",
    "models, errors = cross_val_score(estimator=estimator, X=X_train, y=y_train, cv=cv)"
   ]
  },
  {
   "cell_type": "code",
   "execution_count": 111,
   "metadata": {},
   "outputs": [
    {
     "name": "stdout",
     "output_type": "stream",
     "text": [
      "0.12785337777769584 0.1739651484451831\n"
     ]
    }
   ],
   "source": [
    "y_test_pred = np.zeros((cv, X_test.shape[0]))\n",
    "for i in range(cv):\n",
    "    y_test_pred[i, :] = models[i].predict(X_test)\n",
    "    \n",
    "y_test_pred_mean = y_test_pred.mean(axis=0)\n",
    "bmn = np.sqrt(((y_test_pred - y_test_pred_mean) ** 2).ravel().mean())\n",
    "bsd = np.sqrt(((y_test_pred - y_test_pred_mean) ** 2).ravel().std())\n",
    "print(bmn, bsd)"
   ]
  },
  {
   "cell_type": "code",
   "execution_count": 102,
   "metadata": {},
   "outputs": [
    {
     "data": {
      "text/plain": [
       "2.042633081382802"
      ]
     },
     "execution_count": 102,
     "metadata": {},
     "output_type": "execute_result"
    }
   ],
   "source": [
    "np.linalg.norm(y_test - y_test_pred_mean) / np.sqrt(len(y_test_pred_mean))"
   ]
  },
  {
   "cell_type": "code",
   "execution_count": 110,
   "metadata": {},
   "outputs": [
    {
     "name": "stdout",
     "output_type": "stream",
     "text": [
      "0.5485294668243403 0.28491681321679296\n"
     ]
    }
   ],
   "source": [
    "vmn = np.sqrt(((y_test_pred_mean - X_test.ravel())**2).mean())\n",
    "vsd = np.sqrt(((y_test_pred_mean - X_test.ravel())**2).std())\n",
    "print(vmn, vsd)"
   ]
  },
  {
   "cell_type": "code",
   "execution_count": null,
   "metadata": {},
   "outputs": [],
   "source": []
  },
  {
   "cell_type": "code",
   "execution_count": null,
   "metadata": {},
   "outputs": [],
   "source": []
  },
  {
   "cell_type": "code",
   "execution_count": 132,
   "metadata": {},
   "outputs": [
    {
     "data": {
      "image/png": "[encoded data removed]",
      "text/plain": [
       "<Figure size 432x288 with 1 Axes>"
      ]
     },
     "metadata": {
      "needs_background": "light"
     },
     "output_type": "display_data"
    }
   ],
   "source": [
    "x = np.linspace(1, 5, 41)\n",
    "sgms = x.copy()\n",
    "y = 5 + 3 * x + np.random.normal(loc=0, scale=sgms, size=len(sgms))\n",
    "plt.scatter(x, y);"
   ]
  },
  {
   "cell_type": "code",
   "execution_count": null,
   "metadata": {},
   "outputs": [],
   "source": []
  },
  {
   "cell_type": "code",
   "execution_count": null,
   "metadata": {},
   "outputs": [],
   "source": []
  },
  {
   "cell_type": "code",
   "execution_count": 121,
   "metadata": {},
   "outputs": [
    {
     "data": {
      "text/plain": [
       "array([1. , 1.1, 1.2, 1.3, 1.4, 1.5, 1.6, 1.7, 1.8, 1.9, 2. , 2.1, 2.2,\n",
       "       2.3, 2.4, 2.5, 2.6, 2.7, 2.8, 2.9, 3. , 3.1, 3.2, 3.3, 3.4, 3.5,\n",
       "       3.6, 3.7, 3.8, 3.9, 4. , 4.1, 4.2, 4.3, 4.4, 4.5, 4.6, 4.7, 4.8,\n",
       "       4.9, 5. ])"
      ]
     },
     "execution_count": 121,
     "metadata": {},
     "output_type": "execute_result"
    }
   ],
   "source": [
    "np.linspace(1, 5, 41)"
   ]
  },
  {
   "cell_type": "code",
   "execution_count": null,
   "metadata": {},
   "outputs": [],
   "source": []
  },
  {
   "cell_type": "code",
   "execution_count": 51,
   "metadata": {},
   "outputs": [
    {
     "data": {
      "text/plain": [
       "LinearRegression(copy_X=True, fit_intercept=True, n_jobs=None, normalize=False)"
      ]
     },
     "execution_count": 51,
     "metadata": {},
     "output_type": "execute_result"
    }
   ],
   "source": [
    "model.fit(X, y)"
   ]
  },
  {
   "cell_type": "code",
   "execution_count": 54,
   "metadata": {},
   "outputs": [
    {
     "data": {
      "text/plain": [
       "array([0.9936935])"
      ]
     },
     "execution_count": 54,
     "metadata": {},
     "output_type": "execute_result"
    }
   ],
   "source": [
    "model.coef_"
   ]
  },
  {
   "cell_type": "code",
   "execution_count": 55,
   "metadata": {},
   "outputs": [
    {
     "data": {
      "text/plain": [
       "0.3812371762964972"
      ]
     },
     "execution_count": 55,
     "metadata": {},
     "output_type": "execute_result"
    }
   ],
   "source": [
    "model.intercept_"
   ]
  },
  {
   "cell_type": "code",
   "execution_count": 63,
   "metadata": {},
   "outputs": [
    {
     "data": {
      "text/plain": [
       "1.9924243009205125"
      ]
     },
     "execution_count": 63,
     "metadata": {},
     "output_type": "execute_result"
    }
   ],
   "source": [
    "np.sqrt(((model.predict(X) - y) ** 2).mean())"
   ]
  },
  {
   "cell_type": "code",
   "execution_count": null,
   "metadata": {},
   "outputs": [],
   "source": [
    "model."
   ]
  },
  {
   "cell_type": "code",
   "execution_count": 53,
   "metadata": {},
   "outputs": [
    {
     "data": {
      "text/plain": [
       "0.8921228838344973"
      ]
     },
     "execution_count": 53,
     "metadata": {},
     "output_type": "execute_result"
    }
   ],
   "source": [
    "model.score(X, y)"
   ]
  },
  {
   "cell_type": "code",
   "execution_count": null,
   "metadata": {},
   "outputs": [],
   "source": []
  },
  {
   "cell_type": "code",
   "execution_count": null,
   "metadata": {},
   "outputs": [],
   "source": [
    "\n",
    "- cv estimate of variance at $(\\mathbf{x}, y) \\in D^{(l)}_{v}$\n",
    "\n",
    "$$\n",
    "\\mathbb{E}_{l}\\Big[\n",
    "    \\mathbb{E}_{D^{(l)}_{v}}\\Big[\n",
    "        \\big(\n",
    "            \\hat{y}_{D^{(l)}_{r}}(\\mathbf{x}) - \\hat{f}_{D_{r}}(\\mathbf{x})\n",
    "        \\big)^{2}\n",
    "    \\Big]\n",
    "\\Big]\n",
    "$$\n",
    "\n",
    "- cv estimate of bias$^{2}$ + noise at $(\\mathbf{x}, y)$\n",
    "\n",
    "$$\n",
    "\\mathbb{E}_{l}\\Big[\n",
    "    \\mathbb{E}_{D^{(l)}_{v}}\\Big[\n",
    "        \\big(\n",
    "            \\hat{f}_{D_{r}}(\\mathbf{x}) - y\n",
    "        \\big)^{2}\n",
    "    \\Big]\n",
    "\\Big]\n",
    ",\n",
    "\\quad\n",
    "(\\mathbf{x}, y) \\in D^{(l)}_{v}\n",
    "$$\n",
    "\n",
    "\n",
    "- cv estimate of variance at $(\\mathbf{x}, y)$\n",
    "\n",
    "$$\n",
    "\\mathbb{E}_{l}\\Big[\n",
    "    \\mathbb{E}_{D^{(l)}_{v}}\\Big[\n",
    "        \\mathbb{E}_{D^{(l)}_{r}}\\big[\n",
    "            \\big(\n",
    "                \\hat{y}_{D^{(l)}_{r}}(\\mathbf{x}) - \\hat{f}_{D_{r}}(\\mathbf{x})\n",
    "            \\big)^{2}\n",
    "        \\big]\n",
    "    \\Big]\n",
    "\\Big]\n",
    ",\n",
    "\\quad\n",
    "(\\mathbf{x}, y) \\in D^{(l)}_{v}\n",
    "$$\n",
    "\n",
    "- cv estimate of bias$^{2}$ + noise at $(\\mathbf{x}, y)$\n",
    "\n",
    "$$\n",
    "\\mathbb{E}_{l}\\Big[\n",
    "    \\mathbb{E}_{D^{(l)}_{v}}\\Big[\n",
    "        \\big(\n",
    "            \\hat{f}_{D_{r}}(\\mathbf{x}) - y\n",
    "        \\big)^{2}\n",
    "    \\Big]\n",
    "\\Big]\n",
    ",\n",
    "\\quad\n",
    "(\\mathbf{x}, y) \\in D^{(l)}_{v}\n",
    "$$\n",
    "\n",
    "\n",
    "- assume true model\n",
    "\n",
    "$$\n",
    "y = f_{0}(x) + \\epsilon\n",
    ",\\quad\n",
    "\\epsilon \\sim Normal(0, \\sigma^{2})\n",
    "$$\n",
    "\n",
    "\n",
    "\n",
    "\n"
   ]
  },
  {
   "cell_type": "code",
   "execution_count": 49,
   "metadata": {},
   "outputs": [
    {
     "name": "stdout",
     "output_type": "stream",
     "text": [
      "CV accuracy scores: [0.8215902  0.90934747 0.8671446  0.91629116 0.77906875]\n",
      "CV accuracy: 0.859 +/- 0.052\n"
     ]
    }
   ],
   "source": [
    "from sklearn.model_selection import cross_val_score\n",
    "\n",
    "scores = cross_val_score(estimator=LinearRegression(),\n",
    "                         X=X_train,\n",
    "                         y=y_train,\n",
    "                         cv=5,\n",
    "                         n_jobs=1)\n",
    "print('CV accuracy scores: %s' % scores)\n",
    "print('CV accuracy: %.3f +/- %.3f' % (np.mean(scores), np.std(scores)))"
   ]
  },
  {
   "cell_type": "code",
   "execution_count": null,
   "metadata": {},
   "outputs": [],
   "source": [
    "import matplotlib.pyplot as plt\n",
    "from sklearn.model_selection import learning_curve\n",
    "\n",
    "\n",
    "pipe_lr = make_pipeline(StandardScaler(),\n",
    "                        LogisticRegression(penalty='l2', random_state=1,\n",
    "                                           solver='lbfgs', max_iter=10000))\n",
    "\n",
    "train_sizes, train_scores, test_scores =\\\n",
    "                learning_curve(estimator=pipe_lr,\n",
    "                               X=X_train,\n",
    "                               y=y_train,\n",
    "                               train_sizes=np.linspace(0.1, 1.0, 10),\n",
    "                               cv=10,\n",
    "                               n_jobs=1)\n",
    "\n",
    "train_mean = np.mean(train_scores, axis=1)\n",
    "train_std = np.std(train_scores, axis=1)\n",
    "test_mean = np.mean(test_scores, axis=1)\n",
    "test_std = np.std(test_scores, axis=1)\n",
    "\n",
    "plt.plot(train_sizes, train_mean,\n",
    "         color='blue', marker='o',\n",
    "         markersize=5, label='Training accuracy')\n",
    "\n",
    "plt.fill_between(train_sizes,\n",
    "                 train_mean + train_std,\n",
    "                 train_mean - train_std,\n",
    "                 alpha=0.15, color='blue')\n",
    "\n",
    "plt.plot(train_sizes, test_mean,\n",
    "         color='green', linestyle='--',\n",
    "         marker='s', markersize=5,\n",
    "         label='Validation accuracy')\n",
    "\n",
    "plt.fill_between(train_sizes,\n",
    "                 test_mean + test_std,\n",
    "                 test_mean - test_std,\n",
    "                 alpha=0.15, color='green')\n",
    "\n",
    "plt.grid()\n",
    "plt.xlabel('Number of training examples')\n",
    "plt.ylabel('Accuracy')\n",
    "plt.legend(loc='lower right')\n",
    "plt.ylim([0.8, 1.03])\n",
    "plt.tight_layout()\n",
    "# plt.savefig('images/06_05.png', dpi=300)\n",
    "plt.show()"
   ]
  },
  {
   "cell_type": "code",
   "execution_count": 112,
   "metadata": {},
   "outputs": [],
   "source": [
    "from sklearn.preprocessing import PolynomialFeatures"
   ]
  },
  {
   "cell_type": "code",
   "execution_count": 113,
   "metadata": {},
   "outputs": [],
   "source": [
    "pf = PolynomialFeatures(4)"
   ]
  },
  {
   "cell_type": "code",
   "execution_count": 117,
   "metadata": {},
   "outputs": [
    {
     "ename": "ValueError",
     "evalue": "Expected 2D array, got 1D array instead:\narray=[ 0.97627008  4.30378733  2.05526752  0.89766366 -1.52690401  2.91788226\n -1.24825577  7.83546002  9.27325521 -2.33116962  5.83450076  0.5778984\n  1.36089122  8.51193277 -8.57927884 -8.25741401 -9.59563205  6.65239691\n  5.56313502  7.40024296  9.57236684  5.98317128 -0.77041275  5.61058353\n -7.63451148  2.79842043 -7.13293425  8.89337834  0.43696644 -1.7067612\n -4.70888776  5.48467379 -0.87699336  1.36867898 -9.62420399  2.35270994\n  2.24191445  2.33867994  8.87496157  3.63640598 -2.80984199 -1.25936092\n  3.95262392 -8.79549057  3.33533431  3.41275739 -5.79234878 -7.42147405\n -3.69143298 -2.72578458  1.40393541 -1.22796973  9.76747676 -7.95910379\n -5.82246488 -6.77380964  3.06216651 -4.93416795 -0.67378454 -5.11148816\n -6.82060833 -7.79249718  3.12659179 -7.23634097 -6.06835277 -2.62549659\n  6.4198646  -8.05797448  6.75889815 -8.07803184  9.5291893  -0.62697597\n  9.53522176  2.09691039  4.78527159 -9.21624415 -4.34386075 -7.59606878\n -4.07719605 -7.62544562 -3.64033641 -1.71474011 -8.71705007  3.84944239\n  1.33202908 -4.69221018  0.46496107 -8.12118978  1.51892991  8.58592395\n -3.62862095  3.3482076  -7.36404275  4.32654408 -4.21187814 -6.33617276\n  1.7302587  -9.59784908  6.57880058 -9.90609048].\nReshape your data either using array.reshape(-1, 1) if your data has a single feature or array.reshape(1, -1) if it contains a single sample.",
     "output_type": "error",
     "traceback": [
      "\u001b[0;31m---------------------------------------------------------------------------\u001b[0m",
      "\u001b[0;31mValueError\u001b[0m                                Traceback (most recent call last)",
      "\u001b[0;32m<ipython-input-117-4b961be6c949>\u001b[0m in \u001b[0;36m<module>\u001b[0;34m\u001b[0m\n\u001b[0;32m----> 1\u001b[0;31m \u001b[0mpf\u001b[0m\u001b[0;34m.\u001b[0m\u001b[0mfit_transform\u001b[0m\u001b[0;34m(\u001b[0m\u001b[0mX\u001b[0m\u001b[0;34m[\u001b[0m\u001b[0;34m:\u001b[0m\u001b[0;34m,\u001b[0m\u001b[0;36m0\u001b[0m\u001b[0;34m]\u001b[0m\u001b[0;34m)\u001b[0m\u001b[0;34m.\u001b[0m\u001b[0mshape\u001b[0m\u001b[0;34m\u001b[0m\u001b[0;34m\u001b[0m\u001b[0m\n\u001b[0m",
      "\u001b[0;32m/anaconda/lib/python3.6/site-packages/sklearn/base.py\u001b[0m in \u001b[0;36mfit_transform\u001b[0;34m(self, X, y, **fit_params)\u001b[0m\n\u001b[1;32m    551\u001b[0m         \u001b[0;32mif\u001b[0m \u001b[0my\u001b[0m \u001b[0;32mis\u001b[0m \u001b[0;32mNone\u001b[0m\u001b[0;34m:\u001b[0m\u001b[0;34m\u001b[0m\u001b[0;34m\u001b[0m\u001b[0m\n\u001b[1;32m    552\u001b[0m             \u001b[0;31m# fit method of arity 1 (unsupervised transformation)\u001b[0m\u001b[0;34m\u001b[0m\u001b[0;34m\u001b[0m\u001b[0;34m\u001b[0m\u001b[0m\n\u001b[0;32m--> 553\u001b[0;31m             \u001b[0;32mreturn\u001b[0m \u001b[0mself\u001b[0m\u001b[0;34m.\u001b[0m\u001b[0mfit\u001b[0m\u001b[0;34m(\u001b[0m\u001b[0mX\u001b[0m\u001b[0;34m,\u001b[0m \u001b[0;34m**\u001b[0m\u001b[0mfit_params\u001b[0m\u001b[0;34m)\u001b[0m\u001b[0;34m.\u001b[0m\u001b[0mtransform\u001b[0m\u001b[0;34m(\u001b[0m\u001b[0mX\u001b[0m\u001b[0;34m)\u001b[0m\u001b[0;34m\u001b[0m\u001b[0;34m\u001b[0m\u001b[0m\n\u001b[0m\u001b[1;32m    554\u001b[0m         \u001b[0;32melse\u001b[0m\u001b[0;34m:\u001b[0m\u001b[0;34m\u001b[0m\u001b[0;34m\u001b[0m\u001b[0m\n\u001b[1;32m    555\u001b[0m             \u001b[0;31m# fit method of arity 2 (supervised transformation)\u001b[0m\u001b[0;34m\u001b[0m\u001b[0;34m\u001b[0m\u001b[0;34m\u001b[0m\u001b[0m\n",
      "\u001b[0;32m/anaconda/lib/python3.6/site-packages/sklearn/preprocessing/data.py\u001b[0m in \u001b[0;36mfit\u001b[0;34m(self, X, y)\u001b[0m\n\u001b[1;32m   1463\u001b[0m         \u001b[0mself\u001b[0m \u001b[0;34m:\u001b[0m \u001b[0minstance\u001b[0m\u001b[0;34m\u001b[0m\u001b[0;34m\u001b[0m\u001b[0m\n\u001b[1;32m   1464\u001b[0m         \"\"\"\n\u001b[0;32m-> 1465\u001b[0;31m         \u001b[0mn_samples\u001b[0m\u001b[0;34m,\u001b[0m \u001b[0mn_features\u001b[0m \u001b[0;34m=\u001b[0m \u001b[0mcheck_array\u001b[0m\u001b[0;34m(\u001b[0m\u001b[0mX\u001b[0m\u001b[0;34m,\u001b[0m \u001b[0maccept_sparse\u001b[0m\u001b[0;34m=\u001b[0m\u001b[0;32mTrue\u001b[0m\u001b[0;34m)\u001b[0m\u001b[0;34m.\u001b[0m\u001b[0mshape\u001b[0m\u001b[0;34m\u001b[0m\u001b[0;34m\u001b[0m\u001b[0m\n\u001b[0m\u001b[1;32m   1466\u001b[0m         combinations = self._combinations(n_features, self.degree,\n\u001b[1;32m   1467\u001b[0m                                           \u001b[0mself\u001b[0m\u001b[0;34m.\u001b[0m\u001b[0minteraction_only\u001b[0m\u001b[0;34m,\u001b[0m\u001b[0;34m\u001b[0m\u001b[0;34m\u001b[0m\u001b[0m\n",
      "\u001b[0;32m/anaconda/lib/python3.6/site-packages/sklearn/utils/validation.py\u001b[0m in \u001b[0;36mcheck_array\u001b[0;34m(array, accept_sparse, accept_large_sparse, dtype, order, copy, force_all_finite, ensure_2d, allow_nd, ensure_min_samples, ensure_min_features, warn_on_dtype, estimator)\u001b[0m\n\u001b[1;32m    519\u001b[0m                     \u001b[0;34m\"Reshape your data either using array.reshape(-1, 1) if \"\u001b[0m\u001b[0;34m\u001b[0m\u001b[0;34m\u001b[0m\u001b[0m\n\u001b[1;32m    520\u001b[0m                     \u001b[0;34m\"your data has a single feature or array.reshape(1, -1) \"\u001b[0m\u001b[0;34m\u001b[0m\u001b[0;34m\u001b[0m\u001b[0m\n\u001b[0;32m--> 521\u001b[0;31m                     \"if it contains a single sample.\".format(array))\n\u001b[0m\u001b[1;32m    522\u001b[0m \u001b[0;34m\u001b[0m\u001b[0m\n\u001b[1;32m    523\u001b[0m         \u001b[0;31m# in the future np.flexible dtypes will be handled like object dtypes\u001b[0m\u001b[0;34m\u001b[0m\u001b[0;34m\u001b[0m\u001b[0;34m\u001b[0m\u001b[0m\n",
      "\u001b[0;31mValueError\u001b[0m: Expected 2D array, got 1D array instead:\narray=[ 0.97627008  4.30378733  2.05526752  0.89766366 -1.52690401  2.91788226\n -1.24825577  7.83546002  9.27325521 -2.33116962  5.83450076  0.5778984\n  1.36089122  8.51193277 -8.57927884 -8.25741401 -9.59563205  6.65239691\n  5.56313502  7.40024296  9.57236684  5.98317128 -0.77041275  5.61058353\n -7.63451148  2.79842043 -7.13293425  8.89337834  0.43696644 -1.7067612\n -4.70888776  5.48467379 -0.87699336  1.36867898 -9.62420399  2.35270994\n  2.24191445  2.33867994  8.87496157  3.63640598 -2.80984199 -1.25936092\n  3.95262392 -8.79549057  3.33533431  3.41275739 -5.79234878 -7.42147405\n -3.69143298 -2.72578458  1.40393541 -1.22796973  9.76747676 -7.95910379\n -5.82246488 -6.77380964  3.06216651 -4.93416795 -0.67378454 -5.11148816\n -6.82060833 -7.79249718  3.12659179 -7.23634097 -6.06835277 -2.62549659\n  6.4198646  -8.05797448  6.75889815 -8.07803184  9.5291893  -0.62697597\n  9.53522176  2.09691039  4.78527159 -9.21624415 -4.34386075 -7.59606878\n -4.07719605 -7.62544562 -3.64033641 -1.71474011 -8.71705007  3.84944239\n  1.33202908 -4.69221018  0.46496107 -8.12118978  1.51892991  8.58592395\n -3.62862095  3.3482076  -7.36404275  4.32654408 -4.21187814 -6.33617276\n  1.7302587  -9.59784908  6.57880058 -9.90609048].\nReshape your data either using array.reshape(-1, 1) if your data has a single feature or array.reshape(1, -1) if it contains a single sample."
     ]
    }
   ],
   "source": [
    "pf.fit_transform(X[:,0]).shape"
   ]
  },
  {
   "cell_type": "code",
   "execution_count": null,
   "metadata": {},
   "outputs": [],
   "source": []
  },
  {
   "cell_type": "code",
   "execution_count": null,
   "metadata": {},
   "outputs": [],
   "source": []
  },
  {
   "cell_type": "code",
   "execution_count": null,
   "metadata": {},
   "outputs": [],
   "source": []
  },
  {
   "cell_type": "code",
   "execution_count": null,
   "metadata": {},
   "outputs": [],
   "source": []
  },
  {
   "cell_type": "code",
   "execution_count": null,
   "metadata": {},
   "outputs": [],
   "source": []
  },
  {
   "cell_type": "code",
   "execution_count": null,
   "metadata": {},
   "outputs": [],
   "source": []
  },
  {
   "cell_type": "code",
   "execution_count": null,
   "metadata": {},
   "outputs": [],
   "source": []
  },
  {
   "cell_type": "code",
   "execution_count": null,
   "metadata": {},
   "outputs": [],
   "source": []
  },
  {
   "cell_type": "code",
   "execution_count": null,
   "metadata": {},
   "outputs": [],
   "source": []
  },
  {
   "cell_type": "code",
   "execution_count": null,
   "metadata": {},
   "outputs": [],
   "source": []
  },
  {
   "cell_type": "code",
   "execution_count": null,
   "metadata": {},
   "outputs": [],
   "source": []
  },
  {
   "cell_type": "code",
   "execution_count": null,
   "metadata": {},
   "outputs": [],
   "source": []
  }
 ],
 "metadata": {
  "kernelspec": {
   "display_name": "Python 3",
   "language": "python",
   "name": "python3"
  },
  "language_info": {
   "codemirror_mode": {
    "name": "ipython",
    "version": 3
   },
   "file_extension": ".py",
   "mimetype": "text/x-python",
   "name": "python",
   "nbconvert_exporter": "python",
   "pygments_lexer": "ipython3",
   "version": "3.6.9"
  }
 },
 "nbformat": 4,
 "nbformat_minor": 4
}
