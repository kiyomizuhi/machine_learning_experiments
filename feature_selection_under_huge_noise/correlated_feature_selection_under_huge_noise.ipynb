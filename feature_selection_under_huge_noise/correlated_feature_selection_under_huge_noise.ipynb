{
 "cells": [
  {
   "cell_type": "code",
   "execution_count": 1,
   "metadata": {},
   "outputs": [],
   "source": [
    "import numpy as np\n",
    "import pandas as pd\n",
    "import matplotlib.pyplot as plt\n",
    "from IPython.display import display"
   ]
  },
  {
   "cell_type": "code",
   "execution_count": 2,
   "metadata": {},
   "outputs": [
    {
     "name": "stdout",
     "output_type": "stream",
     "text": [
      "(1000, 3)\n"
     ]
    },
    {
     "data": {
      "text/html": [
       "<div>\n",
       "<style>\n",
       "    .dataframe thead tr:only-child th {\n",
       "        text-align: right;\n",
       "    }\n",
       "\n",
       "    .dataframe thead th {\n",
       "        text-align: left;\n",
       "    }\n",
       "\n",
       "    .dataframe tbody tr th {\n",
       "        vertical-align: top;\n",
       "    }\n",
       "</style>\n",
       "<table border=\"1\" class=\"dataframe\">\n",
       "  <thead>\n",
       "    <tr style=\"text-align: right;\">\n",
       "      <th></th>\n",
       "      <th>y</th>\n",
       "      <th>x_00</th>\n",
       "      <th>x_01</th>\n",
       "    </tr>\n",
       "  </thead>\n",
       "  <tbody>\n",
       "    <tr>\n",
       "      <th>0</th>\n",
       "      <td>0.618795</td>\n",
       "      <td>1764.671141</td>\n",
       "      <td>400.748832</td>\n",
       "    </tr>\n",
       "    <tr>\n",
       "      <th>1</th>\n",
       "      <td>0.888684</td>\n",
       "      <td>979.626668</td>\n",
       "      <td>2241.784854</td>\n",
       "    </tr>\n",
       "    <tr>\n",
       "      <th>2</th>\n",
       "      <td>0.457567</td>\n",
       "      <td>1868.015558</td>\n",
       "      <td>-976.499692</td>\n",
       "    </tr>\n",
       "    <tr>\n",
       "      <th>3</th>\n",
       "      <td>0.267064</td>\n",
       "      <td>950.355481</td>\n",
       "      <td>-150.361102</td>\n",
       "    </tr>\n",
       "    <tr>\n",
       "      <th>4</th>\n",
       "      <td>0.540095</td>\n",
       "      <td>-102.678757</td>\n",
       "      <td>411.136024</td>\n",
       "    </tr>\n",
       "  </tbody>\n",
       "</table>\n",
       "</div>"
      ],
      "text/plain": [
       "          y         x_00         x_01\n",
       "0  0.618795  1764.671141   400.748832\n",
       "1  0.888684   979.626668  2241.784854\n",
       "2  0.457567  1868.015558  -976.499692\n",
       "3  0.267064   950.355481  -150.361102\n",
       "4  0.540095  -102.678757   411.136024"
      ]
     },
     "execution_count": 2,
     "metadata": {},
     "output_type": "execute_result"
    }
   ],
   "source": [
    "def generate_dataset(num_samples, num_features, std, seed=0):\n",
    "    \"\"\"\n",
    "    generate dataset of features and target\n",
    "\n",
    "    Args:\n",
    "        num_samples: number of samples\n",
    "        num_features: number of features\n",
    "        std: std of normal noise added to the data\n",
    "        seed: random seed\n",
    "    \n",
    "    Output:\n",
    "        df: dataframe containing the data of features and target\n",
    "        idx: index of the feature that correlates with the target\n",
    "        \n",
    "    \"\"\"\n",
    "    # set random seed\n",
    "    np.random.seed(1234567890)\n",
    "    \n",
    "    # first, generate uniformly random number between 0 and 1\n",
    "    x = np.random.rand(num_samples, num_features)\n",
    "    \n",
    "    # set random seed\n",
    "    np.random.seed(seed)\n",
    "    \n",
    "    # copy the first feature as the target variable\n",
    "    y = x[:, 0].copy()\n",
    "    \n",
    "    # add the normally distributed noise to the each data\n",
    "    x += np.random.normal(size=(num_samples, num_features), scale=std)\n",
    "    \n",
    "    # concat x and y to make a dataframe\n",
    "    Xy = np.hstack((y[:, np.newaxis], x))\n",
    "\n",
    "    # column names for the features\n",
    "    colsx = ['x_{:0>2d}'.format(i) for i in range(x.shape[1])]\n",
    "    df = pd.DataFrame(Xy, columns=['y', *colsx])\n",
    "    return df\n",
    "\n",
    "num_features = 2\n",
    "num_samples = 1000\n",
    "std = 1000\n",
    "df = generate_dataset(num_samples, num_features, std, seed=0)\n",
    "\n",
    "# fig, ax = plt.subplots(1, 1, figsize=(4, 4))\n",
    "# ax.scatter(x[:, 0], x[:, 1], s=2)\n",
    "# plt.show()\n",
    "\n",
    "print(df.shape)\n",
    "df.head()"
   ]
  },
  {
   "cell_type": "markdown",
   "metadata": {},
   "source": [
    "# First case: num_features = 2"
   ]
  },
  {
   "cell_type": "code",
   "execution_count": 13,
   "metadata": {},
   "outputs": [],
   "source": [
    "def compute_correlations_over_seeds(num_rounds, num_features, num_samples, std):\n",
    "    \"\"\"\n",
    "    compute correlations between each feature and the target for a given std\n",
    "\n",
    "    Args:\n",
    "        num_samples: number of samples\n",
    "        num_features: number of features\n",
    "        num_rounds: number of rounds to compute the correlations with a given seed\n",
    "        std: std of normal noise added to the data\n",
    "    \n",
    "    Output:\n",
    "        corr: (num_rounds, num_features)\n",
    "              computed correlations\n",
    "        \n",
    "    \"\"\"\n",
    "    corr = np.zeros((num_rounds, num_features))\n",
    "    ans = np.zeros(num_rounds)\n",
    "    for j in range(num_rounds):\n",
    "        # use j as the seed for this round\n",
    "        df = generate_dataset(num_samples, num_features, std, seed=j)\n",
    "        corr[j, :] = df.corr().iloc[0, 1:].values\n",
    "    del df\n",
    "    return corr\n",
    "\n",
    "def simulate_over_stds(num_rounds, num_features, num_samples, stds):\n",
    "    \"\"\"\n",
    "    compute correlations between each feature and the target for a given std\n",
    "\n",
    "    Args:\n",
    "        num_samples: number of samples\n",
    "        num_features: number of features\n",
    "        num_rounds: number of rounds to compute the correlations with a given seed\n",
    "        stds: 'std's of normal noise added to the data\n",
    "    \n",
    "    Output:\n",
    "        precs: (num_stds,)\n",
    "               computed precision for each std\n",
    "        corr: (num_stds, num_rounds, num_features)\n",
    "              computed correlations\n",
    "        \n",
    "    \"\"\"\n",
    "    num_stds = stds.shape[0]\n",
    "    precs = np.zeros(num_stds)\n",
    "    corrs = np.zeros((num_stds, num_rounds, num_features))\n",
    "    for i, std in enumerate(stds):\n",
    "        corr = compute_correlations_over_seeds(num_rounds, num_features, num_samples, std)\n",
    "        # take the feature that correlates the most to the target as the answer\n",
    "        precs[i] = (np.argmax(corr, axis=1) == 0).sum() / num_rounds\n",
    "        corrs[i, :, :] = corr\n",
    "    return precs, corrs\n",
    "\n",
    "stds = np.power(2., np.arange(20))\n",
    "num_rounds = 1000\n",
    "num_samples = 10000\n",
    "num_features = 2\n",
    "precs, corrs = simulate_over_stds(num_rounds, num_features, num_samples, stds)"
   ]
  },
  {
   "cell_type": "markdown",
   "metadata": {},
   "source": [
    "### Plot std vs precsion\n",
    "### Here, we expected precision converge to 0.5."
   ]
  },
  {
   "cell_type": "code",
   "execution_count": 14,
   "metadata": {},
   "outputs": [
    {
     "name": "stdout",
     "output_type": "stream",
     "text": [
      "[1.    1.    1.    0.997 0.909 0.771 0.654 0.583 0.551 0.53  0.518 0.513\n",
      " 0.512 0.512 0.512 0.512 0.512 0.512 0.512 0.512]\n"
     ]
    },
    {
     "data": {
      "image/png": "[encoded data removed]",
      "text/plain": [
       "<matplotlib.figure.Figure at 0x118c70438>"
      ]
     },
     "metadata": {},
     "output_type": "display_data"
    }
   ],
   "source": [
    "fig, ax = plt.subplots(1, 1, figsize=(4, 4))\n",
    "ax.scatter(stds, precs, s=20)\n",
    "ax.set_xscale('log')\n",
    "ax.set_ylim((-0.05, 1.05))\n",
    "ax.set_yticks(np.arange(0, 1.1, 0.1))\n",
    "xmin, xmax = ax.get_xlim()\n",
    "ax.hlines(y=[0.0, 0.5, 1.0], xmin=xmin, xmax=xmax, color='green', linewidth=1, alpha=0.4)\n",
    "ax.set_xlim((xmin, xmax))\n",
    "ax.set_xlabel('std (log scale)')\n",
    "ax.set_ylabel('precision')\n",
    "print(precs)\n",
    "plt.show()"
   ]
  },
  {
   "cell_type": "markdown",
   "metadata": {},
   "source": [
    "# Can we tell which feature correlates with the target for a given dataset?"
   ]
  },
  {
   "cell_type": "code",
   "execution_count": 29,
   "metadata": {},
   "outputs": [
    {
     "data": {
      "text/html": [
       "<div>\n",
       "<style>\n",
       "    .dataframe thead tr:only-child th {\n",
       "        text-align: right;\n",
       "    }\n",
       "\n",
       "    .dataframe thead th {\n",
       "        text-align: left;\n",
       "    }\n",
       "\n",
       "    .dataframe tbody tr th {\n",
       "        vertical-align: top;\n",
       "    }\n",
       "</style>\n",
       "<table border=\"1\" class=\"dataframe\">\n",
       "  <thead>\n",
       "    <tr style=\"text-align: right;\">\n",
       "      <th></th>\n",
       "      <th>y</th>\n",
       "      <th>x_00</th>\n",
       "      <th>x_01</th>\n",
       "    </tr>\n",
       "  </thead>\n",
       "  <tbody>\n",
       "    <tr>\n",
       "      <th>0</th>\n",
       "      <td>0.618795</td>\n",
       "      <td>1807.008397</td>\n",
       "      <td>410.352605</td>\n",
       "    </tr>\n",
       "    <tr>\n",
       "      <th>1</th>\n",
       "      <td>0.888684</td>\n",
       "      <td>1003.116379</td>\n",
       "      <td>2295.566291</td>\n",
       "    </tr>\n",
       "    <tr>\n",
       "      <th>2</th>\n",
       "      <td>0.457567</td>\n",
       "      <td>1912.836949</td>\n",
       "      <td>-999.954361</td>\n",
       "    </tr>\n",
       "  </tbody>\n",
       "</table>\n",
       "</div>"
      ],
      "text/plain": [
       "          y         x_00         x_01\n",
       "0  0.618795  1807.008397   410.352605\n",
       "1  0.888684  1003.116379  2295.566291\n",
       "2  0.457567  1912.836949  -999.954361"
      ]
     },
     "metadata": {},
     "output_type": "display_data"
    },
    {
     "data": {
      "image/png": "[encoded data removed]",
      "text/plain": [
       "<matplotlib.figure.Figure at 0x119330550>"
      ]
     },
     "metadata": {},
     "output_type": "display_data"
    }
   ],
   "source": [
    "std = np.power(2., 10)\n",
    "num_samples = 10000\n",
    "num_features = 2\n",
    "\n",
    "df = generate_dataset(num_samples, num_features, std)\n",
    "display(df.head(3))\n",
    "fig, ax = plt.subplots(1, 1, figsize=(4, 4))\n",
    "ax.scatter(df['x_00'].values, df['x_01'].values, s=4, alpha=0.05)\n",
    "plt.show()"
   ]
  },
  {
   "cell_type": "code",
   "execution_count": 42,
   "metadata": {},
   "outputs": [],
   "source": [
    "num_iters = 10000\n",
    "corrs = np.zeros((num_iters, num_features))\n",
    "for i in range(num_iters):\n",
    "    df_ = df.sample(frac=1., replace=True, random_state=i)\n",
    "    corrs[i, :] = df_.corr().iloc[0, 1:].values\n",
    "\n",
    "colsx = ['x_{:0>2d}'.format(i) for i in range(num_features)]\n",
    "df_corr = pd.DataFrame(corrs, columns=colsx)"
   ]
  },
  {
   "cell_type": "code",
   "execution_count": 43,
   "metadata": {},
   "outputs": [
    {
     "data": {
      "text/plain": [
       "x_00    0.003129\n",
       "x_01   -0.007184\n",
       "dtype: float64"
      ]
     },
     "execution_count": 43,
     "metadata": {},
     "output_type": "execute_result"
    }
   ],
   "source": [
    "df_corr.mean(axis=0)"
   ]
  },
  {
   "cell_type": "code",
   "execution_count": 44,
   "metadata": {},
   "outputs": [
    {
     "data": {
      "image/png": "[encoded data removed]",
      "text/plain": [
       "<matplotlib.figure.Figure at 0x10f59e320>"
      ]
     },
     "metadata": {},
     "output_type": "display_data"
    }
   ],
   "source": [
    "fig, ax = plt.subplots(1, 1, figsize=(8,4))\n",
    "df_corr['x_00'].hist(bins=np.linspace(-0.05, 0.1, 151), color='blue', ax=ax, alpha=0.6)\n",
    "df_corr['x_01'].hist(bins=np.linspace(-0.05, 0.1, 151), color='red', ax=ax, alpha=0.6)\n",
    "plt.legend(['x_00', 'x_01'])\n",
    "plt.show()"
   ]
  },
  {
   "cell_type": "code",
   "execution_count": 52,
   "metadata": {},
   "outputs": [
    {
     "name": "stdout",
     "output_type": "stream",
     "text": [
      "-0.0160, 0.003, 0.0228\n"
     ]
    }
   ],
   "source": [
    "xl = df_corr['x_00'].quantile(q=0.025, interpolation='linear')\n",
    "xu = df_corr['x_00'].quantile(q=0.975, interpolation='linear')\n",
    "xm = df_corr['x_00'].mean()\n",
    "print('{:5.4f}, {:5.3f}, {:5.4f}'.format(xl, xm, xu))"
   ]
  },
  {
   "cell_type": "code",
   "execution_count": 53,
   "metadata": {},
   "outputs": [
    {
     "name": "stdout",
     "output_type": "stream",
     "text": [
      "-0.0267, -0.007, 0.0123\n"
     ]
    }
   ],
   "source": [
    "xl = df_corr['x_01'].quantile(q=0.025, interpolation='linear')\n",
    "xu = df_corr['x_01'].quantile(q=0.975, interpolation='linear')\n",
    "xm = df_corr['x_01'].mean()\n",
    "print('{:5.4f}, {:5.3f}, {:5.4f}'.format(xl, xm, xu))"
   ]
  },
  {
   "cell_type": "code",
   "execution_count": 54,
   "metadata": {},
   "outputs": [
    {
     "data": {
      "text/plain": [
       "0.0009765620343390458"
      ]
     },
     "execution_count": 54,
     "metadata": {},
     "output_type": "execute_result"
    }
   ],
   "source": [
    "1/np.sqrt(1 + std**2)"
   ]
  },
  {
   "cell_type": "code",
   "execution_count": 55,
   "metadata": {},
   "outputs": [
    {
     "data": {
      "text/plain": [
       "0.009966978329203858"
      ]
     },
     "execution_count": 55,
     "metadata": {},
     "output_type": "execute_result"
    }
   ],
   "source": [
    "df_corr['x_00'].std()"
   ]
  },
  {
   "cell_type": "code",
   "execution_count": 56,
   "metadata": {},
   "outputs": [
    {
     "data": {
      "text/plain": [
       "0.010018310576286734"
      ]
     },
     "execution_count": 56,
     "metadata": {},
     "output_type": "execute_result"
    }
   ],
   "source": [
    "df_corr['x_01'].std()"
   ]
  },
  {
   "cell_type": "code",
   "execution_count": 57,
   "metadata": {},
   "outputs": [
    {
     "data": {
      "text/html": [
       "<div>\n",
       "<style>\n",
       "    .dataframe thead tr:only-child th {\n",
       "        text-align: right;\n",
       "    }\n",
       "\n",
       "    .dataframe thead th {\n",
       "        text-align: left;\n",
       "    }\n",
       "\n",
       "    .dataframe tbody tr th {\n",
       "        vertical-align: top;\n",
       "    }\n",
       "</style>\n",
       "<table border=\"1\" class=\"dataframe\">\n",
       "  <thead>\n",
       "    <tr style=\"text-align: right;\">\n",
       "      <th></th>\n",
       "      <th>y</th>\n",
       "      <th>x_00</th>\n",
       "      <th>x_01</th>\n",
       "    </tr>\n",
       "  </thead>\n",
       "  <tbody>\n",
       "    <tr>\n",
       "      <th>0</th>\n",
       "      <td>0.618795</td>\n",
       "      <td>1807.008397</td>\n",
       "      <td>410.352605</td>\n",
       "    </tr>\n",
       "    <tr>\n",
       "      <th>1</th>\n",
       "      <td>0.888684</td>\n",
       "      <td>1003.116379</td>\n",
       "      <td>2295.566291</td>\n",
       "    </tr>\n",
       "    <tr>\n",
       "      <th>2</th>\n",
       "      <td>0.457567</td>\n",
       "      <td>1912.836949</td>\n",
       "      <td>-999.954361</td>\n",
       "    </tr>\n",
       "    <tr>\n",
       "      <th>3</th>\n",
       "      <td>0.267064</td>\n",
       "      <td>973.157603</td>\n",
       "      <td>-153.993675</td>\n",
       "    </tr>\n",
       "    <tr>\n",
       "      <th>4</th>\n",
       "      <td>0.540095</td>\n",
       "      <td>-105.156009</td>\n",
       "      <td>420.990388</td>\n",
       "    </tr>\n",
       "  </tbody>\n",
       "</table>\n",
       "</div>"
      ],
      "text/plain": [
       "          y         x_00         x_01\n",
       "0  0.618795  1807.008397   410.352605\n",
       "1  0.888684  1003.116379  2295.566291\n",
       "2  0.457567  1912.836949  -999.954361\n",
       "3  0.267064   973.157603  -153.993675\n",
       "4  0.540095  -105.156009   420.990388"
      ]
     },
     "execution_count": 57,
     "metadata": {},
     "output_type": "execute_result"
    }
   ],
   "source": [
    "df.head()"
   ]
  },
  {
   "cell_type": "code",
   "execution_count": 58,
   "metadata": {},
   "outputs": [
    {
     "data": {
      "text/plain": [
       "-10.237276886254008"
      ]
     },
     "execution_count": 58,
     "metadata": {},
     "output_type": "execute_result"
    }
   ],
   "source": [
    "df['x_00'].mean()"
   ]
  },
  {
   "cell_type": "code",
   "execution_count": 59,
   "metadata": {},
   "outputs": [
    {
     "data": {
      "text/plain": [
       "1018.8486126841706"
      ]
     },
     "execution_count": 59,
     "metadata": {},
     "output_type": "execute_result"
    }
   ],
   "source": [
    "df['x_00'].std()"
   ]
  },
  {
   "cell_type": "code",
   "execution_count": 60,
   "metadata": {},
   "outputs": [
    {
     "data": {
      "text/plain": [
       "3.614117936350407"
      ]
     },
     "execution_count": 60,
     "metadata": {},
     "output_type": "execute_result"
    }
   ],
   "source": [
    "df['x_01'].mean()"
   ]
  },
  {
   "cell_type": "code",
   "execution_count": 61,
   "metadata": {},
   "outputs": [
    {
     "data": {
      "text/plain": [
       "1009.5634329809135"
      ]
     },
     "execution_count": 61,
     "metadata": {},
     "output_type": "execute_result"
    }
   ],
   "source": [
    "df['x_01'].std()"
   ]
  },
  {
   "cell_type": "code",
   "execution_count": null,
   "metadata": {},
   "outputs": [],
   "source": []
  },
  {
   "cell_type": "code",
   "execution_count": null,
   "metadata": {},
   "outputs": [],
   "source": []
  }
 ],
 "metadata": {
  "kernelspec": {
   "display_name": "Python 3",
   "language": "python",
   "name": "python3"
  },
  "language_info": {
   "codemirror_mode": {
    "name": "ipython",
    "version": 3
   },
   "file_extension": ".py",
   "mimetype": "text/x-python",
   "name": "python",
   "nbconvert_exporter": "python",
   "pygments_lexer": "ipython3",
   "version": "3.6.8"
  }
 },
 "nbformat": 4,
 "nbformat_minor": 2
}
